{
  "nbformat": 4,
  "nbformat_minor": 0,
  "metadata": {
    "colab": {
      "name": "Churn Prediction para uma empresa de Telecomunicações.ipynb",
      "provenance": [],
      "collapsed_sections": [],
      "toc_visible": true,
      "include_colab_link": true
    },
    "kernelspec": {
      "name": "python3",
      "display_name": "Python 3"
    }
  },
  "cells": [
    {
      "cell_type": "markdown",
      "metadata": {
        "id": "view-in-github",
        "colab_type": "text"
      },
      "source": [
        "<a href=\"https://colab.research.google.com/github/carvalhopinheiro/Portfolio/blob/main/Churn_Prediction_para_uma_empresa_de_Telecomunica%C3%A7%C3%B5es.ipynb\" target=\"_parent\"><img src=\"https://colab.research.google.com/assets/colab-badge.svg\" alt=\"Open In Colab\"/></a>"
      ]
    },
    {
      "cell_type": "markdown",
      "metadata": {
        "id": "sC2BFMOKN1M7"
      },
      "source": [
        "---\n",
        "<img alt=\"Colaboratory logo\" width=\"15%\" src=\"https://github.com/PAlab0/PAlab0/blob/main/logo.png?raw=true\">\n",
        "\n",
        "\n",
        "*by [Paulo Victor](https://www.linkedin.com/in/carvalhopinheiro/)*\n",
        "\n",
        "---"
      ]
    },
    {
      "cell_type": "markdown",
      "metadata": {
        "id": "IR56trFcPcC1"
      },
      "source": [
        "# Churn Prediction (Taxa de Rotatividade)\n",
        "***Churn rate***, ou simplesmente *churn*, representa a taxa de rotatividade ou evasão da sua base de clientes, ou seja, **indica o número de clientes que cancelam em determinado período de tempo**. Em serviços como Spotify ou Netflix, ela representaria a taxa de cancelamento de assinaturas. Entender por que seus clientes abandonam o seu produto ou serviço é vital para conquistar um crescimento sustentável, como o Churn tem um efeito negativo na receita de uma empresa, entender o que é esse indicador e como trabalhar para mitigar essa métrica é algo crítico para o sucesso de muitos negócios.\n",
        "\n",
        "\n",
        "<p align=center>\n",
        "<img src=\"https://github.com/carvalhopinheiro/Coisas-Salvas/blob/main/1.png?raw=true\" width=\"100%\"></p>\n",
        "\n",
        "\n",
        "\n",
        "**Qual a taxa ideal de Churn?**\n",
        "* De modo geral, a empresa Bessemer Venture Partners, que está sediada no Vale do Silício e gerencia mais de $ 4 bilhões em investimentos ao redor do mundo, indica que uma **taxa de cancelamento aceitável deve ficar entre 5% e 7%**. Muitos negócios costumam ter essa média como base.\n",
        "\n",
        "**Por que fazer Churn Prediction?**\n",
        "\n",
        "Uma das soluções mais eficientes oferecidas pelo Big Data é o Churn Prediction, ou seja, a previsão do abandono de um serviço pelo cliente. Essa aplicação é realizada por meio de machine learning (método de análise de dados que faz uso automatizado de algoritmos que aprendem interativamente e encontram insights), a partir da análise da rotatividade da base de usuários propensos a desistir do que você oferece ao mercado.\n",
        "\n",
        "Ao colocar em prática o conceito de Churn Prediction em sua empresa, será possível criar ações ou campanhas específicas para reter esses clientes e evitar, dessa forma, uma queda no número de conversões – e, consequentemente, no faturamento da empresa.\n",
        "\n",
        "Outro ponto positivo da aplicação do Churn Prediction é a possibilidade da **redução de custos** e observação de novas oportunidades com **potenciais clientes**. Quando você consegue ter um overview do comportamento de seus consumidores, torna-se mais fácil antever suas necessidades e oferecer soluções que atendam essas demandas de forma assertiva.\n",
        "\n",
        "Uma coisa que todo empresário sabe bem é que os custos para conquistar um novo cliente podem ser até **15 vezes maiores** do que para reter um cliente atual. Daí a importância de fazer uso do Big Data Analytics e de sua solução de Churn Prediction. **Com isso, o objetivo desse notebook é criar um modelo de machine learning na qual faça o Churn prediction de uma empresa de telecomunicações.**"
      ]
    },
    {
      "cell_type": "markdown",
      "metadata": {
        "id": "0HVmpIxQWT4Y"
      },
      "source": [
        "# Aquisição dos Dados\n",
        "\n",
        "Os dados utilizados neste projeto foram originalmente disponibilizados na [plataforma de ensino da IBM Developer](https://developer.ibm.com/technologies/data-science/patterns/predict-customer-churn-using-watson-studio-and-jupyter-notebooks/#), e tratam de um problema típico de uma companhia de telecomunicações e de qualquer outra empresa: cancelamento de serviço. O *dataset* completo pode ser encontrado [neste link](https://raw.githubusercontent.com/carlosfab/dsnp2/master/datasets/WA_Fn-UseC_-Telco-Customer-Churn.csv).\n",
        "\n",
        " \n",
        "Logo, vamos instalar e importar as bibliotecas de python necessárias para fazer um modelo de machine learning (Aprendizado de máquina) e prever a taxa de rotatividade dos clientes, como também fazer uma análise das características dos clientes e definir as melhores estratégias para diminuir a taxa de cancelamento da empresa.\n",
        "\n"
      ]
    },
    {
      "cell_type": "markdown",
      "source": [
        "##Instalação e Importação Bibliotecas"
      ],
      "metadata": {
        "id": "aqSDCmJXaOtH"
      }
    },
    {
      "cell_type": "code",
      "source": [
        "!pip install -q scikit-plot # INSTALAÇÃO DA BIBLIOTECA SCIKIT"
      ],
      "metadata": {
        "id": "zv4Iehv0cGem"
      },
      "execution_count": 250,
      "outputs": []
    },
    {
      "cell_type": "code",
      "source": [
        "# IMPORTANDO OS PACOTES NECESSÁRIOS\n",
        "import numpy as np # PROCESSAMENTO DE ARRANJOS E MATRIZES\n",
        "import pandas as pd # MANIPULAÇÃO E ANÁLISE DE DADOS \n",
        "import matplotlib.pyplot as plt # VISUALIZAÇÃO DE DADOS\n",
        "import seaborn as sns # VISUALIZAÇÃO DE DADOS\n",
        "from sklearn.preprocessing import StandardScaler, LabelEncoder # PADRONIZAÇÃO DOS DADOS E TRANSFORMAÇÃO DOS DADOS\n",
        "from sklearn.model_selection import train_test_split # DIVISÃO DOS DADOS EM TESTE E TREINO \n",
        "from imblearn.over_sampling import SMOTE # BALANCEAMENTO DOS DADOS\n",
        "from imblearn.under_sampling import RandomUnderSampler # BALANCEAMENTO DOS DADOS\n",
        "import scikitplot as skplt # GRÁFICO DE CONFUSÃO\n",
        "from sklearn.metrics import classification_report # MÉTRICAS DE DESEMPENHO DO MODELO\n",
        "from sklearn.metrics import roc_auc_score, roc_curve, accuracy_score # MÉTRICAS DE DESEMPENHO DO MODELO\n",
        "from sklearn.model_selection import cross_val_score # VALIDAÇÃO CRUZADA\n",
        "from sklearn.model_selection import RandomizedSearchCV # OTIMIZAÇÃO DE HIPERPARÂMETROS\n",
        "from sklearn.tree import DecisionTreeClassifier # MODELO DE CLASSIFICAÇÃO MACHINE LEARNING\n",
        "from sklearn.linear_model import LogisticRegression # MODELO DE CLASSIFICAÇÃO MACHINE LEARNING\n",
        "from xgboost import XGBClassifier # MODELO DE CLASSIFICAÇÃO MACHINE LEARNING\n",
        "from sklearn.ensemble import RandomForestClassifier # MODELO DE CLASSIFICAÇÃO MACHINE LEARNING\n",
        "from sklearn.pipeline import make_pipeline # PIPELINE"
      ],
      "metadata": {
        "id": "sn-1cTtJb9ef"
      },
      "execution_count": 251,
      "outputs": []
    },
    {
      "cell_type": "markdown",
      "source": [
        "## Importação dos dados\n",
        "\n",
        "Com essas bibliotecas instaladas e importadas vamos começar a importar os dados e mostrar suas primeiras e ultimas entradas e entender como estão dispostas nossa variáveis e seus respectivos significados.\n",
        "\n",
        "\n",
        "Lembrando que os dados utilizados neste projeto foram originalmente disponibilizados na [plataforma de ensino da IBM Developer](https://developer.ibm.com/technologies/data-science/patterns/predict-customer-churn-using-watson-studio-and-jupyter-notebooks/#),e tratam de um problema típico de uma companhia de telecomunicações e de qualquer outra empresa: cancelamento de serviço. O *dataset* completo pode ser encontrado [neste link](https://raw.githubusercontent.com/carlosfab/dsnp2/master/datasets/WA_Fn-UseC_-Telco-Customer-Churn.csv)."
      ],
      "metadata": {
        "id": "DZM5bWydaJ2Z"
      }
    },
    {
      "cell_type": "code",
      "metadata": {
        "id": "oQ4bNy7udtEE"
      },
      "source": [
        "# IMPORTANDO OS DADOS\n",
        "DATA_PATH = \"https://raw.githubusercontent.com/carlosfab/dsnp2/master/datasets/WA_Fn-UseC_-Telco-Customer-Churn.csv\"\n",
        "df = pd.read_csv(DATA_PATH)"
      ],
      "execution_count": 252,
      "outputs": []
    },
    {
      "cell_type": "markdown",
      "source": [
        "# Análise Exploratória\n",
        "### 5 Primeiras Entradas"
      ],
      "metadata": {
        "id": "sBhecx64qIPC"
      }
    },
    {
      "cell_type": "code",
      "source": [
        "# 5 PRIMEIRAS LINHAS\n",
        "df.head()"
      ],
      "metadata": {
        "colab": {
          "base_uri": "https://localhost:8080/",
          "height": 357
        },
        "id": "ZOwFXpvobpx_",
        "outputId": "763264a9-a4c2-4a4c-c397-e60103ecf0f9"
      },
      "execution_count": 253,
      "outputs": [
        {
          "output_type": "execute_result",
          "data": {
            "text/html": [
              "\n",
              "  <div id=\"df-46bf9522-fede-4dde-94d5-02bdf3921c25\">\n",
              "    <div class=\"colab-df-container\">\n",
              "      <div>\n",
              "<style scoped>\n",
              "    .dataframe tbody tr th:only-of-type {\n",
              "        vertical-align: middle;\n",
              "    }\n",
              "\n",
              "    .dataframe tbody tr th {\n",
              "        vertical-align: top;\n",
              "    }\n",
              "\n",
              "    .dataframe thead th {\n",
              "        text-align: right;\n",
              "    }\n",
              "</style>\n",
              "<table border=\"1\" class=\"dataframe\">\n",
              "  <thead>\n",
              "    <tr style=\"text-align: right;\">\n",
              "      <th></th>\n",
              "      <th>customerID</th>\n",
              "      <th>gender</th>\n",
              "      <th>SeniorCitizen</th>\n",
              "      <th>Partner</th>\n",
              "      <th>Dependents</th>\n",
              "      <th>tenure</th>\n",
              "      <th>PhoneService</th>\n",
              "      <th>MultipleLines</th>\n",
              "      <th>InternetService</th>\n",
              "      <th>OnlineSecurity</th>\n",
              "      <th>OnlineBackup</th>\n",
              "      <th>DeviceProtection</th>\n",
              "      <th>TechSupport</th>\n",
              "      <th>StreamingTV</th>\n",
              "      <th>StreamingMovies</th>\n",
              "      <th>Contract</th>\n",
              "      <th>PaperlessBilling</th>\n",
              "      <th>PaymentMethod</th>\n",
              "      <th>MonthlyCharges</th>\n",
              "      <th>TotalCharges</th>\n",
              "      <th>Churn</th>\n",
              "    </tr>\n",
              "  </thead>\n",
              "  <tbody>\n",
              "    <tr>\n",
              "      <th>0</th>\n",
              "      <td>7590-VHVEG</td>\n",
              "      <td>Female</td>\n",
              "      <td>0</td>\n",
              "      <td>Yes</td>\n",
              "      <td>No</td>\n",
              "      <td>1</td>\n",
              "      <td>No</td>\n",
              "      <td>No phone service</td>\n",
              "      <td>DSL</td>\n",
              "      <td>No</td>\n",
              "      <td>Yes</td>\n",
              "      <td>No</td>\n",
              "      <td>No</td>\n",
              "      <td>No</td>\n",
              "      <td>No</td>\n",
              "      <td>Month-to-month</td>\n",
              "      <td>Yes</td>\n",
              "      <td>Electronic check</td>\n",
              "      <td>29.85</td>\n",
              "      <td>29.85</td>\n",
              "      <td>No</td>\n",
              "    </tr>\n",
              "    <tr>\n",
              "      <th>1</th>\n",
              "      <td>5575-GNVDE</td>\n",
              "      <td>Male</td>\n",
              "      <td>0</td>\n",
              "      <td>No</td>\n",
              "      <td>No</td>\n",
              "      <td>34</td>\n",
              "      <td>Yes</td>\n",
              "      <td>No</td>\n",
              "      <td>DSL</td>\n",
              "      <td>Yes</td>\n",
              "      <td>No</td>\n",
              "      <td>Yes</td>\n",
              "      <td>No</td>\n",
              "      <td>No</td>\n",
              "      <td>No</td>\n",
              "      <td>One year</td>\n",
              "      <td>No</td>\n",
              "      <td>Mailed check</td>\n",
              "      <td>56.95</td>\n",
              "      <td>1889.5</td>\n",
              "      <td>No</td>\n",
              "    </tr>\n",
              "    <tr>\n",
              "      <th>2</th>\n",
              "      <td>3668-QPYBK</td>\n",
              "      <td>Male</td>\n",
              "      <td>0</td>\n",
              "      <td>No</td>\n",
              "      <td>No</td>\n",
              "      <td>2</td>\n",
              "      <td>Yes</td>\n",
              "      <td>No</td>\n",
              "      <td>DSL</td>\n",
              "      <td>Yes</td>\n",
              "      <td>Yes</td>\n",
              "      <td>No</td>\n",
              "      <td>No</td>\n",
              "      <td>No</td>\n",
              "      <td>No</td>\n",
              "      <td>Month-to-month</td>\n",
              "      <td>Yes</td>\n",
              "      <td>Mailed check</td>\n",
              "      <td>53.85</td>\n",
              "      <td>108.15</td>\n",
              "      <td>Yes</td>\n",
              "    </tr>\n",
              "    <tr>\n",
              "      <th>3</th>\n",
              "      <td>7795-CFOCW</td>\n",
              "      <td>Male</td>\n",
              "      <td>0</td>\n",
              "      <td>No</td>\n",
              "      <td>No</td>\n",
              "      <td>45</td>\n",
              "      <td>No</td>\n",
              "      <td>No phone service</td>\n",
              "      <td>DSL</td>\n",
              "      <td>Yes</td>\n",
              "      <td>No</td>\n",
              "      <td>Yes</td>\n",
              "      <td>Yes</td>\n",
              "      <td>No</td>\n",
              "      <td>No</td>\n",
              "      <td>One year</td>\n",
              "      <td>No</td>\n",
              "      <td>Bank transfer (automatic)</td>\n",
              "      <td>42.30</td>\n",
              "      <td>1840.75</td>\n",
              "      <td>No</td>\n",
              "    </tr>\n",
              "    <tr>\n",
              "      <th>4</th>\n",
              "      <td>9237-HQITU</td>\n",
              "      <td>Female</td>\n",
              "      <td>0</td>\n",
              "      <td>No</td>\n",
              "      <td>No</td>\n",
              "      <td>2</td>\n",
              "      <td>Yes</td>\n",
              "      <td>No</td>\n",
              "      <td>Fiber optic</td>\n",
              "      <td>No</td>\n",
              "      <td>No</td>\n",
              "      <td>No</td>\n",
              "      <td>No</td>\n",
              "      <td>No</td>\n",
              "      <td>No</td>\n",
              "      <td>Month-to-month</td>\n",
              "      <td>Yes</td>\n",
              "      <td>Electronic check</td>\n",
              "      <td>70.70</td>\n",
              "      <td>151.65</td>\n",
              "      <td>Yes</td>\n",
              "    </tr>\n",
              "  </tbody>\n",
              "</table>\n",
              "</div>\n",
              "      <button class=\"colab-df-convert\" onclick=\"convertToInteractive('df-46bf9522-fede-4dde-94d5-02bdf3921c25')\"\n",
              "              title=\"Convert this dataframe to an interactive table.\"\n",
              "              style=\"display:none;\">\n",
              "        \n",
              "  <svg xmlns=\"http://www.w3.org/2000/svg\" height=\"24px\"viewBox=\"0 0 24 24\"\n",
              "       width=\"24px\">\n",
              "    <path d=\"M0 0h24v24H0V0z\" fill=\"none\"/>\n",
              "    <path d=\"M18.56 5.44l.94 2.06.94-2.06 2.06-.94-2.06-.94-.94-2.06-.94 2.06-2.06.94zm-11 1L8.5 8.5l.94-2.06 2.06-.94-2.06-.94L8.5 2.5l-.94 2.06-2.06.94zm10 10l.94 2.06.94-2.06 2.06-.94-2.06-.94-.94-2.06-.94 2.06-2.06.94z\"/><path d=\"M17.41 7.96l-1.37-1.37c-.4-.4-.92-.59-1.43-.59-.52 0-1.04.2-1.43.59L10.3 9.45l-7.72 7.72c-.78.78-.78 2.05 0 2.83L4 21.41c.39.39.9.59 1.41.59.51 0 1.02-.2 1.41-.59l7.78-7.78 2.81-2.81c.8-.78.8-2.07 0-2.86zM5.41 20L4 18.59l7.72-7.72 1.47 1.35L5.41 20z\"/>\n",
              "  </svg>\n",
              "      </button>\n",
              "      \n",
              "  <style>\n",
              "    .colab-df-container {\n",
              "      display:flex;\n",
              "      flex-wrap:wrap;\n",
              "      gap: 12px;\n",
              "    }\n",
              "\n",
              "    .colab-df-convert {\n",
              "      background-color: #E8F0FE;\n",
              "      border: none;\n",
              "      border-radius: 50%;\n",
              "      cursor: pointer;\n",
              "      display: none;\n",
              "      fill: #1967D2;\n",
              "      height: 32px;\n",
              "      padding: 0 0 0 0;\n",
              "      width: 32px;\n",
              "    }\n",
              "\n",
              "    .colab-df-convert:hover {\n",
              "      background-color: #E2EBFA;\n",
              "      box-shadow: 0px 1px 2px rgba(60, 64, 67, 0.3), 0px 1px 3px 1px rgba(60, 64, 67, 0.15);\n",
              "      fill: #174EA6;\n",
              "    }\n",
              "\n",
              "    [theme=dark] .colab-df-convert {\n",
              "      background-color: #3B4455;\n",
              "      fill: #D2E3FC;\n",
              "    }\n",
              "\n",
              "    [theme=dark] .colab-df-convert:hover {\n",
              "      background-color: #434B5C;\n",
              "      box-shadow: 0px 1px 3px 1px rgba(0, 0, 0, 0.15);\n",
              "      filter: drop-shadow(0px 1px 2px rgba(0, 0, 0, 0.3));\n",
              "      fill: #FFFFFF;\n",
              "    }\n",
              "  </style>\n",
              "\n",
              "      <script>\n",
              "        const buttonEl =\n",
              "          document.querySelector('#df-46bf9522-fede-4dde-94d5-02bdf3921c25 button.colab-df-convert');\n",
              "        buttonEl.style.display =\n",
              "          google.colab.kernel.accessAllowed ? 'block' : 'none';\n",
              "\n",
              "        async function convertToInteractive(key) {\n",
              "          const element = document.querySelector('#df-46bf9522-fede-4dde-94d5-02bdf3921c25');\n",
              "          const dataTable =\n",
              "            await google.colab.kernel.invokeFunction('convertToInteractive',\n",
              "                                                     [key], {});\n",
              "          if (!dataTable) return;\n",
              "\n",
              "          const docLinkHtml = 'Like what you see? Visit the ' +\n",
              "            '<a target=\"_blank\" href=https://colab.research.google.com/notebooks/data_table.ipynb>data table notebook</a>'\n",
              "            + ' to learn more about interactive tables.';\n",
              "          element.innerHTML = '';\n",
              "          dataTable['output_type'] = 'display_data';\n",
              "          await google.colab.output.renderOutput(dataTable, element);\n",
              "          const docLink = document.createElement('div');\n",
              "          docLink.innerHTML = docLinkHtml;\n",
              "          element.appendChild(docLink);\n",
              "        }\n",
              "      </script>\n",
              "    </div>\n",
              "  </div>\n",
              "  "
            ],
            "text/plain": [
              "   customerID  gender  SeniorCitizen  ... MonthlyCharges TotalCharges  Churn\n",
              "0  7590-VHVEG  Female              0  ...          29.85        29.85     No\n",
              "1  5575-GNVDE    Male              0  ...          56.95       1889.5     No\n",
              "2  3668-QPYBK    Male              0  ...          53.85       108.15    Yes\n",
              "3  7795-CFOCW    Male              0  ...          42.30      1840.75     No\n",
              "4  9237-HQITU  Female              0  ...          70.70       151.65    Yes\n",
              "\n",
              "[5 rows x 21 columns]"
            ]
          },
          "metadata": {},
          "execution_count": 253
        }
      ]
    },
    {
      "cell_type": "markdown",
      "source": [
        "### 5 Últimas Entradas"
      ],
      "metadata": {
        "id": "jtqaey0kbtJP"
      }
    },
    {
      "cell_type": "code",
      "source": [
        "# 5 ÚLTIMAS LINHAS\n",
        "df.tail()"
      ],
      "metadata": {
        "colab": {
          "base_uri": "https://localhost:8080/",
          "height": 357
        },
        "id": "YCwPBaD5b3rO",
        "outputId": "b859f527-04eb-4b9b-a210-f932fcab80d7"
      },
      "execution_count": 254,
      "outputs": [
        {
          "output_type": "execute_result",
          "data": {
            "text/html": [
              "\n",
              "  <div id=\"df-7af817d1-6f1d-427c-8288-04356ee51179\">\n",
              "    <div class=\"colab-df-container\">\n",
              "      <div>\n",
              "<style scoped>\n",
              "    .dataframe tbody tr th:only-of-type {\n",
              "        vertical-align: middle;\n",
              "    }\n",
              "\n",
              "    .dataframe tbody tr th {\n",
              "        vertical-align: top;\n",
              "    }\n",
              "\n",
              "    .dataframe thead th {\n",
              "        text-align: right;\n",
              "    }\n",
              "</style>\n",
              "<table border=\"1\" class=\"dataframe\">\n",
              "  <thead>\n",
              "    <tr style=\"text-align: right;\">\n",
              "      <th></th>\n",
              "      <th>customerID</th>\n",
              "      <th>gender</th>\n",
              "      <th>SeniorCitizen</th>\n",
              "      <th>Partner</th>\n",
              "      <th>Dependents</th>\n",
              "      <th>tenure</th>\n",
              "      <th>PhoneService</th>\n",
              "      <th>MultipleLines</th>\n",
              "      <th>InternetService</th>\n",
              "      <th>OnlineSecurity</th>\n",
              "      <th>OnlineBackup</th>\n",
              "      <th>DeviceProtection</th>\n",
              "      <th>TechSupport</th>\n",
              "      <th>StreamingTV</th>\n",
              "      <th>StreamingMovies</th>\n",
              "      <th>Contract</th>\n",
              "      <th>PaperlessBilling</th>\n",
              "      <th>PaymentMethod</th>\n",
              "      <th>MonthlyCharges</th>\n",
              "      <th>TotalCharges</th>\n",
              "      <th>Churn</th>\n",
              "    </tr>\n",
              "  </thead>\n",
              "  <tbody>\n",
              "    <tr>\n",
              "      <th>7038</th>\n",
              "      <td>6840-RESVB</td>\n",
              "      <td>Male</td>\n",
              "      <td>0</td>\n",
              "      <td>Yes</td>\n",
              "      <td>Yes</td>\n",
              "      <td>24</td>\n",
              "      <td>Yes</td>\n",
              "      <td>Yes</td>\n",
              "      <td>DSL</td>\n",
              "      <td>Yes</td>\n",
              "      <td>No</td>\n",
              "      <td>Yes</td>\n",
              "      <td>Yes</td>\n",
              "      <td>Yes</td>\n",
              "      <td>Yes</td>\n",
              "      <td>One year</td>\n",
              "      <td>Yes</td>\n",
              "      <td>Mailed check</td>\n",
              "      <td>84.80</td>\n",
              "      <td>1990.5</td>\n",
              "      <td>No</td>\n",
              "    </tr>\n",
              "    <tr>\n",
              "      <th>7039</th>\n",
              "      <td>2234-XADUH</td>\n",
              "      <td>Female</td>\n",
              "      <td>0</td>\n",
              "      <td>Yes</td>\n",
              "      <td>Yes</td>\n",
              "      <td>72</td>\n",
              "      <td>Yes</td>\n",
              "      <td>Yes</td>\n",
              "      <td>Fiber optic</td>\n",
              "      <td>No</td>\n",
              "      <td>Yes</td>\n",
              "      <td>Yes</td>\n",
              "      <td>No</td>\n",
              "      <td>Yes</td>\n",
              "      <td>Yes</td>\n",
              "      <td>One year</td>\n",
              "      <td>Yes</td>\n",
              "      <td>Credit card (automatic)</td>\n",
              "      <td>103.20</td>\n",
              "      <td>7362.9</td>\n",
              "      <td>No</td>\n",
              "    </tr>\n",
              "    <tr>\n",
              "      <th>7040</th>\n",
              "      <td>4801-JZAZL</td>\n",
              "      <td>Female</td>\n",
              "      <td>0</td>\n",
              "      <td>Yes</td>\n",
              "      <td>Yes</td>\n",
              "      <td>11</td>\n",
              "      <td>No</td>\n",
              "      <td>No phone service</td>\n",
              "      <td>DSL</td>\n",
              "      <td>Yes</td>\n",
              "      <td>No</td>\n",
              "      <td>No</td>\n",
              "      <td>No</td>\n",
              "      <td>No</td>\n",
              "      <td>No</td>\n",
              "      <td>Month-to-month</td>\n",
              "      <td>Yes</td>\n",
              "      <td>Electronic check</td>\n",
              "      <td>29.60</td>\n",
              "      <td>346.45</td>\n",
              "      <td>No</td>\n",
              "    </tr>\n",
              "    <tr>\n",
              "      <th>7041</th>\n",
              "      <td>8361-LTMKD</td>\n",
              "      <td>Male</td>\n",
              "      <td>1</td>\n",
              "      <td>Yes</td>\n",
              "      <td>No</td>\n",
              "      <td>4</td>\n",
              "      <td>Yes</td>\n",
              "      <td>Yes</td>\n",
              "      <td>Fiber optic</td>\n",
              "      <td>No</td>\n",
              "      <td>No</td>\n",
              "      <td>No</td>\n",
              "      <td>No</td>\n",
              "      <td>No</td>\n",
              "      <td>No</td>\n",
              "      <td>Month-to-month</td>\n",
              "      <td>Yes</td>\n",
              "      <td>Mailed check</td>\n",
              "      <td>74.40</td>\n",
              "      <td>306.6</td>\n",
              "      <td>Yes</td>\n",
              "    </tr>\n",
              "    <tr>\n",
              "      <th>7042</th>\n",
              "      <td>3186-AJIEK</td>\n",
              "      <td>Male</td>\n",
              "      <td>0</td>\n",
              "      <td>No</td>\n",
              "      <td>No</td>\n",
              "      <td>66</td>\n",
              "      <td>Yes</td>\n",
              "      <td>No</td>\n",
              "      <td>Fiber optic</td>\n",
              "      <td>Yes</td>\n",
              "      <td>No</td>\n",
              "      <td>Yes</td>\n",
              "      <td>Yes</td>\n",
              "      <td>Yes</td>\n",
              "      <td>Yes</td>\n",
              "      <td>Two year</td>\n",
              "      <td>Yes</td>\n",
              "      <td>Bank transfer (automatic)</td>\n",
              "      <td>105.65</td>\n",
              "      <td>6844.5</td>\n",
              "      <td>No</td>\n",
              "    </tr>\n",
              "  </tbody>\n",
              "</table>\n",
              "</div>\n",
              "      <button class=\"colab-df-convert\" onclick=\"convertToInteractive('df-7af817d1-6f1d-427c-8288-04356ee51179')\"\n",
              "              title=\"Convert this dataframe to an interactive table.\"\n",
              "              style=\"display:none;\">\n",
              "        \n",
              "  <svg xmlns=\"http://www.w3.org/2000/svg\" height=\"24px\"viewBox=\"0 0 24 24\"\n",
              "       width=\"24px\">\n",
              "    <path d=\"M0 0h24v24H0V0z\" fill=\"none\"/>\n",
              "    <path d=\"M18.56 5.44l.94 2.06.94-2.06 2.06-.94-2.06-.94-.94-2.06-.94 2.06-2.06.94zm-11 1L8.5 8.5l.94-2.06 2.06-.94-2.06-.94L8.5 2.5l-.94 2.06-2.06.94zm10 10l.94 2.06.94-2.06 2.06-.94-2.06-.94-.94-2.06-.94 2.06-2.06.94z\"/><path d=\"M17.41 7.96l-1.37-1.37c-.4-.4-.92-.59-1.43-.59-.52 0-1.04.2-1.43.59L10.3 9.45l-7.72 7.72c-.78.78-.78 2.05 0 2.83L4 21.41c.39.39.9.59 1.41.59.51 0 1.02-.2 1.41-.59l7.78-7.78 2.81-2.81c.8-.78.8-2.07 0-2.86zM5.41 20L4 18.59l7.72-7.72 1.47 1.35L5.41 20z\"/>\n",
              "  </svg>\n",
              "      </button>\n",
              "      \n",
              "  <style>\n",
              "    .colab-df-container {\n",
              "      display:flex;\n",
              "      flex-wrap:wrap;\n",
              "      gap: 12px;\n",
              "    }\n",
              "\n",
              "    .colab-df-convert {\n",
              "      background-color: #E8F0FE;\n",
              "      border: none;\n",
              "      border-radius: 50%;\n",
              "      cursor: pointer;\n",
              "      display: none;\n",
              "      fill: #1967D2;\n",
              "      height: 32px;\n",
              "      padding: 0 0 0 0;\n",
              "      width: 32px;\n",
              "    }\n",
              "\n",
              "    .colab-df-convert:hover {\n",
              "      background-color: #E2EBFA;\n",
              "      box-shadow: 0px 1px 2px rgba(60, 64, 67, 0.3), 0px 1px 3px 1px rgba(60, 64, 67, 0.15);\n",
              "      fill: #174EA6;\n",
              "    }\n",
              "\n",
              "    [theme=dark] .colab-df-convert {\n",
              "      background-color: #3B4455;\n",
              "      fill: #D2E3FC;\n",
              "    }\n",
              "\n",
              "    [theme=dark] .colab-df-convert:hover {\n",
              "      background-color: #434B5C;\n",
              "      box-shadow: 0px 1px 3px 1px rgba(0, 0, 0, 0.15);\n",
              "      filter: drop-shadow(0px 1px 2px rgba(0, 0, 0, 0.3));\n",
              "      fill: #FFFFFF;\n",
              "    }\n",
              "  </style>\n",
              "\n",
              "      <script>\n",
              "        const buttonEl =\n",
              "          document.querySelector('#df-7af817d1-6f1d-427c-8288-04356ee51179 button.colab-df-convert');\n",
              "        buttonEl.style.display =\n",
              "          google.colab.kernel.accessAllowed ? 'block' : 'none';\n",
              "\n",
              "        async function convertToInteractive(key) {\n",
              "          const element = document.querySelector('#df-7af817d1-6f1d-427c-8288-04356ee51179');\n",
              "          const dataTable =\n",
              "            await google.colab.kernel.invokeFunction('convertToInteractive',\n",
              "                                                     [key], {});\n",
              "          if (!dataTable) return;\n",
              "\n",
              "          const docLinkHtml = 'Like what you see? Visit the ' +\n",
              "            '<a target=\"_blank\" href=https://colab.research.google.com/notebooks/data_table.ipynb>data table notebook</a>'\n",
              "            + ' to learn more about interactive tables.';\n",
              "          element.innerHTML = '';\n",
              "          dataTable['output_type'] = 'display_data';\n",
              "          await google.colab.output.renderOutput(dataTable, element);\n",
              "          const docLink = document.createElement('div');\n",
              "          docLink.innerHTML = docLinkHtml;\n",
              "          element.appendChild(docLink);\n",
              "        }\n",
              "      </script>\n",
              "    </div>\n",
              "  </div>\n",
              "  "
            ],
            "text/plain": [
              "      customerID  gender  SeniorCitizen  ... MonthlyCharges TotalCharges  Churn\n",
              "7038  6840-RESVB    Male              0  ...          84.80       1990.5     No\n",
              "7039  2234-XADUH  Female              0  ...         103.20       7362.9     No\n",
              "7040  4801-JZAZL  Female              0  ...          29.60       346.45     No\n",
              "7041  8361-LTMKD    Male              1  ...          74.40        306.6    Yes\n",
              "7042  3186-AJIEK    Male              0  ...         105.65       6844.5     No\n",
              "\n",
              "[5 rows x 21 columns]"
            ]
          },
          "metadata": {},
          "execution_count": 254
        }
      ]
    },
    {
      "cell_type": "markdown",
      "source": [
        "### Dicionário das variáveis\n",
        "* **customerID** - ID_Usuario\n",
        "* **gender** - Gênero\n",
        "* **SeniorCitizen** - Idoso\n",
        "* **Partner** - Parceiro\n",
        "* **Dependents** - Dependentes\n",
        "* **tenure** - Meses\n",
        "* **PhoneService** - Serviço de telefone\n",
        "* **MultipleLines** - Multi linhas\n",
        "* **InternetService** - Serviço de internet\n",
        "* **OnlineSecurity** - Segurança Online\n",
        "* **OnlineBackup** - Backup Online\n",
        "* **DeviceProtection** - Proteção de dispositivo\n",
        "* **TechSupport** - Suporte técnico\n",
        "* **StreamingTV** - Transmissão de TV\n",
        "* **StreamingMovies** - Streaming de filmes\n",
        "* **Contract** - Contrato\n",
        "* **PaperlessBilling** - Fatura sem papel\n",
        "* **PaymentMethod** - Forma de pagamento\n",
        "* **MonthlyCharges** - Cobranças Mensais\n",
        "* **TotalCharges** - Custos totais\n",
        "* **Churn** - Cancelamento\n",
        "\n",
        "O Dataset é dividido em 3 grandes grupos são eles as características do cliente, o tipo de serviço oferecido a ele e por último questões relacionada a contrato e pagamento.\n",
        "\n",
        "A variável alvo está na coluna **Churn**, indicando os potenciais cancelamentos;"
      ],
      "metadata": {
        "id": "hXghKPANb7iA"
      }
    },
    {
      "cell_type": "markdown",
      "source": [
        "### Tamanho do dataset"
      ],
      "metadata": {
        "id": "Yqf1EcCWcdcA"
      }
    },
    {
      "cell_type": "code",
      "source": [
        "# TAMNHO DO DATASET - LINHAS E COLUNAS\n",
        "print(f'O dataset conta com {df.shape[0]} linhas')\n",
        "print(f'O dataset conta com {df.shape[1]} colunas')"
      ],
      "metadata": {
        "id": "EOQadwBZZdUS",
        "outputId": "290fccb6-4f71-4f29-e3a4-942bd9c40377",
        "colab": {
          "base_uri": "https://localhost:8080/"
        }
      },
      "execution_count": 255,
      "outputs": [
        {
          "output_type": "stream",
          "name": "stdout",
          "text": [
            "O dataset conta com 7043 linhas\n",
            "O dataset conta com 21 colunas\n"
          ]
        }
      ]
    },
    {
      "cell_type": "markdown",
      "source": [
        "## Análise Exploratória dos Dados\n",
        "Com uma breve noção sobre a quantidade de linhas e colunas do dataset, significados das variáveis e visualização das primeiras e últimas linhas, vamos partir para a análise dos dados em si.\n",
        " \n",
        "Com isso, Vamos analisar:\n",
        "* Tipo dos dados\n",
        "* Quantidade de linhas vazias\n",
        "* Estatísticas de variáveis numéricas\n",
        "* Quantidade de valores únicos por variável\n",
        " \n",
        "Isso nos permite entender melhor como estão os dados no dataset."
      ],
      "metadata": {
        "id": "ScDvKDU7a9qn"
      }
    },
    {
      "cell_type": "markdown",
      "source": [
        "### Tipos dos Dados"
      ],
      "metadata": {
        "id": "7LRdNtYfdHhm"
      }
    },
    {
      "cell_type": "code",
      "source": [
        "# TIPO DA VARIÁVEL \n",
        "df.dtypes"
      ],
      "metadata": {
        "id": "g5uVVxF2pMdQ",
        "outputId": "5fb76971-32dd-4a91-f833-6ee9e3eea2d1",
        "colab": {
          "base_uri": "https://localhost:8080/"
        }
      },
      "execution_count": 256,
      "outputs": [
        {
          "output_type": "execute_result",
          "data": {
            "text/plain": [
              "customerID           object\n",
              "gender               object\n",
              "SeniorCitizen         int64\n",
              "Partner              object\n",
              "Dependents           object\n",
              "tenure                int64\n",
              "PhoneService         object\n",
              "MultipleLines        object\n",
              "InternetService      object\n",
              "OnlineSecurity       object\n",
              "OnlineBackup         object\n",
              "DeviceProtection     object\n",
              "TechSupport          object\n",
              "StreamingTV          object\n",
              "StreamingMovies      object\n",
              "Contract             object\n",
              "PaperlessBilling     object\n",
              "PaymentMethod        object\n",
              "MonthlyCharges      float64\n",
              "TotalCharges         object\n",
              "Churn                object\n",
              "dtype: object"
            ]
          },
          "metadata": {},
          "execution_count": 256
        }
      ]
    },
    {
      "cell_type": "markdown",
      "source": [
        "Para melhor entendimento, vamos identificar os tipo de variáveis como:\n",
        " * **OBJECT** - Texto ou Palavra\n",
        " * **FLOAT** - Número Decimal\n",
        " * **INT** - Número Inteiro\n",
        "\n",
        "Vemos que dezoito (18) variáveis estão como OBJECT, uma (1) como FLOAT e duas (2) como INT, por agora isso não será um problema, pois ainda estamos fazendo a análise exploratória do nosso dataset, porém quando chegamos na parte de treinar o modelo de ML (Machine Learning) e  prever o Churn teremos que transformar essas variáveis em numéricas, já que com essa prática o modelo desenvolve uma capacidade de previsão acima do que teria com as variáveis do tipo OBJECT.\n",
        " \n",
        "Porém, se olharmos com atenção existe uma variável na qual está com o tipo incorreto: A variável ``total charges`` que representa o total de cobranças por cliente está como OBJECT, mas deveria ser um número decimal. Mas ao tentar transformá-la em FLOAT o algoritmo dá erro, pois existem valores nulos que não estão conseguindo ser transformados.\n",
        " \n",
        "Com isso, para solucionarmos o problema, vamos utilizar uma função na qual transforma as linhas preenchidas em FLOAT e as linhas na qual estão dando erro em vazias.\n",
        "\n"
      ],
      "metadata": {
        "id": "OlnWOGp2daEm"
      }
    },
    {
      "cell_type": "markdown",
      "source": [
        "#### Conventendo a variável TotalCharges para float\n"
      ],
      "metadata": {
        "id": "KXo0NYUtNW1Y"
      }
    },
    {
      "cell_type": "code",
      "source": [
        "# FUNÇÃO DE CONVERSÃO DE OBJECT PARA FLOAT\n",
        "def converter_str_float(entrada):\n",
        "    \"\"\"\n",
        "    Converte um objeto do tipo string em float.\n",
        "\n",
        "    # Arguments\n",
        "        entrada: string, string da coluna TotalCharges.\n",
        "\n",
        "    # Returns\n",
        "        Valor convertido em float, caso permita a conversão.\n",
        "        NaN, caso o valor não seja apropriado.\n",
        "    \"\"\"\n",
        "\n",
        "    try:\n",
        "        return float(entrada)\n",
        "    except ValueError:\n",
        "        return np.nan"
      ],
      "metadata": {
        "id": "KvMpfCJgdBE_"
      },
      "execution_count": 257,
      "outputs": []
    },
    {
      "cell_type": "code",
      "source": [
        "# APLICANDO A FUNÇÃO \n",
        "df['TotalCharges'] = df['TotalCharges'].apply(converter_str_float)"
      ],
      "metadata": {
        "id": "8T3yAhqZpjbD"
      },
      "execution_count": 258,
      "outputs": []
    },
    {
      "cell_type": "markdown",
      "source": [
        "### Quantidade de linhas vazias\n",
        " \n",
        "Como disse anteriormente, para resolver o problema da transformação (OBJECT - FLOAT) algumas das linhas foram transformadas em valores nulos, ou seja, estão faltando dados, para uma melhor qualidade de previsão do modelo vamos substituir os valores faltantes pela mediana da variável.\n",
        " \n",
        "**Por que utilizar a mediana como valor para substituir:**\n",
        " \n",
        "A mediana é uma medida de tendência central da Estatística que corresponde ao valor central de um conjunto de valores ordenados,ou seja, tende a causar menos impacto na amostra. Com isso, aplicar a imputação dos valores nulos utilizando a média ou moda demonstra-se extremamente sensível à distribuição de dados, podendo criar grandes alterações dos valores analisados.\n"
      ],
      "metadata": {
        "id": "2HFqpcqqM95l"
      }
    },
    {
      "cell_type": "code",
      "source": [
        "# LINHAS VAZIAS POR VARIÁVEL\n",
        "df.isnull().sum()"
      ],
      "metadata": {
        "id": "2qv8xaiCpI-R",
        "outputId": "23040882-3645-47a6-b191-c8f0922c5d27",
        "colab": {
          "base_uri": "https://localhost:8080/"
        }
      },
      "execution_count": 259,
      "outputs": [
        {
          "output_type": "execute_result",
          "data": {
            "text/plain": [
              "customerID           0\n",
              "gender               0\n",
              "SeniorCitizen        0\n",
              "Partner              0\n",
              "Dependents           0\n",
              "tenure               0\n",
              "PhoneService         0\n",
              "MultipleLines        0\n",
              "InternetService      0\n",
              "OnlineSecurity       0\n",
              "OnlineBackup         0\n",
              "DeviceProtection     0\n",
              "TechSupport          0\n",
              "StreamingTV          0\n",
              "StreamingMovies      0\n",
              "Contract             0\n",
              "PaperlessBilling     0\n",
              "PaymentMethod        0\n",
              "MonthlyCharges       0\n",
              "TotalCharges        11\n",
              "Churn                0\n",
              "dtype: int64"
            ]
          },
          "metadata": {},
          "execution_count": 259
        }
      ]
    },
    {
      "cell_type": "markdown",
      "source": [
        "Foram encontradas 11 linhas vazias na variável TotalCharges        "
      ],
      "metadata": {
        "id": "F6x4-2WUQB6T"
      }
    },
    {
      "cell_type": "markdown",
      "source": [
        "#### Substituindo as linhas vazias pela mediana"
      ],
      "metadata": {
        "id": "6mLjAFmWQMix"
      }
    },
    {
      "cell_type": "code",
      "source": [
        "# SUBSTITUINDO AS LINHAS VAZIAS PELA MEDIANA\n",
        "TotalChargesMedian = df.TotalCharges.median()\n",
        "df['TotalCharges'].fillna(TotalChargesMedian, inplace=True)"
      ],
      "metadata": {
        "id": "TSx8KChy6D-Z"
      },
      "execution_count": 260,
      "outputs": []
    },
    {
      "cell_type": "markdown",
      "source": [
        "### Estatísticas de variáveis numéricas"
      ],
      "metadata": {
        "id": "G5OhxFuhNCgZ"
      }
    },
    {
      "cell_type": "code",
      "source": [
        "# ESTATÍSTICA DAS VARIÁVEIS NUMÉRICAS\n",
        "df.describe()"
      ],
      "metadata": {
        "id": "dLelZT927yvR",
        "outputId": "3c76c4eb-eea4-4be1-9f69-b71ff9ebfdbb",
        "colab": {
          "base_uri": "https://localhost:8080/",
          "height": 300
        }
      },
      "execution_count": 261,
      "outputs": [
        {
          "output_type": "execute_result",
          "data": {
            "text/html": [
              "\n",
              "  <div id=\"df-c45e90ae-c5bb-4621-aceb-5ae149738e2e\">\n",
              "    <div class=\"colab-df-container\">\n",
              "      <div>\n",
              "<style scoped>\n",
              "    .dataframe tbody tr th:only-of-type {\n",
              "        vertical-align: middle;\n",
              "    }\n",
              "\n",
              "    .dataframe tbody tr th {\n",
              "        vertical-align: top;\n",
              "    }\n",
              "\n",
              "    .dataframe thead th {\n",
              "        text-align: right;\n",
              "    }\n",
              "</style>\n",
              "<table border=\"1\" class=\"dataframe\">\n",
              "  <thead>\n",
              "    <tr style=\"text-align: right;\">\n",
              "      <th></th>\n",
              "      <th>SeniorCitizen</th>\n",
              "      <th>tenure</th>\n",
              "      <th>MonthlyCharges</th>\n",
              "      <th>TotalCharges</th>\n",
              "    </tr>\n",
              "  </thead>\n",
              "  <tbody>\n",
              "    <tr>\n",
              "      <th>count</th>\n",
              "      <td>7043.000000</td>\n",
              "      <td>7043.000000</td>\n",
              "      <td>7043.000000</td>\n",
              "      <td>7043.000000</td>\n",
              "    </tr>\n",
              "    <tr>\n",
              "      <th>mean</th>\n",
              "      <td>0.162147</td>\n",
              "      <td>32.371149</td>\n",
              "      <td>64.761692</td>\n",
              "      <td>2281.916928</td>\n",
              "    </tr>\n",
              "    <tr>\n",
              "      <th>std</th>\n",
              "      <td>0.368612</td>\n",
              "      <td>24.559481</td>\n",
              "      <td>30.090047</td>\n",
              "      <td>2265.270398</td>\n",
              "    </tr>\n",
              "    <tr>\n",
              "      <th>min</th>\n",
              "      <td>0.000000</td>\n",
              "      <td>0.000000</td>\n",
              "      <td>18.250000</td>\n",
              "      <td>18.800000</td>\n",
              "    </tr>\n",
              "    <tr>\n",
              "      <th>25%</th>\n",
              "      <td>0.000000</td>\n",
              "      <td>9.000000</td>\n",
              "      <td>35.500000</td>\n",
              "      <td>402.225000</td>\n",
              "    </tr>\n",
              "    <tr>\n",
              "      <th>50%</th>\n",
              "      <td>0.000000</td>\n",
              "      <td>29.000000</td>\n",
              "      <td>70.350000</td>\n",
              "      <td>1397.475000</td>\n",
              "    </tr>\n",
              "    <tr>\n",
              "      <th>75%</th>\n",
              "      <td>0.000000</td>\n",
              "      <td>55.000000</td>\n",
              "      <td>89.850000</td>\n",
              "      <td>3786.600000</td>\n",
              "    </tr>\n",
              "    <tr>\n",
              "      <th>max</th>\n",
              "      <td>1.000000</td>\n",
              "      <td>72.000000</td>\n",
              "      <td>118.750000</td>\n",
              "      <td>8684.800000</td>\n",
              "    </tr>\n",
              "  </tbody>\n",
              "</table>\n",
              "</div>\n",
              "      <button class=\"colab-df-convert\" onclick=\"convertToInteractive('df-c45e90ae-c5bb-4621-aceb-5ae149738e2e')\"\n",
              "              title=\"Convert this dataframe to an interactive table.\"\n",
              "              style=\"display:none;\">\n",
              "        \n",
              "  <svg xmlns=\"http://www.w3.org/2000/svg\" height=\"24px\"viewBox=\"0 0 24 24\"\n",
              "       width=\"24px\">\n",
              "    <path d=\"M0 0h24v24H0V0z\" fill=\"none\"/>\n",
              "    <path d=\"M18.56 5.44l.94 2.06.94-2.06 2.06-.94-2.06-.94-.94-2.06-.94 2.06-2.06.94zm-11 1L8.5 8.5l.94-2.06 2.06-.94-2.06-.94L8.5 2.5l-.94 2.06-2.06.94zm10 10l.94 2.06.94-2.06 2.06-.94-2.06-.94-.94-2.06-.94 2.06-2.06.94z\"/><path d=\"M17.41 7.96l-1.37-1.37c-.4-.4-.92-.59-1.43-.59-.52 0-1.04.2-1.43.59L10.3 9.45l-7.72 7.72c-.78.78-.78 2.05 0 2.83L4 21.41c.39.39.9.59 1.41.59.51 0 1.02-.2 1.41-.59l7.78-7.78 2.81-2.81c.8-.78.8-2.07 0-2.86zM5.41 20L4 18.59l7.72-7.72 1.47 1.35L5.41 20z\"/>\n",
              "  </svg>\n",
              "      </button>\n",
              "      \n",
              "  <style>\n",
              "    .colab-df-container {\n",
              "      display:flex;\n",
              "      flex-wrap:wrap;\n",
              "      gap: 12px;\n",
              "    }\n",
              "\n",
              "    .colab-df-convert {\n",
              "      background-color: #E8F0FE;\n",
              "      border: none;\n",
              "      border-radius: 50%;\n",
              "      cursor: pointer;\n",
              "      display: none;\n",
              "      fill: #1967D2;\n",
              "      height: 32px;\n",
              "      padding: 0 0 0 0;\n",
              "      width: 32px;\n",
              "    }\n",
              "\n",
              "    .colab-df-convert:hover {\n",
              "      background-color: #E2EBFA;\n",
              "      box-shadow: 0px 1px 2px rgba(60, 64, 67, 0.3), 0px 1px 3px 1px rgba(60, 64, 67, 0.15);\n",
              "      fill: #174EA6;\n",
              "    }\n",
              "\n",
              "    [theme=dark] .colab-df-convert {\n",
              "      background-color: #3B4455;\n",
              "      fill: #D2E3FC;\n",
              "    }\n",
              "\n",
              "    [theme=dark] .colab-df-convert:hover {\n",
              "      background-color: #434B5C;\n",
              "      box-shadow: 0px 1px 3px 1px rgba(0, 0, 0, 0.15);\n",
              "      filter: drop-shadow(0px 1px 2px rgba(0, 0, 0, 0.3));\n",
              "      fill: #FFFFFF;\n",
              "    }\n",
              "  </style>\n",
              "\n",
              "      <script>\n",
              "        const buttonEl =\n",
              "          document.querySelector('#df-c45e90ae-c5bb-4621-aceb-5ae149738e2e button.colab-df-convert');\n",
              "        buttonEl.style.display =\n",
              "          google.colab.kernel.accessAllowed ? 'block' : 'none';\n",
              "\n",
              "        async function convertToInteractive(key) {\n",
              "          const element = document.querySelector('#df-c45e90ae-c5bb-4621-aceb-5ae149738e2e');\n",
              "          const dataTable =\n",
              "            await google.colab.kernel.invokeFunction('convertToInteractive',\n",
              "                                                     [key], {});\n",
              "          if (!dataTable) return;\n",
              "\n",
              "          const docLinkHtml = 'Like what you see? Visit the ' +\n",
              "            '<a target=\"_blank\" href=https://colab.research.google.com/notebooks/data_table.ipynb>data table notebook</a>'\n",
              "            + ' to learn more about interactive tables.';\n",
              "          element.innerHTML = '';\n",
              "          dataTable['output_type'] = 'display_data';\n",
              "          await google.colab.output.renderOutput(dataTable, element);\n",
              "          const docLink = document.createElement('div');\n",
              "          docLink.innerHTML = docLinkHtml;\n",
              "          element.appendChild(docLink);\n",
              "        }\n",
              "      </script>\n",
              "    </div>\n",
              "  </div>\n",
              "  "
            ],
            "text/plain": [
              "       SeniorCitizen       tenure  MonthlyCharges  TotalCharges\n",
              "count    7043.000000  7043.000000     7043.000000   7043.000000\n",
              "mean        0.162147    32.371149       64.761692   2281.916928\n",
              "std         0.368612    24.559481       30.090047   2265.270398\n",
              "min         0.000000     0.000000       18.250000     18.800000\n",
              "25%         0.000000     9.000000       35.500000    402.225000\n",
              "50%         0.000000    29.000000       70.350000   1397.475000\n",
              "75%         0.000000    55.000000       89.850000   3786.600000\n",
              "max         1.000000    72.000000      118.750000   8684.800000"
            ]
          },
          "metadata": {},
          "execution_count": 261
        }
      ]
    },
    {
      "cell_type": "markdown",
      "source": [
        "Podemos analisar com essas estatísticas que metade (50%) dos clientes possuem:\n",
        " \n",
        "* 29 meses de tempo de serviço, ou seja 2 anos e 5 meses\n",
        "* cobranças mensais de ``R$70``\n",
        "* pagaram ``R$1397`` totais por cliente durante o período de tempo\n",
        " \n",
        "\n",
        " \n"
      ],
      "metadata": {
        "id": "5PNf4XVxQlpQ"
      }
    },
    {
      "cell_type": "markdown",
      "source": [
        "### Quantidade de valores únicos por variável"
      ],
      "metadata": {
        "id": "N0nGAs6tNG9B"
      }
    },
    {
      "cell_type": "code",
      "source": [
        "# VALORES ÚNICOS\n",
        "df.nunique()"
      ],
      "metadata": {
        "id": "HpXLn_xD9Ewg",
        "outputId": "3083d76c-66d1-42b5-fb65-1eb63615f395",
        "colab": {
          "base_uri": "https://localhost:8080/"
        }
      },
      "execution_count": 262,
      "outputs": [
        {
          "output_type": "execute_result",
          "data": {
            "text/plain": [
              "customerID          7043\n",
              "gender                 2\n",
              "SeniorCitizen          2\n",
              "Partner                2\n",
              "Dependents             2\n",
              "tenure                73\n",
              "PhoneService           2\n",
              "MultipleLines          3\n",
              "InternetService        3\n",
              "OnlineSecurity         3\n",
              "OnlineBackup           3\n",
              "DeviceProtection       3\n",
              "TechSupport            3\n",
              "StreamingTV            3\n",
              "StreamingMovies        3\n",
              "Contract               3\n",
              "PaperlessBilling       2\n",
              "PaymentMethod          4\n",
              "MonthlyCharges      1585\n",
              "TotalCharges        6531\n",
              "Churn                  2\n",
              "dtype: int64"
            ]
          },
          "metadata": {},
          "execution_count": 262
        }
      ]
    },
    {
      "cell_type": "markdown",
      "source": [
        "Sabemos que a maioria das variáveis possuem poucos valores unicos que se repetem entre os diversos clientes, lembrando que estas variáveis ainda estão como texto e será necessário transformá-las em uma solução numérica para otimização do nosso modelo de machine learning."
      ],
      "metadata": {
        "id": "nH0NbvE-VtPx"
      }
    },
    {
      "cell_type": "markdown",
      "source": [
        "##Análise Exploratória das Variáveis\n",
        "\n",
        "Para entender melhor a rede de clientes, vamos plotar algumas das variáveis do dataset relacionadas a características de perfil e pagamento, vale ressaltar que essa plotagem auxilia o desenvolvimento de estratégias empresariais no futuro. \n",
        " \n",
        "Porém como o objetivo desse notebook é criar um modelo de previsão de taxa de cancelamento, somente algumas das variáveis mais importante para auxiliar o entendimento serão graficamente representadas, mas se o objetivo do notebook também fosse uma análise de dados mais precisa seria altamente recomendável analisar as outras variáveis, pois, teríamos mais dados para futuramente implementar alguma estratégia empresarial.\n"
      ],
      "metadata": {
        "id": "u7UFF2UPY41q"
      }
    },
    {
      "cell_type": "markdown",
      "source": [
        "### Quantidade de Clientes por Gênero"
      ],
      "metadata": {
        "id": "1h7xsUKJOYmU"
      }
    },
    {
      "cell_type": "code",
      "source": [
        "# CORES DOS GRÁFICOS\n",
        "color1 = ['#00C752','#FE3353']\n",
        "color2 = ['#FE3353','#00C752']\n",
        "verde = '#00C752'\n",
        "vermelho = '#FE3353'"
      ],
      "metadata": {
        "id": "z-HXgU20S6zc"
      },
      "execution_count": 263,
      "outputs": []
    },
    {
      "cell_type": "code",
      "source": [
        "# PLOTAR GRÁFICO\n",
        "fig, ax = plt.subplots(figsize=(8,5),nrows=1, ncols=2)\n",
        "sns.countplot(x=df.gender, ax=ax[0],color=verde);\n",
        "sns.countplot(x=df[df.Churn == 'Yes'].gender, ax=ax[1],color=vermelho);\n",
        "ax[0].text(-0, 1.2,'Quantidade de Clientes por \\nGênero (Total & Evasão)',transform=ax[0].transAxes, fontsize=18, fontweight='bold',color='#58555A')\n",
        "ax[0].set_xlabel(\"\")\n",
        "ax[1].set_xlabel(\"\")\n",
        "ax[1].set_ylabel(\"\")\n",
        "ax[0].set_ylabel(\"\")\n",
        "ax[0].spines['top'].set_visible(False)\n",
        "ax[0].spines['right'].set_visible(False)\n",
        "ax[0].spines['left'].set_visible(False)\n",
        "ax[1].spines['top'].set_visible(False)\n",
        "ax[1].spines['right'].set_visible(False)\n",
        "ax[1].spines['left'].set_visible(False)\n",
        "ax[0].set_title('Total')\n",
        "ax[1].set_title('Evasão')\n",
        "plt.tight_layout()"
      ],
      "metadata": {
        "id": "lb6zJdBCRZ-n",
        "outputId": "819da589-9996-4fdb-b475-f6f5005b6e51",
        "colab": {
          "base_uri": "https://localhost:8080/",
          "height": 361
        }
      },
      "execution_count": 264,
      "outputs": [
        {
          "output_type": "display_data",
          "data": {
            "image/png": "[encoded data removed]",
            "text/plain": [
              "<Figure size 576x360 with 2 Axes>"
            ]
          },
          "metadata": {
            "needs_background": "light"
          }
        }
      ]
    },
    {
      "cell_type": "markdown",
      "source": [
        "**Perfil dos clientes:**\n",
        "* Não há diferença entre o número de clientes por gênero, ou seja, a quantidade de homens e mulheres são próximas.\n",
        " \n",
        "**Perfil dos clientes que cancelam:**\n",
        "* O gênero não exerce influência no cancelamento de serviços.\n"
      ],
      "metadata": {
        "id": "y58FaCd0mDRn"
      }
    },
    {
      "cell_type": "markdown",
      "source": [
        "### Quantidade Total de Clientes Idosos"
      ],
      "metadata": {
        "id": "zLcLs5EzOc2T"
      }
    },
    {
      "cell_type": "code",
      "source": [
        "# PLOTAR GRÁFICO\n",
        "fig, ax = plt.subplots(figsize=(8,4))\n",
        "sns.countplot(x=df.SeniorCitizen);\n",
        "ax.set_title('Quantidade Total de Clientes Idosos')\n",
        "sns.set_palette(color1)\n",
        "ax.spines['top'].set_visible(False)\n",
        "ax.spines['right'].set_visible(False)                                \n",
        "ax.set_xlabel(\"\")\n",
        "ax.set_ylabel(\"\")\n",
        "plt.xticks([0, 1], ['Não Idoso', 'Idoso'])\n",
        "plt.show()"
      ],
      "metadata": {
        "id": "iHDAkx5fXZC8",
        "outputId": "e326fa81-6c4f-4563-9493-650fd49b3d14",
        "colab": {
          "base_uri": "https://localhost:8080/",
          "height": 281
        }
      },
      "execution_count": 265,
      "outputs": [
        {
          "output_type": "display_data",
          "data": {
            "image/png": "[encoded data removed]",
            "text/plain": [
              "<Figure size 576x288 with 1 Axes>"
            ]
          },
          "metadata": {
            "needs_background": "light"
          }
        }
      ]
    },
    {
      "cell_type": "code",
      "source": [
        "# QUANTIDADE DE CADA CATEGORIA\n",
        "print(df[df.Churn == 'Yes'].SeniorCitizen.value_counts())"
      ],
      "metadata": {
        "colab": {
          "base_uri": "https://localhost:8080/"
        },
        "id": "GerwSAlDamYP",
        "outputId": "b99f4024-9ce0-4c86-9d44-52cd8bfa10a8"
      },
      "execution_count": 266,
      "outputs": [
        {
          "output_type": "stream",
          "name": "stdout",
          "text": [
            "0    1393\n",
            "1     476\n",
            "Name: SeniorCitizen, dtype: int64\n"
          ]
        }
      ]
    },
    {
      "cell_type": "markdown",
      "source": [
        "**Perfil dos clientes:**\n",
        "* Clientes não idosos são maiores em quantidade em relação aos clientes idosos\n",
        " \n",
        "**Perfil dos clientes que cancelam:**\n",
        "* Clientes não idosos tem 3x mais chances de cancelar do que clientes não idosos\n",
        "\n"
      ],
      "metadata": {
        "id": "lWoU9XLMptU-"
      }
    },
    {
      "cell_type": "markdown",
      "source": [
        "### Quantidade de Clientes com Parceiros"
      ],
      "metadata": {
        "id": "xfeMWEfoOfyj"
      }
    },
    {
      "cell_type": "code",
      "source": [
        "# PLOTAR GRÁFICO\n",
        "fig, ax = plt.subplots(figsize=(8,5),nrows=1, ncols=2)\n",
        "sns.countplot(x=df.Partner, ax=ax[0],color=verde);\n",
        "sns.countplot(x=df[df.Churn == 'Yes'].Partner, ax=ax[1],color=vermelho);\n",
        "ax[0].text(-0, 1.2,'Quantidade de Clientes\\ncom Parceiros',transform=ax[0].transAxes, fontsize=18, fontweight='bold',color='#58555A')\n",
        "ax[0].set_xlabel(\"\")\n",
        "ax[1].set_xlabel(\"\")\n",
        "ax[1].set_ylabel(\"\")\n",
        "ax[0].set_ylabel(\"\")\n",
        "ax[0].spines['top'].set_visible(False)\n",
        "ax[0].spines['right'].set_visible(False)\n",
        "ax[0].spines['left'].set_visible(False)\n",
        "ax[1].spines['top'].set_visible(False)\n",
        "ax[1].spines['right'].set_visible(False)\n",
        "ax[1].spines['left'].set_visible(False)\n",
        "ax[0].set_title('Total')\n",
        "ax[1].set_title('Evasão')\n",
        "plt.tight_layout()"
      ],
      "metadata": {
        "id": "TFkOL1IhXcqj",
        "outputId": "0c0e02a1-bd1a-4c52-abc6-b6fd732280ea",
        "colab": {
          "base_uri": "https://localhost:8080/",
          "height": 361
        }
      },
      "execution_count": 267,
      "outputs": [
        {
          "output_type": "display_data",
          "data": {
            "image/png": "[encoded data removed]",
            "text/plain": [
              "<Figure size 576x360 with 2 Axes>"
            ]
          },
          "metadata": {
            "needs_background": "light"
          }
        }
      ]
    },
    {
      "cell_type": "code",
      "source": [
        "# QUANTIDADE DE CADA CATEGORIA\n",
        "print(df[df.Churn == 'Yes'].Partner.value_counts())"
      ],
      "metadata": {
        "colab": {
          "base_uri": "https://localhost:8080/"
        },
        "id": "uwc59cF7cJnY",
        "outputId": "df1099d3-a566-4168-b1f1-921b8eb75f65"
      },
      "execution_count": 268,
      "outputs": [
        {
          "output_type": "stream",
          "name": "stdout",
          "text": [
            "No     1200\n",
            "Yes     669\n",
            "Name: Partner, dtype: int64\n"
          ]
        }
      ]
    },
    {
      "cell_type": "markdown",
      "source": [
        "**Perfil dos clientes:**\n",
        "* A quantidade de clientes com e sem parceiros são relativamente próximas, porém a categoria sem parceiros se sobressai em relação aos clientes com parceiros\n",
        " \n",
        "**Perfil dos clientes que cancelam:**\n",
        "* Clientes sem parceiros têm 2x mais chances de cancelar do que clientes com parceiros\n",
        "\n",
        "\n",
        "\n"
      ],
      "metadata": {
        "id": "mVhZCikqqDGz"
      }
    },
    {
      "cell_type": "markdown",
      "source": [
        "### Quantidade de Clientes com Dependentes"
      ],
      "metadata": {
        "id": "jBlfc90SOpr0"
      }
    },
    {
      "cell_type": "code",
      "source": [
        "# PLOTAR GRÁFICO\n",
        "fig, ax = plt.subplots(figsize=(8,5),nrows=1, ncols=2)\n",
        "sns.countplot(x=df.Dependents, ax=ax[0],color=verde);\n",
        "sns.countplot(x=df[df.Churn == 'Yes'].Dependents, ax=ax[1],color=vermelho);\n",
        "ax[0].text(-0, 1.2,'Quantidade de Clientes\\ncom Dependentes',transform=ax[0].transAxes, fontsize=18, fontweight='bold',color='#58555A')\n",
        "ax[0].set_xlabel(\"\")\n",
        "ax[1].set_xlabel(\"\")\n",
        "ax[1].set_ylabel(\"\")\n",
        "ax[0].set_ylabel(\"\")\n",
        "ax[0].spines['top'].set_visible(False)\n",
        "ax[0].spines['right'].set_visible(False)\n",
        "ax[0].spines['left'].set_visible(False)\n",
        "ax[1].spines['top'].set_visible(False)\n",
        "ax[1].spines['right'].set_visible(False)\n",
        "ax[1].spines['left'].set_visible(False)\n",
        "ax[0].set_title('Total')\n",
        "ax[1].set_title('Evasão')\n",
        "plt.tight_layout()"
      ],
      "metadata": {
        "id": "kIJCm2QZXkyJ",
        "outputId": "59e1af4e-c8d7-4e4a-8bef-0916080d76e6",
        "colab": {
          "base_uri": "https://localhost:8080/",
          "height": 361
        }
      },
      "execution_count": 269,
      "outputs": [
        {
          "output_type": "display_data",
          "data": {
            "image/png": "[encoded data removed]",
            "text/plain": [
              "<Figure size 576x360 with 2 Axes>"
            ]
          },
          "metadata": {
            "needs_background": "light"
          }
        }
      ]
    },
    {
      "cell_type": "code",
      "source": [
        "# QUANTIDADE DE CADA CATEGORIA\n",
        "print(df[df.Churn == 'Yes'].Dependents.value_counts())"
      ],
      "metadata": {
        "colab": {
          "base_uri": "https://localhost:8080/"
        },
        "id": "6b1SkHoxef32",
        "outputId": "82957bfa-2aef-4dd3-f176-b282c0c5bcd7"
      },
      "execution_count": 270,
      "outputs": [
        {
          "output_type": "stream",
          "name": "stdout",
          "text": [
            "No     1543\n",
            "Yes     326\n",
            "Name: Dependents, dtype: int64\n"
          ]
        }
      ]
    },
    {
      "cell_type": "markdown",
      "source": [
        "**Perfil dos clientes:**\n",
        "* O número de clientes sem dependentes é maior do que os consumidores com dependentes\n",
        " \n",
        "**Perfil dos clientes que cancelam:**\n",
        "* Clientes sem dependentes têm 5x mais chances de cancelar do que clientes com dependentes\n",
        "\n"
      ],
      "metadata": {
        "id": "SlG_qEQ6rTZ2"
      }
    },
    {
      "cell_type": "markdown",
      "source": [
        "### Quantidade de Clientes por forma de pagamento"
      ],
      "metadata": {
        "id": "esZwVfO5OtyD"
      }
    },
    {
      "cell_type": "code",
      "source": [
        "# PLOTAR GRÁFICO\n",
        "fig, ax = plt.subplots(figsize=(16,6),nrows=1, ncols=2)\n",
        "sns.countplot(x=df.PaymentMethod, ax=ax[0],color=verde);\n",
        "sns.countplot(x=df.Contract, ax=ax[1],color=verde);\n",
        "ax[0].text(0, 1.2,'Quantidade de Clientes por \\nforma de pagamento e tempo de contrato',transform=ax[0].transAxes, fontsize=18, fontweight='bold',color='#58555A')\n",
        "ax[0].set_xlabel(\"\")\n",
        "ax[1].set_xlabel(\"\")\n",
        "ax[1].set_ylabel(\"\")\n",
        "ax[0].set_ylabel(\"\")\n",
        "ax[0].spines['top'].set_visible(False)\n",
        "ax[0].spines['right'].set_visible(False)\n",
        "ax[0].spines['left'].set_visible(False)\n",
        "ax[1].spines['top'].set_visible(False)\n",
        "ax[1].spines['right'].set_visible(False)\n",
        "ax[1].spines['left'].set_visible(False)\n",
        "ax[0].set_title('Forma de Pagamento')\n",
        "ax[1].set_title('Tempo de contrato')\n",
        "plt.tight_layout()"
      ],
      "metadata": {
        "id": "Et_Is-f0X_8N",
        "outputId": "1d0b68b6-32f0-4e0d-ca26-db0163cc54ac",
        "colab": {
          "base_uri": "https://localhost:8080/",
          "height": 424
        }
      },
      "execution_count": 271,
      "outputs": [
        {
          "output_type": "display_data",
          "data": {
            "image/png": "[encoded data removed]",
            "text/plain": [
              "<Figure size 1152x432 with 2 Axes>"
            ]
          },
          "metadata": {
            "needs_background": "light"
          }
        }
      ]
    },
    {
      "cell_type": "code",
      "source": [
        "# QUANTIDADE DE CADA CATEGORIA\n",
        "print('Quantidade de clientes que cancelaram por Forma de pagamento')\n",
        "print(df[df.Churn == 'Yes'].PaymentMethod.value_counts())\n",
        "print( 25 *'-=')\n",
        "print('Quantidade de clientes que cancelaram por Contrato')\n",
        "print(df[df.Churn == 'Yes'].Contract.value_counts())"
      ],
      "metadata": {
        "colab": {
          "base_uri": "https://localhost:8080/"
        },
        "id": "K9f--XO4uXMD",
        "outputId": "436802b1-50ec-4b0f-e107-acb44611af69"
      },
      "execution_count": 272,
      "outputs": [
        {
          "output_type": "stream",
          "name": "stdout",
          "text": [
            "Quantidade de clientes que cancelaram por Forma de pagamento\n",
            "Electronic check             1071\n",
            "Mailed check                  308\n",
            "Bank transfer (automatic)     258\n",
            "Credit card (automatic)       232\n",
            "Name: PaymentMethod, dtype: int64\n",
            "-=-=-=-=-=-=-=-=-=-=-=-=-=-=-=-=-=-=-=-=-=-=-=-=-=\n",
            "Quantidade de clientes que cancelaram por Contrato\n",
            "Month-to-month    1655\n",
            "One year           166\n",
            "Two year            48\n",
            "Name: Contract, dtype: int64\n"
          ]
        }
      ]
    },
    {
      "cell_type": "markdown",
      "source": [
        "**Perfil dos clientes:**\n",
        "* a maioria dos consumidores optam por pagar suas cobranças via electronic check(cheque eletrônico)\n",
        "* a maioria dos clientes possuem contrato mensal\n",
        " \n",
        "**Perfil dos clientes que cancelam:**\n",
        "* 57,3% dos consumidores pagavam suas cobranças via electronic check(cheque eletrônico)\n",
        "* 88,5% dos consumidores possuíam contrato mensal\n"
      ],
      "metadata": {
        "id": "x1GfQFXWs1Al"
      }
    },
    {
      "cell_type": "markdown",
      "source": [
        "### Quantidade de Clientes por mês de fidelidade"
      ],
      "metadata": {
        "id": "OALCzPSUPLTj"
      }
    },
    {
      "cell_type": "code",
      "source": [
        "# PLOTAR GRÁFICO\n",
        "fig, ax = plt.subplots(figsize=(18,5),nrows=2, ncols=1)\n",
        "sns.countplot(x=df.tenure, ax=ax[0]);\n",
        "sns.countplot(x=df[df.Churn == 'Yes'].tenure, ax=ax[1]);\n",
        "ax[0].text(0, 1.2,'Quantidade de Clientes por mês de fidelidade (Total & Evasão)',transform=ax[0].transAxes, fontsize=18, fontweight='bold',color='#58555A')\n",
        "ax[0].set_title('Total')\n",
        "ax[1].set_title('Evasão')\n",
        "ax[0].set_xlabel(\"\")\n",
        "ax[1].set_xlabel(\"\")\n",
        "ax[0].set_ylabel(\"\")\n",
        "ax[1].set_ylabel(\"\")\n",
        "ax[1].spines['top'].set_visible(False)\n",
        "ax[1].spines['right'].set_visible(False)\n",
        "ax[0].spines['top'].set_visible(False)\n",
        "ax[0].spines['right'].set_visible(False)\n",
        "plt.tight_layout()"
      ],
      "metadata": {
        "id": "fUKrNi3HZ7XB",
        "outputId": "6e4d9d0e-9105-4639-b59c-0e19530d0328",
        "colab": {
          "base_uri": "https://localhost:8080/",
          "height": 321
        }
      },
      "execution_count": 273,
      "outputs": [
        {
          "output_type": "display_data",
          "data": {
            "image/png": "[encoded data removed]",
            "text/plain": [
              "<Figure size 1296x360 with 2 Axes>"
            ]
          },
          "metadata": {
            "needs_background": "light"
          }
        }
      ]
    },
    {
      "cell_type": "markdown",
      "source": [
        "**Perfil dos clientes:**\n",
        "* A empresa possui mais consumidores no primeiro mês, porém muitos clientes já possuem 72 meses de fidelidade\n",
        "* entre os meses 6-69 a empresa possui uma constância na quantidade de clientes\n",
        " \n",
        "**Perfil dos clientes que cancelam:**\n",
        "* O primeiro mês representa a maior taxa de cancelamento\n",
        "* os cancelamentos vao diminuindo progressivamente ate o sexo mes, a partir dai seguesse uma constancia, mas com reduções da taxa de cancelamento com o passar dos meses."
      ],
      "metadata": {
        "id": "MZKHH6rJx17a"
      }
    },
    {
      "cell_type": "markdown",
      "source": [
        "### Boxplot de Cobranças Mensais e Totais"
      ],
      "metadata": {
        "id": "kv90T-mxPOGL"
      }
    },
    {
      "cell_type": "code",
      "source": [
        "# PLOTAR GRÁFICO\n",
        "fig, ax = plt.subplots(figsize=(18,5),nrows=2,ncols=1)\n",
        "sns.boxplot(x=df.MonthlyCharges, y=df.Churn,ax=ax[0]);\n",
        "sns.boxplot(x=df.TotalCharges, y=df.Churn,ax=ax[1]);\n",
        "sns.set_palette(color1)\n",
        "ax[0].set_title('MonthlyCharges')\n",
        "ax[1].set_title('TotalCharges')\n",
        "ax[0].set_xlabel(\"\")\n",
        "ax[1].set_xlabel(\"\")\n",
        "ax[0].set_ylabel(\"\")\n",
        "ax[1].set_ylabel(\"\")\n",
        "ax[1].spines['top'].set_visible(False)\n",
        "ax[1].spines['right'].set_visible(False)\n",
        "ax[0].spines['top'].set_visible(False)\n",
        "ax[0].spines['right'].set_visible(False)\n",
        "plt.tight_layout()\n",
        "plt.show()"
      ],
      "metadata": {
        "id": "BlHgvGRnapDF",
        "outputId": "1397e3fe-2a9f-49ba-b7d9-5f65c76ca7aa",
        "colab": {
          "base_uri": "https://localhost:8080/",
          "height": 322
        }
      },
      "execution_count": 274,
      "outputs": [
        {
          "output_type": "display_data",
          "data": {
            "image/png": "[encoded data removed]",
            "text/plain": [
              "<Figure size 1296x360 with 2 Axes>"
            ]
          },
          "metadata": {
            "needs_background": "light"
          }
        }
      ]
    },
    {
      "cell_type": "code",
      "source": [
        "# ESTATÍSTICA DOS VALORES NÚMERICOS QUE CANCELARAM\n",
        "df[df.Churn == 'Yes'].describe()"
      ],
      "metadata": {
        "colab": {
          "base_uri": "https://localhost:8080/",
          "height": 300
        },
        "id": "a0uMc1_jKyrl",
        "outputId": "5804cb7d-bd60-4776-ce12-4d38f210f8b2"
      },
      "execution_count": 275,
      "outputs": [
        {
          "output_type": "execute_result",
          "data": {
            "text/html": [
              "\n",
              "  <div id=\"df-c4865afd-6ba2-4909-9add-10a623a96d34\">\n",
              "    <div class=\"colab-df-container\">\n",
              "      <div>\n",
              "<style scoped>\n",
              "    .dataframe tbody tr th:only-of-type {\n",
              "        vertical-align: middle;\n",
              "    }\n",
              "\n",
              "    .dataframe tbody tr th {\n",
              "        vertical-align: top;\n",
              "    }\n",
              "\n",
              "    .dataframe thead th {\n",
              "        text-align: right;\n",
              "    }\n",
              "</style>\n",
              "<table border=\"1\" class=\"dataframe\">\n",
              "  <thead>\n",
              "    <tr style=\"text-align: right;\">\n",
              "      <th></th>\n",
              "      <th>SeniorCitizen</th>\n",
              "      <th>tenure</th>\n",
              "      <th>MonthlyCharges</th>\n",
              "      <th>TotalCharges</th>\n",
              "    </tr>\n",
              "  </thead>\n",
              "  <tbody>\n",
              "    <tr>\n",
              "      <th>count</th>\n",
              "      <td>1869.000000</td>\n",
              "      <td>1869.000000</td>\n",
              "      <td>1869.000000</td>\n",
              "      <td>1869.000000</td>\n",
              "    </tr>\n",
              "    <tr>\n",
              "      <th>mean</th>\n",
              "      <td>0.254682</td>\n",
              "      <td>17.979133</td>\n",
              "      <td>74.441332</td>\n",
              "      <td>1531.796094</td>\n",
              "    </tr>\n",
              "    <tr>\n",
              "      <th>std</th>\n",
              "      <td>0.435799</td>\n",
              "      <td>19.531123</td>\n",
              "      <td>24.666053</td>\n",
              "      <td>1890.822994</td>\n",
              "    </tr>\n",
              "    <tr>\n",
              "      <th>min</th>\n",
              "      <td>0.000000</td>\n",
              "      <td>1.000000</td>\n",
              "      <td>18.850000</td>\n",
              "      <td>18.850000</td>\n",
              "    </tr>\n",
              "    <tr>\n",
              "      <th>25%</th>\n",
              "      <td>0.000000</td>\n",
              "      <td>2.000000</td>\n",
              "      <td>56.150000</td>\n",
              "      <td>134.500000</td>\n",
              "    </tr>\n",
              "    <tr>\n",
              "      <th>50%</th>\n",
              "      <td>0.000000</td>\n",
              "      <td>10.000000</td>\n",
              "      <td>79.650000</td>\n",
              "      <td>703.550000</td>\n",
              "    </tr>\n",
              "    <tr>\n",
              "      <th>75%</th>\n",
              "      <td>1.000000</td>\n",
              "      <td>29.000000</td>\n",
              "      <td>94.200000</td>\n",
              "      <td>2331.300000</td>\n",
              "    </tr>\n",
              "    <tr>\n",
              "      <th>max</th>\n",
              "      <td>1.000000</td>\n",
              "      <td>72.000000</td>\n",
              "      <td>118.350000</td>\n",
              "      <td>8684.800000</td>\n",
              "    </tr>\n",
              "  </tbody>\n",
              "</table>\n",
              "</div>\n",
              "      <button class=\"colab-df-convert\" onclick=\"convertToInteractive('df-c4865afd-6ba2-4909-9add-10a623a96d34')\"\n",
              "              title=\"Convert this dataframe to an interactive table.\"\n",
              "              style=\"display:none;\">\n",
              "        \n",
              "  <svg xmlns=\"http://www.w3.org/2000/svg\" height=\"24px\"viewBox=\"0 0 24 24\"\n",
              "       width=\"24px\">\n",
              "    <path d=\"M0 0h24v24H0V0z\" fill=\"none\"/>\n",
              "    <path d=\"M18.56 5.44l.94 2.06.94-2.06 2.06-.94-2.06-.94-.94-2.06-.94 2.06-2.06.94zm-11 1L8.5 8.5l.94-2.06 2.06-.94-2.06-.94L8.5 2.5l-.94 2.06-2.06.94zm10 10l.94 2.06.94-2.06 2.06-.94-2.06-.94-.94-2.06-.94 2.06-2.06.94z\"/><path d=\"M17.41 7.96l-1.37-1.37c-.4-.4-.92-.59-1.43-.59-.52 0-1.04.2-1.43.59L10.3 9.45l-7.72 7.72c-.78.78-.78 2.05 0 2.83L4 21.41c.39.39.9.59 1.41.59.51 0 1.02-.2 1.41-.59l7.78-7.78 2.81-2.81c.8-.78.8-2.07 0-2.86zM5.41 20L4 18.59l7.72-7.72 1.47 1.35L5.41 20z\"/>\n",
              "  </svg>\n",
              "      </button>\n",
              "      \n",
              "  <style>\n",
              "    .colab-df-container {\n",
              "      display:flex;\n",
              "      flex-wrap:wrap;\n",
              "      gap: 12px;\n",
              "    }\n",
              "\n",
              "    .colab-df-convert {\n",
              "      background-color: #E8F0FE;\n",
              "      border: none;\n",
              "      border-radius: 50%;\n",
              "      cursor: pointer;\n",
              "      display: none;\n",
              "      fill: #1967D2;\n",
              "      height: 32px;\n",
              "      padding: 0 0 0 0;\n",
              "      width: 32px;\n",
              "    }\n",
              "\n",
              "    .colab-df-convert:hover {\n",
              "      background-color: #E2EBFA;\n",
              "      box-shadow: 0px 1px 2px rgba(60, 64, 67, 0.3), 0px 1px 3px 1px rgba(60, 64, 67, 0.15);\n",
              "      fill: #174EA6;\n",
              "    }\n",
              "\n",
              "    [theme=dark] .colab-df-convert {\n",
              "      background-color: #3B4455;\n",
              "      fill: #D2E3FC;\n",
              "    }\n",
              "\n",
              "    [theme=dark] .colab-df-convert:hover {\n",
              "      background-color: #434B5C;\n",
              "      box-shadow: 0px 1px 3px 1px rgba(0, 0, 0, 0.15);\n",
              "      filter: drop-shadow(0px 1px 2px rgba(0, 0, 0, 0.3));\n",
              "      fill: #FFFFFF;\n",
              "    }\n",
              "  </style>\n",
              "\n",
              "      <script>\n",
              "        const buttonEl =\n",
              "          document.querySelector('#df-c4865afd-6ba2-4909-9add-10a623a96d34 button.colab-df-convert');\n",
              "        buttonEl.style.display =\n",
              "          google.colab.kernel.accessAllowed ? 'block' : 'none';\n",
              "\n",
              "        async function convertToInteractive(key) {\n",
              "          const element = document.querySelector('#df-c4865afd-6ba2-4909-9add-10a623a96d34');\n",
              "          const dataTable =\n",
              "            await google.colab.kernel.invokeFunction('convertToInteractive',\n",
              "                                                     [key], {});\n",
              "          if (!dataTable) return;\n",
              "\n",
              "          const docLinkHtml = 'Like what you see? Visit the ' +\n",
              "            '<a target=\"_blank\" href=https://colab.research.google.com/notebooks/data_table.ipynb>data table notebook</a>'\n",
              "            + ' to learn more about interactive tables.';\n",
              "          element.innerHTML = '';\n",
              "          dataTable['output_type'] = 'display_data';\n",
              "          await google.colab.output.renderOutput(dataTable, element);\n",
              "          const docLink = document.createElement('div');\n",
              "          docLink.innerHTML = docLinkHtml;\n",
              "          element.appendChild(docLink);\n",
              "        }\n",
              "      </script>\n",
              "    </div>\n",
              "  </div>\n",
              "  "
            ],
            "text/plain": [
              "       SeniorCitizen       tenure  MonthlyCharges  TotalCharges\n",
              "count    1869.000000  1869.000000     1869.000000   1869.000000\n",
              "mean        0.254682    17.979133       74.441332   1531.796094\n",
              "std         0.435799    19.531123       24.666053   1890.822994\n",
              "min         0.000000     1.000000       18.850000     18.850000\n",
              "25%         0.000000     2.000000       56.150000    134.500000\n",
              "50%         0.000000    10.000000       79.650000    703.550000\n",
              "75%         1.000000    29.000000       94.200000   2331.300000\n",
              "max         1.000000    72.000000      118.350000   8684.800000"
            ]
          },
          "metadata": {},
          "execution_count": 275
        }
      ]
    },
    {
      "cell_type": "markdown",
      "source": [
        "**Perfil dos clientes que cancelam:**\n",
        "* Metade dos clientes Pagavam cerca ``R$80`` por mês \n",
        "* Metade dos consumidores que cancelaram fizeram após 10 meses de serviço\n",
        "* 25% dos consumidores pagavam cerca de `R$56` por mês\n",
        "* 25% dos clientes que cancelaram fizeram após 2 meses de serviço"
      ],
      "metadata": {
        "id": "kKkj1nu60L-B"
      }
    },
    {
      "cell_type": "markdown",
      "source": [
        "### Quantidade de revalidação e Cancelamento"
      ],
      "metadata": {
        "id": "gB1QtcmMPhBT"
      }
    },
    {
      "cell_type": "code",
      "source": [
        "# PLOTAR GRÁFICO\n",
        "fig, ax = plt.subplots(figsize=(6,6))\n",
        "sns.countplot(x=df.Churn, ax=ax);\n",
        "ax.text(0, 1,'Quantidade de Cancelamento',transform=ax.transAxes, fontsize=18, fontweight='bold',color='#58555A')\n",
        "ax.set_xlabel(\"\")\n",
        "ax.set_ylabel(\"\")\n",
        "ax.spines['top'].set_visible(False)\n",
        "ax.spines['right'].set_visible(False)\n",
        "ax.spines['left'].set_visible(False)\n",
        "plt.tight_layout()"
      ],
      "metadata": {
        "id": "KPIVv-dZX_1R",
        "outputId": "d17b9091-5184-4e08-de1c-41f44fb8bfc3",
        "colab": {
          "base_uri": "https://localhost:8080/",
          "height": 441
        }
      },
      "execution_count": 276,
      "outputs": [
        {
          "output_type": "display_data",
          "data": {
            "image/png": "[encoded data removed]",
            "text/plain": [
              "<Figure size 432x432 with 1 Axes>"
            ]
          },
          "metadata": {
            "needs_background": "light"
          }
        }
      ]
    },
    {
      "cell_type": "code",
      "source": [
        "# PORCETAGEM DE CANCELAMENTO \n",
        "print(f'NÃO: {df.Churn.value_counts()[0] / df.shape[0]*100:.2f}%')\n",
        "print(f'SIM: {df.Churn.value_counts()[1] / df.shape[0]*100:.2f}%')"
      ],
      "metadata": {
        "colab": {
          "base_uri": "https://localhost:8080/"
        },
        "id": "vzpuAbeXtdnh",
        "outputId": "1a810f36-1d1a-4bd1-a12e-13f79b267a5a"
      },
      "execution_count": 277,
      "outputs": [
        {
          "output_type": "stream",
          "name": "stdout",
          "text": [
            "NÃO: 73.46%\n",
            "SIM: 26.54%\n"
          ]
        }
      ]
    },
    {
      "cell_type": "markdown",
      "source": [
        "Vemos que o Churn do dataset é 25.54%, Valor considerado alto ja que a empresa Bessemer Venture Partners, indica que uma taxa de cancelamento aceitável deve ficar entre 5% e 7%.\n",
        "\n",
        "É importante notar que os dados estão desbalanceados, logo será necessário alguma técnica de balanceamento no futuro."
      ],
      "metadata": {
        "id": "nt6p_hbQuhWe"
      }
    },
    {
      "cell_type": "markdown",
      "source": [
        "# Preparação dos Dados \n",
        "Já feita uma análise breve sobre o nosso dataset da empresa de telecomunicações, vamos partir para a preparação dos dados do modelo de machine learning, o objetivo dessa preparação e fazer com que o modelo obtenha resultados melhores, a partir disso vamos preparar os dados da seguinte maneira:\n",
        " \n",
        "* Exclusão de coluna customerID\n",
        "* Feature Engineering\n",
        "* Separação dos Dados\n",
        "* Feature Scaling\n",
        "* Balanceamento dos Dados"
      ],
      "metadata": {
        "id": "TiWrRayiuufU"
      }
    },
    {
      "cell_type": "markdown",
      "source": [
        "## Exclusão de coluna customerID\n",
        "Para deixar o nosso modelo de previsão mais leve e assertivo, vamos excluir a coluna customerID, pois a permanência dela no nosso dataset influenciará a tomada de decisão do modelo, gerando previsão pouco assertivas."
      ],
      "metadata": {
        "id": "8Y9w6LOA7gUC"
      }
    },
    {
      "cell_type": "code",
      "source": [
        "# EXCLUSÃO DA VARIÁVEL\n",
        "df = df.drop(columns=['customerID'])"
      ],
      "metadata": {
        "id": "a0aB_NxJv6Uu"
      },
      "execution_count": 278,
      "outputs": []
    },
    {
      "cell_type": "markdown",
      "source": [
        "## Feature Engineering\n",
        "Agora para melhorar nosso modelo transformaremos as variáveis categóricas em numéricas usando os métodos label enconder e get dummies. A transformação vai permitir que o modelo aprenda de forma mais coerente e que possa nos dar uma previsão mais assertiva em relação a um modelo que não tenha essa transformação.\n",
        " \n",
        "* **Método Label Enconder**\n",
        "Essa abordagem é muito simples e envolve a conversão de cada valor categórico em uma coluna de valor binário 0 ou 1. Como exemplo na variável Dependents os valores são NÃO e SIM e usando o método label enconder vamos transformá-las em 0 e 1.\n",
        " \n",
        "* **Método Get Dummies**\n",
        "Uma Dummy Variable assume um valor 0 ou 1 para indicar a ausência ou presença de determinada variável. Diferente do Label Encoding, onde cada categoria assume um valor numérico, aqui criamos uma espécie de matriz esparça, onde cada categoria ganha uma coluna, com valores 0 indicando ausência, e 1 presença.\n",
        "\n"
      ],
      "metadata": {
        "id": "IQjUE9ZLXGg_"
      }
    },
    {
      "cell_type": "code",
      "source": [
        "# PRÉ PROCESSAR AS VARIÁVEIS\n",
        "var_binaria = df.nunique()[df.nunique() == 2].keys().tolist()\n",
        "var_numerica = [col for col in df.select_dtypes(['int', 'float']).columns.tolist() if col not in var_binaria]\n",
        "var_categorica = [col for col in df.columns.tolist() if col not in var_binaria + var_numerica]\n",
        "# LABEL ENCODING PARA AS VARIÁVEIS BINÁRIAS\n",
        "le = LabelEncoder()\n",
        "for i in var_binaria:\n",
        "    df[i] = le.fit_transform(df[i])\n",
        "# ENCODING PARA COLUNAS CATEGÓRICAS COM MULTIPLAS CLASSES\n",
        "df = pd.get_dummies(df, columns= var_categorica)\n",
        "# PRIMEIRAS ENTRADAS APÓS A TRANFORMAÇÃO\n",
        "df.head()"
      ],
      "metadata": {
        "colab": {
          "base_uri": "https://localhost:8080/",
          "height": 305
        },
        "id": "G6DkKLaDA03I",
        "outputId": "a3940448-6251-46cd-cad5-d0e2caf2a545"
      },
      "execution_count": 279,
      "outputs": [
        {
          "output_type": "execute_result",
          "data": {
            "text/html": [
              "\n",
              "  <div id=\"df-9aff93d5-43e9-4869-9e3c-4b920de5b127\">\n",
              "    <div class=\"colab-df-container\">\n",
              "      <div>\n",
              "<style scoped>\n",
              "    .dataframe tbody tr th:only-of-type {\n",
              "        vertical-align: middle;\n",
              "    }\n",
              "\n",
              "    .dataframe tbody tr th {\n",
              "        vertical-align: top;\n",
              "    }\n",
              "\n",
              "    .dataframe thead th {\n",
              "        text-align: right;\n",
              "    }\n",
              "</style>\n",
              "<table border=\"1\" class=\"dataframe\">\n",
              "  <thead>\n",
              "    <tr style=\"text-align: right;\">\n",
              "      <th></th>\n",
              "      <th>gender</th>\n",
              "      <th>SeniorCitizen</th>\n",
              "      <th>Partner</th>\n",
              "      <th>Dependents</th>\n",
              "      <th>tenure</th>\n",
              "      <th>PhoneService</th>\n",
              "      <th>PaperlessBilling</th>\n",
              "      <th>MonthlyCharges</th>\n",
              "      <th>TotalCharges</th>\n",
              "      <th>Churn</th>\n",
              "      <th>MultipleLines_No</th>\n",
              "      <th>MultipleLines_No phone service</th>\n",
              "      <th>MultipleLines_Yes</th>\n",
              "      <th>InternetService_DSL</th>\n",
              "      <th>InternetService_Fiber optic</th>\n",
              "      <th>InternetService_No</th>\n",
              "      <th>OnlineSecurity_No</th>\n",
              "      <th>OnlineSecurity_No internet service</th>\n",
              "      <th>OnlineSecurity_Yes</th>\n",
              "      <th>OnlineBackup_No</th>\n",
              "      <th>OnlineBackup_No internet service</th>\n",
              "      <th>OnlineBackup_Yes</th>\n",
              "      <th>DeviceProtection_No</th>\n",
              "      <th>DeviceProtection_No internet service</th>\n",
              "      <th>DeviceProtection_Yes</th>\n",
              "      <th>TechSupport_No</th>\n",
              "      <th>TechSupport_No internet service</th>\n",
              "      <th>TechSupport_Yes</th>\n",
              "      <th>StreamingTV_No</th>\n",
              "      <th>StreamingTV_No internet service</th>\n",
              "      <th>StreamingTV_Yes</th>\n",
              "      <th>StreamingMovies_No</th>\n",
              "      <th>StreamingMovies_No internet service</th>\n",
              "      <th>StreamingMovies_Yes</th>\n",
              "      <th>Contract_Month-to-month</th>\n",
              "      <th>Contract_One year</th>\n",
              "      <th>Contract_Two year</th>\n",
              "      <th>PaymentMethod_Bank transfer (automatic)</th>\n",
              "      <th>PaymentMethod_Credit card (automatic)</th>\n",
              "      <th>PaymentMethod_Electronic check</th>\n",
              "      <th>PaymentMethod_Mailed check</th>\n",
              "    </tr>\n",
              "  </thead>\n",
              "  <tbody>\n",
              "    <tr>\n",
              "      <th>0</th>\n",
              "      <td>0</td>\n",
              "      <td>0</td>\n",
              "      <td>1</td>\n",
              "      <td>0</td>\n",
              "      <td>1</td>\n",
              "      <td>0</td>\n",
              "      <td>1</td>\n",
              "      <td>29.85</td>\n",
              "      <td>29.85</td>\n",
              "      <td>0</td>\n",
              "      <td>0</td>\n",
              "      <td>1</td>\n",
              "      <td>0</td>\n",
              "      <td>1</td>\n",
              "      <td>0</td>\n",
              "      <td>0</td>\n",
              "      <td>1</td>\n",
              "      <td>0</td>\n",
              "      <td>0</td>\n",
              "      <td>0</td>\n",
              "      <td>0</td>\n",
              "      <td>1</td>\n",
              "      <td>1</td>\n",
              "      <td>0</td>\n",
              "      <td>0</td>\n",
              "      <td>1</td>\n",
              "      <td>0</td>\n",
              "      <td>0</td>\n",
              "      <td>1</td>\n",
              "      <td>0</td>\n",
              "      <td>0</td>\n",
              "      <td>1</td>\n",
              "      <td>0</td>\n",
              "      <td>0</td>\n",
              "      <td>1</td>\n",
              "      <td>0</td>\n",
              "      <td>0</td>\n",
              "      <td>0</td>\n",
              "      <td>0</td>\n",
              "      <td>1</td>\n",
              "      <td>0</td>\n",
              "    </tr>\n",
              "    <tr>\n",
              "      <th>1</th>\n",
              "      <td>1</td>\n",
              "      <td>0</td>\n",
              "      <td>0</td>\n",
              "      <td>0</td>\n",
              "      <td>34</td>\n",
              "      <td>1</td>\n",
              "      <td>0</td>\n",
              "      <td>56.95</td>\n",
              "      <td>1889.50</td>\n",
              "      <td>0</td>\n",
              "      <td>1</td>\n",
              "      <td>0</td>\n",
              "      <td>0</td>\n",
              "      <td>1</td>\n",
              "      <td>0</td>\n",
              "      <td>0</td>\n",
              "      <td>0</td>\n",
              "      <td>0</td>\n",
              "      <td>1</td>\n",
              "      <td>1</td>\n",
              "      <td>0</td>\n",
              "      <td>0</td>\n",
              "      <td>0</td>\n",
              "      <td>0</td>\n",
              "      <td>1</td>\n",
              "      <td>1</td>\n",
              "      <td>0</td>\n",
              "      <td>0</td>\n",
              "      <td>1</td>\n",
              "      <td>0</td>\n",
              "      <td>0</td>\n",
              "      <td>1</td>\n",
              "      <td>0</td>\n",
              "      <td>0</td>\n",
              "      <td>0</td>\n",
              "      <td>1</td>\n",
              "      <td>0</td>\n",
              "      <td>0</td>\n",
              "      <td>0</td>\n",
              "      <td>0</td>\n",
              "      <td>1</td>\n",
              "    </tr>\n",
              "    <tr>\n",
              "      <th>2</th>\n",
              "      <td>1</td>\n",
              "      <td>0</td>\n",
              "      <td>0</td>\n",
              "      <td>0</td>\n",
              "      <td>2</td>\n",
              "      <td>1</td>\n",
              "      <td>1</td>\n",
              "      <td>53.85</td>\n",
              "      <td>108.15</td>\n",
              "      <td>1</td>\n",
              "      <td>1</td>\n",
              "      <td>0</td>\n",
              "      <td>0</td>\n",
              "      <td>1</td>\n",
              "      <td>0</td>\n",
              "      <td>0</td>\n",
              "      <td>0</td>\n",
              "      <td>0</td>\n",
              "      <td>1</td>\n",
              "      <td>0</td>\n",
              "      <td>0</td>\n",
              "      <td>1</td>\n",
              "      <td>1</td>\n",
              "      <td>0</td>\n",
              "      <td>0</td>\n",
              "      <td>1</td>\n",
              "      <td>0</td>\n",
              "      <td>0</td>\n",
              "      <td>1</td>\n",
              "      <td>0</td>\n",
              "      <td>0</td>\n",
              "      <td>1</td>\n",
              "      <td>0</td>\n",
              "      <td>0</td>\n",
              "      <td>1</td>\n",
              "      <td>0</td>\n",
              "      <td>0</td>\n",
              "      <td>0</td>\n",
              "      <td>0</td>\n",
              "      <td>0</td>\n",
              "      <td>1</td>\n",
              "    </tr>\n",
              "    <tr>\n",
              "      <th>3</th>\n",
              "      <td>1</td>\n",
              "      <td>0</td>\n",
              "      <td>0</td>\n",
              "      <td>0</td>\n",
              "      <td>45</td>\n",
              "      <td>0</td>\n",
              "      <td>0</td>\n",
              "      <td>42.30</td>\n",
              "      <td>1840.75</td>\n",
              "      <td>0</td>\n",
              "      <td>0</td>\n",
              "      <td>1</td>\n",
              "      <td>0</td>\n",
              "      <td>1</td>\n",
              "      <td>0</td>\n",
              "      <td>0</td>\n",
              "      <td>0</td>\n",
              "      <td>0</td>\n",
              "      <td>1</td>\n",
              "      <td>1</td>\n",
              "      <td>0</td>\n",
              "      <td>0</td>\n",
              "      <td>0</td>\n",
              "      <td>0</td>\n",
              "      <td>1</td>\n",
              "      <td>0</td>\n",
              "      <td>0</td>\n",
              "      <td>1</td>\n",
              "      <td>1</td>\n",
              "      <td>0</td>\n",
              "      <td>0</td>\n",
              "      <td>1</td>\n",
              "      <td>0</td>\n",
              "      <td>0</td>\n",
              "      <td>0</td>\n",
              "      <td>1</td>\n",
              "      <td>0</td>\n",
              "      <td>1</td>\n",
              "      <td>0</td>\n",
              "      <td>0</td>\n",
              "      <td>0</td>\n",
              "    </tr>\n",
              "    <tr>\n",
              "      <th>4</th>\n",
              "      <td>0</td>\n",
              "      <td>0</td>\n",
              "      <td>0</td>\n",
              "      <td>0</td>\n",
              "      <td>2</td>\n",
              "      <td>1</td>\n",
              "      <td>1</td>\n",
              "      <td>70.70</td>\n",
              "      <td>151.65</td>\n",
              "      <td>1</td>\n",
              "      <td>1</td>\n",
              "      <td>0</td>\n",
              "      <td>0</td>\n",
              "      <td>0</td>\n",
              "      <td>1</td>\n",
              "      <td>0</td>\n",
              "      <td>1</td>\n",
              "      <td>0</td>\n",
              "      <td>0</td>\n",
              "      <td>1</td>\n",
              "      <td>0</td>\n",
              "      <td>0</td>\n",
              "      <td>1</td>\n",
              "      <td>0</td>\n",
              "      <td>0</td>\n",
              "      <td>1</td>\n",
              "      <td>0</td>\n",
              "      <td>0</td>\n",
              "      <td>1</td>\n",
              "      <td>0</td>\n",
              "      <td>0</td>\n",
              "      <td>1</td>\n",
              "      <td>0</td>\n",
              "      <td>0</td>\n",
              "      <td>1</td>\n",
              "      <td>0</td>\n",
              "      <td>0</td>\n",
              "      <td>0</td>\n",
              "      <td>0</td>\n",
              "      <td>1</td>\n",
              "      <td>0</td>\n",
              "    </tr>\n",
              "  </tbody>\n",
              "</table>\n",
              "</div>\n",
              "      <button class=\"colab-df-convert\" onclick=\"convertToInteractive('df-9aff93d5-43e9-4869-9e3c-4b920de5b127')\"\n",
              "              title=\"Convert this dataframe to an interactive table.\"\n",
              "              style=\"display:none;\">\n",
              "        \n",
              "  <svg xmlns=\"http://www.w3.org/2000/svg\" height=\"24px\"viewBox=\"0 0 24 24\"\n",
              "       width=\"24px\">\n",
              "    <path d=\"M0 0h24v24H0V0z\" fill=\"none\"/>\n",
              "    <path d=\"M18.56 5.44l.94 2.06.94-2.06 2.06-.94-2.06-.94-.94-2.06-.94 2.06-2.06.94zm-11 1L8.5 8.5l.94-2.06 2.06-.94-2.06-.94L8.5 2.5l-.94 2.06-2.06.94zm10 10l.94 2.06.94-2.06 2.06-.94-2.06-.94-.94-2.06-.94 2.06-2.06.94z\"/><path d=\"M17.41 7.96l-1.37-1.37c-.4-.4-.92-.59-1.43-.59-.52 0-1.04.2-1.43.59L10.3 9.45l-7.72 7.72c-.78.78-.78 2.05 0 2.83L4 21.41c.39.39.9.59 1.41.59.51 0 1.02-.2 1.41-.59l7.78-7.78 2.81-2.81c.8-.78.8-2.07 0-2.86zM5.41 20L4 18.59l7.72-7.72 1.47 1.35L5.41 20z\"/>\n",
              "  </svg>\n",
              "      </button>\n",
              "      \n",
              "  <style>\n",
              "    .colab-df-container {\n",
              "      display:flex;\n",
              "      flex-wrap:wrap;\n",
              "      gap: 12px;\n",
              "    }\n",
              "\n",
              "    .colab-df-convert {\n",
              "      background-color: #E8F0FE;\n",
              "      border: none;\n",
              "      border-radius: 50%;\n",
              "      cursor: pointer;\n",
              "      display: none;\n",
              "      fill: #1967D2;\n",
              "      height: 32px;\n",
              "      padding: 0 0 0 0;\n",
              "      width: 32px;\n",
              "    }\n",
              "\n",
              "    .colab-df-convert:hover {\n",
              "      background-color: #E2EBFA;\n",
              "      box-shadow: 0px 1px 2px rgba(60, 64, 67, 0.3), 0px 1px 3px 1px rgba(60, 64, 67, 0.15);\n",
              "      fill: #174EA6;\n",
              "    }\n",
              "\n",
              "    [theme=dark] .colab-df-convert {\n",
              "      background-color: #3B4455;\n",
              "      fill: #D2E3FC;\n",
              "    }\n",
              "\n",
              "    [theme=dark] .colab-df-convert:hover {\n",
              "      background-color: #434B5C;\n",
              "      box-shadow: 0px 1px 3px 1px rgba(0, 0, 0, 0.15);\n",
              "      filter: drop-shadow(0px 1px 2px rgba(0, 0, 0, 0.3));\n",
              "      fill: #FFFFFF;\n",
              "    }\n",
              "  </style>\n",
              "\n",
              "      <script>\n",
              "        const buttonEl =\n",
              "          document.querySelector('#df-9aff93d5-43e9-4869-9e3c-4b920de5b127 button.colab-df-convert');\n",
              "        buttonEl.style.display =\n",
              "          google.colab.kernel.accessAllowed ? 'block' : 'none';\n",
              "\n",
              "        async function convertToInteractive(key) {\n",
              "          const element = document.querySelector('#df-9aff93d5-43e9-4869-9e3c-4b920de5b127');\n",
              "          const dataTable =\n",
              "            await google.colab.kernel.invokeFunction('convertToInteractive',\n",
              "                                                     [key], {});\n",
              "          if (!dataTable) return;\n",
              "\n",
              "          const docLinkHtml = 'Like what you see? Visit the ' +\n",
              "            '<a target=\"_blank\" href=https://colab.research.google.com/notebooks/data_table.ipynb>data table notebook</a>'\n",
              "            + ' to learn more about interactive tables.';\n",
              "          element.innerHTML = '';\n",
              "          dataTable['output_type'] = 'display_data';\n",
              "          await google.colab.output.renderOutput(dataTable, element);\n",
              "          const docLink = document.createElement('div');\n",
              "          docLink.innerHTML = docLinkHtml;\n",
              "          element.appendChild(docLink);\n",
              "        }\n",
              "      </script>\n",
              "    </div>\n",
              "  </div>\n",
              "  "
            ],
            "text/plain": [
              "   gender  ...  PaymentMethod_Mailed check\n",
              "0       0  ...                           0\n",
              "1       1  ...                           1\n",
              "2       1  ...                           1\n",
              "3       1  ...                           0\n",
              "4       0  ...                           0\n",
              "\n",
              "[5 rows x 41 columns]"
            ]
          },
          "metadata": {},
          "execution_count": 279
        }
      ]
    },
    {
      "cell_type": "code",
      "source": [
        "# QUANTIDADE DE COLUNAS\n",
        "print(f'Quantiade de colunas original: 20')\n",
        "print(f'Quantiade de colunas após tratamento: {df.shape[1]}')"
      ],
      "metadata": {
        "colab": {
          "base_uri": "https://localhost:8080/"
        },
        "id": "mWzVDaEMXY-p",
        "outputId": "574ef7e1-ff4b-475e-a5dc-2ad3d617b570"
      },
      "execution_count": 280,
      "outputs": [
        {
          "output_type": "stream",
          "name": "stdout",
          "text": [
            "Quantiade de colunas original: 20\n",
            "Quantiade de colunas após tratamento: 41\n"
          ]
        }
      ]
    },
    {
      "cell_type": "markdown",
      "source": [
        "## Separação dos dados\n",
        "**A importância de dividir os dados**\n",
        "\n",
        "\n",
        "Avaliar o modelo com os mesmos dados usados no treinamento não é útil, pois isso acaba recompensando os modelos que conseguem \"memorizar\" os dados de treinamento, invés de fazer a generalização a partir deles.\n",
        "\n",
        "**Vamos dividir os dados disponíveis em:**\n",
        "\n",
        "* **Dados de treinamento:** usado para treinar o modelo.\n",
        "* **Dados de simulação real:** usado para comprovar que aquele modelo realmente funciona. São dados ignorados no treinamento e no processo de escolha de hiperparâmetros. Estes seriam os dados operacionais de um exemplo real.\n",
        "\n"
      ],
      "metadata": {
        "id": "DiU2MYLRbW4C"
      }
    },
    {
      "cell_type": "code",
      "source": [
        "# SEPARAÇÃO DOS DADOS\n",
        "simu_real = df.sample(frac=0.15, random_state=0)\n",
        "df_proc = df.drop(simu_real.index)\n",
        "print(f'Dados Original: {df.shape}')\n",
        "print(f'Dados de Treino: {df_proc.shape}')\n",
        "print(f'Dados de simulação real: {simu_real.shape}')"
      ],
      "metadata": {
        "colab": {
          "base_uri": "https://localhost:8080/"
        },
        "id": "lv5tUw_qcxf9",
        "outputId": "dd5fe541-8981-4100-8a45-4fbefdb3025e"
      },
      "execution_count": 281,
      "outputs": [
        {
          "output_type": "stream",
          "name": "stdout",
          "text": [
            "Dados Original: (7043, 41)\n",
            "Dados de Treino: (5987, 41)\n",
            "Dados de simulação real: (1056, 41)\n"
          ]
        }
      ]
    },
    {
      "cell_type": "markdown",
      "source": [
        "Após isso vamos dividir novamente os dados de treinamento em:\n",
        "\n",
        "* **Dados de treinamento:** usado para treinar o modelo.\n",
        "* **Dados de validação:** usado para comparação de diferentes modelos e hiperparâmetros."
      ],
      "metadata": {
        "id": "bblA78GhX8F_"
      }
    },
    {
      "cell_type": "code",
      "source": [
        "# SEPARAÇÃO DOS DADOS ENTRE COLUNA ALVO E PREVISORES\n",
        "X = df_proc.drop('Churn', axis=1)\n",
        "y = df_proc['Churn']\n",
        "# DIVISÃO DOS DADOS ENTRE TREINO E TESTE\n",
        "X_train, X_test, y_train, y_test = train_test_split(X, y, stratify=y, shuffle=True)"
      ],
      "metadata": {
        "id": "7lJQtXmjbjl-"
      },
      "execution_count": 282,
      "outputs": []
    },
    {
      "cell_type": "markdown",
      "source": [
        "## Feature Scaling\n",
        "Por que padronizar os dados?\n",
        "\n",
        "* O objetivo da padronização é alterar os valores das colunas numéricas no conjunto de dados para uma escala comum, sem distorcer as diferenças nos intervalos de valores, ou seja, sem a padronização a variável com maior valor influenciará bastante o resultado e não necessariamente porque ela é mais importante como um preditor.\n",
        " \n",
        "Para Padronizar o dataset de treino usaremos o método:\n",
        "* **StandardScaler**\n",
        " \n",
        "Usar o método StandardScaler irá padronizar as variáveis que resultarão em uma média igual a 0 e um desvio padrão igual a 1.\n",
        "\n",
        "Vale ressaltar que os dados padronizados foram os de treino, logo ao usar os dados de validação e simulação real será necessário padronizá-los também.\n",
        "\n"
      ],
      "metadata": {
        "id": "eaja_BKBZ7lV"
      }
    },
    {
      "cell_type": "code",
      "source": [
        "# PADRONIZAR OS DADOS\n",
        "scaler = StandardScaler().fit(X_train)\n",
        "X_train = scaler.transform(X_train)"
      ],
      "metadata": {
        "id": "8uMG8jD8fohn"
      },
      "execution_count": 283,
      "outputs": []
    },
    {
      "cell_type": "markdown",
      "source": [
        "## Balanceamento dos dados\n",
        "Por que balancear os dados da variável alvo (Churn)?\n",
        " \n",
        "* Se você está construindo um modelo de machine learning para classificação será necessário balancear os dados, pois, a consequência do desequilíbrio da variável alvo é que o modelo terá uma tendência a dar muitos “alarmes falsos“. Ou seja, na prática ele irá responder muito bem às entradas para as classes majoritárias, mas terá um desempenho inferior para as minoritárias.\n",
        " \n",
        "Por fim vamos balancear os dados, usando técnicas de:\n",
        " \n",
        "* **UnderSampling**\n",
        " \n",
        "Irá extrair um subconjunto aleatório da classe majoritária, preservando as características da classe minoritária, sendo ideal para situações onde você tem grandes volumes de dados. Apesar de reduzir o tempo computacional e de armazenamento, esta técnica descarta informações da classe majoritária, o que pode levar a uma performance inferior nas predições dela.\n",
        " \n",
        "* **SMOTE**\n",
        " \n",
        "Consiste em gerar dados sintéticos (não duplicados) da classe minoritária a partir de vizinhos. Porém o custo computacional será elevado e você irá deteriorar a performance do algoritmo para as classes minoritárias.\n",
        "\n",
        "<p align=center>\n",
        "<img src=\"https://github.com/carvalhopinheiro/Coisas-Salvas/blob/main/UNDERSAMPLING%20(1).png?raw=true\" width=\"50%\"></p>\n",
        "\n"
      ],
      "metadata": {
        "id": "7r67mmA7oykH"
      }
    },
    {
      "cell_type": "code",
      "source": [
        "# SMOTE\n",
        "smt = SMOTE()\n",
        "X_ros, y_ros = smt.fit_resample(X_train, y_train)\n",
        "# UNDER SAMPLING\n",
        "rus = RandomUnderSampler()\n",
        "X_rus, y_rus = rus.fit_resample(X_train, y_train)"
      ],
      "metadata": {
        "id": "RN0B8by1w7h2"
      },
      "execution_count": 284,
      "outputs": []
    },
    {
      "cell_type": "code",
      "source": [
        "# CHECAR O TAMANHO DO DATASET APÓS O BALACEAMENTO\n",
        "print(f'Tamanho Sem Balaceamento: {y_train.shape[0]}')\n",
        "print(f'Tamanho Com Over Sampling: {y_ros.shape[0]}')\n",
        "print(f'Tamanho Com Under Sampling: {y_rus.shape[0]}')\n",
        "print('')\n",
        "# PLOT DO TAMANHO DO DATASET APÓS O BALANCEAMENTO \n",
        "fig, ax = plt.subplots(nrows=1 , ncols=2, figsize=(10, 4))\n",
        "sns.countplot(x=y_ros, ax=ax[0]);\n",
        "sns.countplot(x=y_rus, ax=ax[1]);\n",
        "ax[0].spines['top'].set_visible(False)\n",
        "ax[0].spines['right'].set_visible(False)\n",
        "ax[0].spines['left'].set_visible(False)\n",
        "ax[1].spines['top'].set_visible(False)\n",
        "ax[1].spines['right'].set_visible(False)\n",
        "ax[1].spines['left'].set_visible(False)\n",
        "ax[0].set_ylabel(\"\")\n",
        "ax[1].set_ylabel(\"\")\n",
        "ax[1].set_title('UnderSampling')\n",
        "ax[0].set_title('OverSampling')\n",
        "plt.show()"
      ],
      "metadata": {
        "colab": {
          "base_uri": "https://localhost:8080/",
          "height": 365
        },
        "id": "7kWJd00j3va6",
        "outputId": "84e547a7-91c1-4922-e7c4-1a97ebc0f48f"
      },
      "execution_count": 285,
      "outputs": [
        {
          "output_type": "stream",
          "name": "stdout",
          "text": [
            "Tamanho Sem Balaceamento: 4490\n",
            "Tamanho Com Over Sampling: 6574\n",
            "Tamanho Com Under Sampling: 2406\n",
            "\n"
          ]
        },
        {
          "output_type": "display_data",
          "data": {
            "image/png": "[encoded data removed]",
            "text/plain": [
              "<Figure size 720x288 with 2 Axes>"
            ]
          },
          "metadata": {
            "needs_background": "light"
          }
        }
      ]
    },
    {
      "cell_type": "markdown",
      "source": [
        "# Validação Cruzada\n",
        "A validação cruzada é uma técnica para avaliar como a análise estatística se generaliza para um conjunto de dados independente. É uma técnica para avaliar modelos de aprendizado de máquina treinando vários modelos em subconjuntos dos dados de entrada disponíveis e avaliando-os no subconjunto complementar dos dados. Usando validação cruzada, há grandes chances de que possamos detectar o ajuste excessivo com facilidade.\n",
        "\n",
        "![FFF.png](data:image/png;base64,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)"
      ],
      "metadata": {
        "id": "xGPGKJAtYFj1"
      }
    },
    {
      "cell_type": "code",
      "source": [
        "# FUNÇÃO DE VALIDAÇÃO CRUZADA\n",
        "def val_model(X, y, clf, quite=False):\n",
        "    \"\"\"\n",
        "    Realiza cross-validation com os dados de treino para determinado modelo.\n",
        "\n",
        "    # Arguments\n",
        "        X: DataFrame, contém as variáveis independentes.\n",
        "        y: Series, vetor contendo a variável alvo.\n",
        "        clf: modelo classificador do Scikit-learn.\n",
        "        quite: bool, indicando se a função deve imprimir os resultados ou não.\n",
        "\n",
        "    # Returns\n",
        "        float, média dos scores da cross-validation.\n",
        "    \"\"\"\n",
        "\n",
        "    X = np.array(X)\n",
        "    y = np.array(y)\n",
        "\n",
        "    pipeline = make_pipeline(StandardScaler(), clf)\n",
        "    scores = cross_val_score(pipeline, X, y, scoring='recall')\n",
        "\n",
        "    if quite == False:\n",
        "        print(\"Recall: {:.2f} (+/- {:.2f})\".format(scores.mean(), scores.std()))\n",
        "\n",
        "    return scores.mean()"
      ],
      "metadata": {
        "id": "nQJMvsp0m6hR"
      },
      "execution_count": 286,
      "outputs": []
    },
    {
      "cell_type": "code",
      "source": [
        "# MODELO COM DADOS DE TREINO\n",
        "rf = RandomForestClassifier()\n",
        "score_baseline = val_model(X_train, y_train, rf)"
      ],
      "metadata": {
        "colab": {
          "base_uri": "https://localhost:8080/"
        },
        "id": "GseKQutBnYvj",
        "outputId": "3dc6e4aa-958b-4920-abb9-279ad817a43e"
      },
      "execution_count": 287,
      "outputs": [
        {
          "output_type": "stream",
          "name": "stdout",
          "text": [
            "Recall: 0.50 (+/- 0.02)\n"
          ]
        }
      ]
    },
    {
      "cell_type": "markdown",
      "source": [
        "* **Por que utilizamos o recall como forma de avaliar o modelo?**\n",
        " \n",
        "O recall pode ser usado em situações em que os Falsos Negativos são considerados mais prejudiciais que os Falsos Positivos. Por exemplo, o modelo deve de qualquer maneira encontrar todos os consumidores que irão cancelar, mesmo que classifique alguns usuários fiéis como possíveis canceladores do serviço (situação de Falso Positivo) no processo. Ou seja, o modelo deve ter alto recall, pois classificar consumidores que têm alto potencial de cancelamento como clientes fiéis pode ser uma tragédia.\n",
        " \n",
        "* **Por que usamos random forest como o primeiro modelo e quais foram seus resultados?**\n",
        " \n",
        "A Random Forest, como o próprio nome indica, consiste em um grande número de Decision Trees que operam como um conjunto. Essa combinação de modelos, torna ele um algoritmo muito poderoso, por isso decidimos usá-lo como primeiro modelo da nossa validação cruzada e teremos um recall de comparação com os próximos modelos a serem avaliados com dados balanceados.\n",
        " \n",
        "Vale ressaltar que o modelo treinado com os dados de treino apresentou um recall de 50%, ou seja, ele consegue prever 50% dos clientes com potencial de cancelamento.\n"
      ],
      "metadata": {
        "id": "zeBxJsvoqx0H"
      }
    },
    {
      "cell_type": "markdown",
      "source": [
        "# Modelo de Machine Learning\n",
        "Os Modelos que serão testados são de Classificação para Aprendizado supervisionado, ou seja, irão analisar as variáveis independentes para prever a variável dependente (Churn), além disso na validação cruzada desses modelos usaremos dados balanceados com SMOTE e Under Sampling e definiremos qual teve melhor resultado.\n",
        " \n",
        "Selecionamos 4 Modelos para comparação, são eles:\n",
        "* **DecisionTree**\n",
        " \n",
        "Modelo da árvore de decisão é uma árvore binária. Cada nó representa uma única variável de entrada (x) e um ponto de divisão nessa variável (assumindo que a variável seja numérica).Os nós das folhas da árvore contêm uma variável de saída (y) que é usada para fazer uma previsão. As previsões são feitas percorrendo as divisões da árvore até chegar a uma folha e gerar o valor da classe nessa folha.\n",
        "* **RandomForest**\n",
        " \n",
        "Os algoritmos Random Forest são criados por várias árvores de decisão, geralmente treinados com o método de bagging, cuja ideia principal é que a combinação de modelos aumenta o resultado final.\n",
        "* **XGBoost**\n",
        " \n",
        "Modelo de Machine Learning que usa a técnica de Gradient Boosting, capaz de combinar resultados de diversos classificadores \"fracos\" (tipicamente árvores de decisão) que são combinados mediante um comitê forte de decisão.\n",
        "* **Logistic Regression**\n",
        " \n",
        "A regressão logística é o método usado para problemas de classificação binária (problemas com dois valores de classe), utilizando conceitos de estatística e probabilidade. É um algoritmo que lida com questões e problemas de classificação, analisando diferentes aspectos ou variáveis de um objeto para depois determinar uma classe na qual ele se encaixa melhor.\n"
      ],
      "metadata": {
        "id": "i0qtIsZF5p9q"
      }
    },
    {
      "cell_type": "code",
      "source": [
        "# INSTANCIANDO MODELOS\n",
        "rf = RandomForestClassifier()\n",
        "dt = DecisionTreeClassifier()\n",
        "lr = LogisticRegression()\n",
        "xgb = XGBClassifier()"
      ],
      "metadata": {
        "id": "ndJJMxzC1Vlm"
      },
      "execution_count": 288,
      "outputs": []
    },
    {
      "cell_type": "markdown",
      "source": [
        "### Avaliando Modelos com UnderSampling"
      ],
      "metadata": {
        "id": "yfElHhnOkg5U"
      }
    },
    {
      "cell_type": "code",
      "source": [
        "# AVALIAR DESEMPENHO DOS MODELOS (RECALL) COM UNDER SAMPLING\n",
        "model = []\n",
        "recall = []\n",
        "\n",
        "for clf in (rf, dt,lr , xgb):\n",
        "    model.append(clf.__class__.__name__)\n",
        "    recall.append(val_model(X_rus, y_rus, clf, quite=True))\n",
        "\n",
        "pd.DataFrame(data=recall, index=model, columns=['Recall'])"
      ],
      "metadata": {
        "colab": {
          "base_uri": "https://localhost:8080/",
          "height": 174
        },
        "id": "Ojfl6nzeAZEb",
        "outputId": "3b88bba9-2c87-486a-cb02-bbe6755e1ed4"
      },
      "execution_count": 289,
      "outputs": [
        {
          "output_type": "execute_result",
          "data": {
            "text/html": [
              "\n",
              "  <div id=\"df-600dd1bc-a07a-437c-982b-46cb27bcea1b\">\n",
              "    <div class=\"colab-df-container\">\n",
              "      <div>\n",
              "<style scoped>\n",
              "    .dataframe tbody tr th:only-of-type {\n",
              "        vertical-align: middle;\n",
              "    }\n",
              "\n",
              "    .dataframe tbody tr th {\n",
              "        vertical-align: top;\n",
              "    }\n",
              "\n",
              "    .dataframe thead th {\n",
              "        text-align: right;\n",
              "    }\n",
              "</style>\n",
              "<table border=\"1\" class=\"dataframe\">\n",
              "  <thead>\n",
              "    <tr style=\"text-align: right;\">\n",
              "      <th></th>\n",
              "      <th>Recall</th>\n",
              "    </tr>\n",
              "  </thead>\n",
              "  <tbody>\n",
              "    <tr>\n",
              "      <th>RandomForestClassifier</th>\n",
              "      <td>0.770588</td>\n",
              "    </tr>\n",
              "    <tr>\n",
              "      <th>DecisionTreeClassifier</th>\n",
              "      <td>0.682472</td>\n",
              "    </tr>\n",
              "    <tr>\n",
              "      <th>LogisticRegression</th>\n",
              "      <td>0.812998</td>\n",
              "    </tr>\n",
              "    <tr>\n",
              "      <th>XGBClassifier</th>\n",
              "      <td>0.806342</td>\n",
              "    </tr>\n",
              "  </tbody>\n",
              "</table>\n",
              "</div>\n",
              "      <button class=\"colab-df-convert\" onclick=\"convertToInteractive('df-600dd1bc-a07a-437c-982b-46cb27bcea1b')\"\n",
              "              title=\"Convert this dataframe to an interactive table.\"\n",
              "              style=\"display:none;\">\n",
              "        \n",
              "  <svg xmlns=\"http://www.w3.org/2000/svg\" height=\"24px\"viewBox=\"0 0 24 24\"\n",
              "       width=\"24px\">\n",
              "    <path d=\"M0 0h24v24H0V0z\" fill=\"none\"/>\n",
              "    <path d=\"M18.56 5.44l.94 2.06.94-2.06 2.06-.94-2.06-.94-.94-2.06-.94 2.06-2.06.94zm-11 1L8.5 8.5l.94-2.06 2.06-.94-2.06-.94L8.5 2.5l-.94 2.06-2.06.94zm10 10l.94 2.06.94-2.06 2.06-.94-2.06-.94-.94-2.06-.94 2.06-2.06.94z\"/><path d=\"M17.41 7.96l-1.37-1.37c-.4-.4-.92-.59-1.43-.59-.52 0-1.04.2-1.43.59L10.3 9.45l-7.72 7.72c-.78.78-.78 2.05 0 2.83L4 21.41c.39.39.9.59 1.41.59.51 0 1.02-.2 1.41-.59l7.78-7.78 2.81-2.81c.8-.78.8-2.07 0-2.86zM5.41 20L4 18.59l7.72-7.72 1.47 1.35L5.41 20z\"/>\n",
              "  </svg>\n",
              "      </button>\n",
              "      \n",
              "  <style>\n",
              "    .colab-df-container {\n",
              "      display:flex;\n",
              "      flex-wrap:wrap;\n",
              "      gap: 12px;\n",
              "    }\n",
              "\n",
              "    .colab-df-convert {\n",
              "      background-color: #E8F0FE;\n",
              "      border: none;\n",
              "      border-radius: 50%;\n",
              "      cursor: pointer;\n",
              "      display: none;\n",
              "      fill: #1967D2;\n",
              "      height: 32px;\n",
              "      padding: 0 0 0 0;\n",
              "      width: 32px;\n",
              "    }\n",
              "\n",
              "    .colab-df-convert:hover {\n",
              "      background-color: #E2EBFA;\n",
              "      box-shadow: 0px 1px 2px rgba(60, 64, 67, 0.3), 0px 1px 3px 1px rgba(60, 64, 67, 0.15);\n",
              "      fill: #174EA6;\n",
              "    }\n",
              "\n",
              "    [theme=dark] .colab-df-convert {\n",
              "      background-color: #3B4455;\n",
              "      fill: #D2E3FC;\n",
              "    }\n",
              "\n",
              "    [theme=dark] .colab-df-convert:hover {\n",
              "      background-color: #434B5C;\n",
              "      box-shadow: 0px 1px 3px 1px rgba(0, 0, 0, 0.15);\n",
              "      filter: drop-shadow(0px 1px 2px rgba(0, 0, 0, 0.3));\n",
              "      fill: #FFFFFF;\n",
              "    }\n",
              "  </style>\n",
              "\n",
              "      <script>\n",
              "        const buttonEl =\n",
              "          document.querySelector('#df-600dd1bc-a07a-437c-982b-46cb27bcea1b button.colab-df-convert');\n",
              "        buttonEl.style.display =\n",
              "          google.colab.kernel.accessAllowed ? 'block' : 'none';\n",
              "\n",
              "        async function convertToInteractive(key) {\n",
              "          const element = document.querySelector('#df-600dd1bc-a07a-437c-982b-46cb27bcea1b');\n",
              "          const dataTable =\n",
              "            await google.colab.kernel.invokeFunction('convertToInteractive',\n",
              "                                                     [key], {});\n",
              "          if (!dataTable) return;\n",
              "\n",
              "          const docLinkHtml = 'Like what you see? Visit the ' +\n",
              "            '<a target=\"_blank\" href=https://colab.research.google.com/notebooks/data_table.ipynb>data table notebook</a>'\n",
              "            + ' to learn more about interactive tables.';\n",
              "          element.innerHTML = '';\n",
              "          dataTable['output_type'] = 'display_data';\n",
              "          await google.colab.output.renderOutput(dataTable, element);\n",
              "          const docLink = document.createElement('div');\n",
              "          docLink.innerHTML = docLinkHtml;\n",
              "          element.appendChild(docLink);\n",
              "        }\n",
              "      </script>\n",
              "    </div>\n",
              "  </div>\n",
              "  "
            ],
            "text/plain": [
              "                          Recall\n",
              "RandomForestClassifier  0.770588\n",
              "DecisionTreeClassifier  0.682472\n",
              "LogisticRegression      0.812998\n",
              "XGBClassifier           0.806342"
            ]
          },
          "metadata": {},
          "execution_count": 289
        }
      ]
    },
    {
      "cell_type": "markdown",
      "source": [
        "O modelo com o melhor resultado (Recall mais alto) foi o XGBoost a qual utilizou dados balanceados com UnderSampling."
      ],
      "metadata": {
        "id": "BSX19ye_1ka9"
      }
    },
    {
      "cell_type": "markdown",
      "source": [
        "### Avaliando Modelos com SMOTE"
      ],
      "metadata": {
        "id": "MxdqueBIkoI7"
      }
    },
    {
      "cell_type": "code",
      "source": [
        "model2 = []\n",
        "recall2 = []\n",
        "# avaliar o desempenho (recall)\n",
        "for clf in (rf, dt,lr , xgb):\n",
        "    model2.append(clf.__class__.__name__)\n",
        "    recall2.append(val_model(X_ros, y_ros, clf, quite=True))\n",
        "\n",
        "pd.DataFrame(data=recall2, index=model2, columns=['Recall'])"
      ],
      "metadata": {
        "colab": {
          "base_uri": "https://localhost:8080/",
          "height": 174
        },
        "id": "Q3GyOA57OM97",
        "outputId": "2def39f1-0dea-4fd7-fe43-4de1e4f5eff6"
      },
      "execution_count": 290,
      "outputs": [
        {
          "output_type": "execute_result",
          "data": {
            "text/html": [
              "\n",
              "  <div id=\"df-9f49189a-421b-40b5-ac18-808909e2394c\">\n",
              "    <div class=\"colab-df-container\">\n",
              "      <div>\n",
              "<style scoped>\n",
              "    .dataframe tbody tr th:only-of-type {\n",
              "        vertical-align: middle;\n",
              "    }\n",
              "\n",
              "    .dataframe tbody tr th {\n",
              "        vertical-align: top;\n",
              "    }\n",
              "\n",
              "    .dataframe thead th {\n",
              "        text-align: right;\n",
              "    }\n",
              "</style>\n",
              "<table border=\"1\" class=\"dataframe\">\n",
              "  <thead>\n",
              "    <tr style=\"text-align: right;\">\n",
              "      <th></th>\n",
              "      <th>Recall</th>\n",
              "    </tr>\n",
              "  </thead>\n",
              "  <tbody>\n",
              "    <tr>\n",
              "      <th>RandomForestClassifier</th>\n",
              "      <td>0.865325</td>\n",
              "    </tr>\n",
              "    <tr>\n",
              "      <th>DecisionTreeClassifier</th>\n",
              "      <td>0.789263</td>\n",
              "    </tr>\n",
              "    <tr>\n",
              "      <th>LogisticRegression</th>\n",
              "      <td>0.811689</td>\n",
              "    </tr>\n",
              "    <tr>\n",
              "      <th>XGBClassifier</th>\n",
              "      <td>0.857121</td>\n",
              "    </tr>\n",
              "  </tbody>\n",
              "</table>\n",
              "</div>\n",
              "      <button class=\"colab-df-convert\" onclick=\"convertToInteractive('df-9f49189a-421b-40b5-ac18-808909e2394c')\"\n",
              "              title=\"Convert this dataframe to an interactive table.\"\n",
              "              style=\"display:none;\">\n",
              "        \n",
              "  <svg xmlns=\"http://www.w3.org/2000/svg\" height=\"24px\"viewBox=\"0 0 24 24\"\n",
              "       width=\"24px\">\n",
              "    <path d=\"M0 0h24v24H0V0z\" fill=\"none\"/>\n",
              "    <path d=\"M18.56 5.44l.94 2.06.94-2.06 2.06-.94-2.06-.94-.94-2.06-.94 2.06-2.06.94zm-11 1L8.5 8.5l.94-2.06 2.06-.94-2.06-.94L8.5 2.5l-.94 2.06-2.06.94zm10 10l.94 2.06.94-2.06 2.06-.94-2.06-.94-.94-2.06-.94 2.06-2.06.94z\"/><path d=\"M17.41 7.96l-1.37-1.37c-.4-.4-.92-.59-1.43-.59-.52 0-1.04.2-1.43.59L10.3 9.45l-7.72 7.72c-.78.78-.78 2.05 0 2.83L4 21.41c.39.39.9.59 1.41.59.51 0 1.02-.2 1.41-.59l7.78-7.78 2.81-2.81c.8-.78.8-2.07 0-2.86zM5.41 20L4 18.59l7.72-7.72 1.47 1.35L5.41 20z\"/>\n",
              "  </svg>\n",
              "      </button>\n",
              "      \n",
              "  <style>\n",
              "    .colab-df-container {\n",
              "      display:flex;\n",
              "      flex-wrap:wrap;\n",
              "      gap: 12px;\n",
              "    }\n",
              "\n",
              "    .colab-df-convert {\n",
              "      background-color: #E8F0FE;\n",
              "      border: none;\n",
              "      border-radius: 50%;\n",
              "      cursor: pointer;\n",
              "      display: none;\n",
              "      fill: #1967D2;\n",
              "      height: 32px;\n",
              "      padding: 0 0 0 0;\n",
              "      width: 32px;\n",
              "    }\n",
              "\n",
              "    .colab-df-convert:hover {\n",
              "      background-color: #E2EBFA;\n",
              "      box-shadow: 0px 1px 2px rgba(60, 64, 67, 0.3), 0px 1px 3px 1px rgba(60, 64, 67, 0.15);\n",
              "      fill: #174EA6;\n",
              "    }\n",
              "\n",
              "    [theme=dark] .colab-df-convert {\n",
              "      background-color: #3B4455;\n",
              "      fill: #D2E3FC;\n",
              "    }\n",
              "\n",
              "    [theme=dark] .colab-df-convert:hover {\n",
              "      background-color: #434B5C;\n",
              "      box-shadow: 0px 1px 3px 1px rgba(0, 0, 0, 0.15);\n",
              "      filter: drop-shadow(0px 1px 2px rgba(0, 0, 0, 0.3));\n",
              "      fill: #FFFFFF;\n",
              "    }\n",
              "  </style>\n",
              "\n",
              "      <script>\n",
              "        const buttonEl =\n",
              "          document.querySelector('#df-9f49189a-421b-40b5-ac18-808909e2394c button.colab-df-convert');\n",
              "        buttonEl.style.display =\n",
              "          google.colab.kernel.accessAllowed ? 'block' : 'none';\n",
              "\n",
              "        async function convertToInteractive(key) {\n",
              "          const element = document.querySelector('#df-9f49189a-421b-40b5-ac18-808909e2394c');\n",
              "          const dataTable =\n",
              "            await google.colab.kernel.invokeFunction('convertToInteractive',\n",
              "                                                     [key], {});\n",
              "          if (!dataTable) return;\n",
              "\n",
              "          const docLinkHtml = 'Like what you see? Visit the ' +\n",
              "            '<a target=\"_blank\" href=https://colab.research.google.com/notebooks/data_table.ipynb>data table notebook</a>'\n",
              "            + ' to learn more about interactive tables.';\n",
              "          element.innerHTML = '';\n",
              "          dataTable['output_type'] = 'display_data';\n",
              "          await google.colab.output.renderOutput(dataTable, element);\n",
              "          const docLink = document.createElement('div');\n",
              "          docLink.innerHTML = docLinkHtml;\n",
              "          element.appendChild(docLink);\n",
              "        }\n",
              "      </script>\n",
              "    </div>\n",
              "  </div>\n",
              "  "
            ],
            "text/plain": [
              "                          Recall\n",
              "RandomForestClassifier  0.865325\n",
              "DecisionTreeClassifier  0.789263\n",
              "LogisticRegression      0.811689\n",
              "XGBClassifier           0.857121"
            ]
          },
          "metadata": {},
          "execution_count": 290
        }
      ]
    },
    {
      "cell_type": "markdown",
      "source": [
        "O modelo com o melhor resultado (Recall mais alto) foi o RandomForest a qual utilizou dados balanceados com SMOTE.\n",
        " \n",
        "Sabe-se que ao balancear os dados com SMOTE, perdemos a capacidade preditiva do modelo de prever as classes minoritárias, ou seja, algo que não queremos, porém vamos otimizar os hiperparâmetros somento do modelo XGBoost com Undersampling e SMOTE, ja que esse modelo tem uma melhor otimização de hiperparametros do que o RandomForest. Em seguinda, o Modelo com melhor desempenho nos dados de teste/validação será definido como o melhor modelo para usarmos com os dados de simulação real.\n",
        "\n",
        "\n",
        "\n",
        "\n"
      ],
      "metadata": {
        "id": "GsT3THTn14Jy"
      }
    },
    {
      "cell_type": "markdown",
      "source": [
        "## Otimização de hiperparâmetros\n",
        " \n",
        "Para evitar um tipo de situação chamada de overfitting: quando o nosso modelo fica \"viciado\" no treino e ruim para os testes, iremos otimizar nossos hiperparâmetros para tentar evitar o overfitting do modelo, vamos testar o modelo XGBoost com Undersampling e SMOTE e de acordo com o resultado iremos, replicar seus hiperparâmetros para o modelo de simulação real.\n",
        " \n",
        "Os meio de otimização de hiperparâmetros mais conhecidos são:\n",
        "* Grid Search\n",
        "* Randomized Search\n",
        " \n",
        "Para o nosso modelo usaremos o Random Search, pois, ele é um ótimo otimizador de hiperparâmetros, que funciona de forma semelhante ao grid search entretanto ao invés de testar todas as combinações com a vizinhança, o  random search, testa todas as combinações aleatórias dos hiperparâmetros, conforme um número de amostras especificado definido pelo usuário.\n",
        " \n",
        "Sua principal vantagem em relação ao Grid Seach é que ao definirmos um número específico de amostras para cada hiperparâmetro do nosso modelo, conseguimos diminuir o tempo de processamento do algoritmo.\n",
        "\n",
        "Todavia, antes de começarmos a definir nossos hiperparâmetros, vamos entender o que cada um significa:\n",
        " \n",
        "* **N_estimators:** Indica o número de árvores a serem geradas\n",
        "* **Max_depth:** Indica a altura máxima das árvores usadas pelo modelo, ou seja: a quantidade máxima de Nodes que podem haver da raiz até uma folha.\n",
        "* **Min_child_weight:** Indica a soma mínima do peso da instância (hessian) necessária em uma child.\n",
        "* **Gamma:** Indica a redução de perda mínima necessária para fazer uma partição adicional em um nó folha da árvore. Quanto maior gamma for, mais conservador será o algoritmo.\n",
        "* **Learning rate:** Indica a taxa de aprendizado é usada para dimensionar a magnitude das atualizações de parâmetros durante a descida do gradiente.\n",
        "\n",
        "\n",
        "\n",
        "\n",
        "\n",
        " \n"
      ],
      "metadata": {
        "id": "7p6yfYXZlbaI"
      }
    },
    {
      "cell_type": "markdown",
      "source": [
        "###Hiperparâmetros do modelo XGBoost com SMOTE"
      ],
      "metadata": {
        "id": "HipGbHKQQnl1"
      }
    },
    {
      "cell_type": "code",
      "source": [
        "n_estimators = [100, 200, 300, 400, 500, 600, 700, 800, 900, 1000]\n",
        "max_depth = [1, 2, 3, 4, 5, 6, 7, 8]\n",
        "min_child_weight = [1, 2, 3, 4, 5]\n",
        "gamma = [0.1, 0.2, 0.3, 0.4, 0.5]\n",
        "learning_rate = [0.001, 0.01, 0.1, 1]\n",
        "\n",
        "xgb_parametrossmt = {\n",
        "    'n_estimators': n_estimators,\n",
        "    'max_depth':max_depth,\n",
        "    'min_child_weight':min_child_weight,\n",
        "    'gamma':gamma,\n",
        "    'learning_rate':learning_rate}\n",
        "\n",
        "xgbtuningsmt = RandomizedSearchCV(estimator=xgb, \n",
        "                              param_distributions=xgb_parametrossmt, ## Parâmetros\n",
        "                              cv=4, ## Cross validation\n",
        "                              n_iter=20, ## Número de Iterações\n",
        "                              scoring = 'recall', ## Métrica\n",
        "                              n_jobs = -1, ## Utilizando todos os processadores\n",
        "                              verbose = 1)\n",
        "\n",
        "## Fazendo o fit do tuning\n",
        "xgbtuningsmt.fit(X_ros,y_ros)\n"
      ],
      "metadata": {
        "colab": {
          "base_uri": "https://localhost:8080/"
        },
        "id": "9c9JkA09le0-",
        "outputId": "906b0e6f-f6b4-466c-bacd-4cd24800b46b"
      },
      "execution_count": 291,
      "outputs": [
        {
          "output_type": "stream",
          "name": "stdout",
          "text": [
            "Fitting 4 folds for each of 20 candidates, totalling 80 fits\n"
          ]
        },
        {
          "output_type": "execute_result",
          "data": {
            "text/plain": [
              "RandomizedSearchCV(cv=4, estimator=XGBClassifier(), n_iter=20, n_jobs=-1,\n",
              "                   param_distributions={'gamma': [0.1, 0.2, 0.3, 0.4, 0.5],\n",
              "                                        'learning_rate': [0.001, 0.01, 0.1, 1],\n",
              "                                        'max_depth': [1, 2, 3, 4, 5, 6, 7, 8],\n",
              "                                        'min_child_weight': [1, 2, 3, 4, 5],\n",
              "                                        'n_estimators': [100, 200, 300, 400,\n",
              "                                                         500, 600, 700, 800,\n",
              "                                                         900, 1000]},\n",
              "                   scoring='recall', verbose=1)"
            ]
          },
          "metadata": {},
          "execution_count": 291
        }
      ]
    },
    {
      "cell_type": "code",
      "source": [
        "xgbtuningsmt.best_estimator_"
      ],
      "metadata": {
        "colab": {
          "base_uri": "https://localhost:8080/"
        },
        "id": "yLWtd_8ew0QL",
        "outputId": "2c7260c8-b7ac-4a71-d838-516ac5caac7a"
      },
      "execution_count": 292,
      "outputs": [
        {
          "output_type": "execute_result",
          "data": {
            "text/plain": [
              "XGBClassifier(gamma=0.5, learning_rate=0.001, max_depth=1, min_child_weight=2,\n",
              "              n_estimators=700)"
            ]
          },
          "metadata": {},
          "execution_count": 292
        }
      ]
    },
    {
      "cell_type": "markdown",
      "source": [
        "### Validação dos Hiperparâmetros do modelo XGBoost com SMOTE"
      ],
      "metadata": {
        "id": "JV0Z-fgp_9Ch"
      }
    },
    {
      "cell_type": "code",
      "source": [
        "#DEFININDO MODELO E TREINANDO DADOS\n",
        "xgbsmt = XGBClassifier(gamma=0.2, learning_rate=0.01, max_depth=7, min_child_weight=4,n_estimators=200)\n",
        "xgbsmt.fit(X_ros, y_ros)\n",
        "#FAZENDO PREVISAO EM CIMA DOS DADOS DE TESTE\n",
        "X_testsmt = scaler.transform(X_test)\n",
        "y_predsmt = xgbsmt.predict(X_testsmt)\n",
        "# MATRIZ CONFUSÃO\n",
        "print(skplt.metrics.plot_confusion_matrix(y_test, y_predsmt, normalize=True))\n",
        "# MEDIDAS DE AVALIAÇÃO\n",
        "print(classification_report(y_test, y_predsmt, digits=4))\n",
        "# AUC\n",
        "print(\"AUC: {:.4f}\".format(roc_auc_score(y_test, y_predsmt)))\n"
      ],
      "metadata": {
        "colab": {
          "base_uri": "https://localhost:8080/",
          "height": 486
        },
        "id": "-iCbkhxf_zOK",
        "outputId": "9bad56a8-8d0e-44ba-f0b3-16aa1fcb8cd8"
      },
      "execution_count": 293,
      "outputs": [
        {
          "output_type": "stream",
          "name": "stdout",
          "text": [
            "AxesSubplot(0.125,0.125;0.62x0.755)\n",
            "              precision    recall  f1-score   support\n",
            "\n",
            "           0     0.8886    0.8002    0.8421      1096\n",
            "           1     0.5706    0.7257    0.6389       401\n",
            "\n",
            "    accuracy                         0.7802      1497\n",
            "   macro avg     0.7296    0.7629    0.7405      1497\n",
            "weighted avg     0.8034    0.7802    0.7876      1497\n",
            "\n",
            "AUC: 0.7629\n"
          ]
        },
        {
          "output_type": "display_data",
          "data": {
            "image/png": "[encoded data removed]",
            "text/plain": [
              "<Figure size 432x288 with 2 Axes>"
            ]
          },
          "metadata": {
            "needs_background": "light"
          }
        }
      ]
    },
    {
      "cell_type": "markdown",
      "source": [
        "Podemos ver que a adoção de hiperparâmetros não resultou no recall acima do encontrado com a validação cruzada,mas,em um desempenho menor, com isso, fica evidente que o modelo sofreu com overfitting, ou seja, estava tendo resultados bons para os dados de treino mas ao fazer-lo com os dados de teste com apresentou déficit na sua capacidade preditiva, isso também, reforça o nosso ponto que ao balancear os dados com SMOTE a capacidade preditiva também diminui para as classes minoritárias."
      ],
      "metadata": {
        "id": "ngi17l1D9eOf"
      }
    },
    {
      "cell_type": "markdown",
      "source": [
        "### Hiperparâmetros do modelo XGBoost com UnderSampling"
      ],
      "metadata": {
        "id": "KYgLOl-zQ8iP"
      }
    },
    {
      "cell_type": "code",
      "source": [
        "n_estimators = [100, 200, 300, 400, 500, 600, 700, 800, 900, 1000]\n",
        "max_depth = [1, 2, 3, 4, 5, 6, 7, 8]\n",
        "min_child_weight = [1, 2, 3, 4, 5]\n",
        "gamma = [0.1, 0.2, 0.3, 0.4, 0.5]\n",
        "learning_rate = [0.001, 0.01, 0.1, 1]\n",
        "\n",
        "xgb_parametrosrus = {\n",
        "    'n_estimators': n_estimators,\n",
        "    'max_depth':max_depth,\n",
        "    'min_child_weight':min_child_weight,\n",
        "    'gamma':gamma,\n",
        "    'learning_rate':learning_rate}\n",
        "\n",
        "xgbtuningrus = RandomizedSearchCV(estimator=xgb, \n",
        "                              param_distributions=xgb_parametrosrus, ## Parâmetros\n",
        "                              cv=4, ## Cross validation\n",
        "                              n_iter=20, ## Número de Iterações\n",
        "                              scoring = 'recall', ## Métrica\n",
        "                              n_jobs = -1, ## Utilizando todos os processadores\n",
        "                              verbose = 1)\n",
        "\n",
        "## Fazendo o fit do tuning\n",
        "xgbtuningrus.fit(X_rus,y_rus)\n"
      ],
      "metadata": {
        "colab": {
          "base_uri": "https://localhost:8080/"
        },
        "id": "22NnDDxHPB0i",
        "outputId": "c94f2a77-046d-41e9-eaed-0613c36bb665"
      },
      "execution_count": 294,
      "outputs": [
        {
          "output_type": "stream",
          "name": "stdout",
          "text": [
            "Fitting 4 folds for each of 20 candidates, totalling 80 fits\n"
          ]
        },
        {
          "output_type": "execute_result",
          "data": {
            "text/plain": [
              "RandomizedSearchCV(cv=4, estimator=XGBClassifier(), n_iter=20, n_jobs=-1,\n",
              "                   param_distributions={'gamma': [0.1, 0.2, 0.3, 0.4, 0.5],\n",
              "                                        'learning_rate': [0.001, 0.01, 0.1, 1],\n",
              "                                        'max_depth': [1, 2, 3, 4, 5, 6, 7, 8],\n",
              "                                        'min_child_weight': [1, 2, 3, 4, 5],\n",
              "                                        'n_estimators': [100, 200, 300, 400,\n",
              "                                                         500, 600, 700, 800,\n",
              "                                                         900, 1000]},\n",
              "                   scoring='recall', verbose=1)"
            ]
          },
          "metadata": {},
          "execution_count": 294
        }
      ]
    },
    {
      "cell_type": "code",
      "source": [
        "xgbtuningrus.best_estimator_"
      ],
      "metadata": {
        "colab": {
          "base_uri": "https://localhost:8080/"
        },
        "id": "PlIYsXqkPHPd",
        "outputId": "8af428a3-9e15-4cca-8cf5-b2e0e30ac6a2"
      },
      "execution_count": 295,
      "outputs": [
        {
          "output_type": "execute_result",
          "data": {
            "text/plain": [
              "XGBClassifier(gamma=0.4, learning_rate=0.001, max_depth=1, min_child_weight=3,\n",
              "              n_estimators=800)"
            ]
          },
          "metadata": {},
          "execution_count": 295
        }
      ]
    },
    {
      "cell_type": "markdown",
      "source": [
        "### Validação dos Hiperparâmetros do modelo XGBoost com UnderSampling"
      ],
      "metadata": {
        "id": "xcYN2fIoRCh3"
      }
    },
    {
      "cell_type": "code",
      "source": [
        "#DEFININDO MODELO E TREINANDO DADOS\n",
        "xgbrus = XGBClassifier(gamma=0.4, learning_rate=0.001, max_depth=1, min_child_weight=3,n_estimators=800)\n",
        "xgbrus.fit(X_rus, y_rus)\n",
        "#FAZENDO PREVISAO EM CIMA DOS DADOS DE TESTE\n",
        "X_testrus = scaler.transform(X_test)\n",
        "y_predrus = xgbrus.predict(X_testrus)\n",
        "# MATRIZ CONFUSÃO\n",
        "print(skplt.metrics.plot_confusion_matrix(y_test, y_predrus, normalize=True))\n",
        "# MEDIDAS DE AVALIAÇÃO\n",
        "print(classification_report(y_test, y_predrus, digits=4))\n",
        "# AUC\n",
        "print(\"AUC: {:.4f}\".format(roc_auc_score(y_test, y_predrus)))\n"
      ],
      "metadata": {
        "colab": {
          "base_uri": "https://localhost:8080/",
          "height": 486
        },
        "id": "YN5ZHM1bPKYG",
        "outputId": "d318d541-976b-4f1f-90bf-549d694e59cd"
      },
      "execution_count": 311,
      "outputs": [
        {
          "output_type": "stream",
          "name": "stdout",
          "text": [
            "AxesSubplot(0.125,0.125;0.62x0.755)\n",
            "              precision    recall  f1-score   support\n",
            "\n",
            "           0     0.9339    0.5803    0.7158      1096\n",
            "           1     0.4363    0.8878    0.5850       401\n",
            "\n",
            "    accuracy                         0.6627      1497\n",
            "   macro avg     0.6851    0.7340    0.6504      1497\n",
            "weighted avg     0.8006    0.6627    0.6808      1497\n",
            "\n",
            "AUC: 0.7340\n"
          ]
        },
        {
          "output_type": "display_data",
          "data": {
            "image/png": "[encoded data removed]",
            "text/plain": [
              "<Figure size 432x288 with 2 Axes>"
            ]
          },
          "metadata": {
            "needs_background": "light"
          }
        }
      ]
    },
    {
      "cell_type": "markdown",
      "source": [
        "Diferente do nosso modelo balanceado com SMOTE, este modelo atingiu um recall de quase 90% ao ser balanceado com Under Sampling, ou seja, ele não sofreu overfitting como o modelo anterior, logo usaremos seus hiperparâmetros para instanciar o modelo que usará os dados de simulação real."
      ],
      "metadata": {
        "id": "jLzJpgbxUSNC"
      }
    },
    {
      "cell_type": "markdown",
      "source": [
        "##Importância de cada variável no modelo"
      ],
      "metadata": {
        "id": "K4Y7Eszx6zl3"
      }
    },
    {
      "cell_type": "code",
      "source": [
        "feature_importances = pd.DataFrame(xgbrus.feature_importances_,\n",
        "                                   index = X.columns,\n",
        "                                   columns=['importance']).sort_values('importance', ascending=False)\n",
        "feature_importances"
      ],
      "metadata": {
        "colab": {
          "base_uri": "https://localhost:8080/",
          "height": 1000
        },
        "id": "ZnoxAEOBzf6U",
        "outputId": "48f448de-0060-4df6-f29a-c2d79bac334d"
      },
      "execution_count": 312,
      "outputs": [
        {
          "output_type": "execute_result",
          "data": {
            "text/html": [
              "\n",
              "  <div id=\"df-47a80466-f581-4d53-948b-5cd17835b4ff\">\n",
              "    <div class=\"colab-df-container\">\n",
              "      <div>\n",
              "<style scoped>\n",
              "    .dataframe tbody tr th:only-of-type {\n",
              "        vertical-align: middle;\n",
              "    }\n",
              "\n",
              "    .dataframe tbody tr th {\n",
              "        vertical-align: top;\n",
              "    }\n",
              "\n",
              "    .dataframe thead th {\n",
              "        text-align: right;\n",
              "    }\n",
              "</style>\n",
              "<table border=\"1\" class=\"dataframe\">\n",
              "  <thead>\n",
              "    <tr style=\"text-align: right;\">\n",
              "      <th></th>\n",
              "      <th>importance</th>\n",
              "    </tr>\n",
              "  </thead>\n",
              "  <tbody>\n",
              "    <tr>\n",
              "      <th>Contract_Month-to-month</th>\n",
              "      <td>0.307072</td>\n",
              "    </tr>\n",
              "    <tr>\n",
              "      <th>OnlineSecurity_No</th>\n",
              "      <td>0.198407</td>\n",
              "    </tr>\n",
              "    <tr>\n",
              "      <th>InternetService_Fiber optic</th>\n",
              "      <td>0.179326</td>\n",
              "    </tr>\n",
              "    <tr>\n",
              "      <th>tenure</th>\n",
              "      <td>0.157693</td>\n",
              "    </tr>\n",
              "    <tr>\n",
              "      <th>TechSupport_No</th>\n",
              "      <td>0.157501</td>\n",
              "    </tr>\n",
              "    <tr>\n",
              "      <th>gender</th>\n",
              "      <td>0.000000</td>\n",
              "    </tr>\n",
              "    <tr>\n",
              "      <th>StreamingTV_Yes</th>\n",
              "      <td>0.000000</td>\n",
              "    </tr>\n",
              "    <tr>\n",
              "      <th>TechSupport_No internet service</th>\n",
              "      <td>0.000000</td>\n",
              "    </tr>\n",
              "    <tr>\n",
              "      <th>TechSupport_Yes</th>\n",
              "      <td>0.000000</td>\n",
              "    </tr>\n",
              "    <tr>\n",
              "      <th>StreamingTV_No</th>\n",
              "      <td>0.000000</td>\n",
              "    </tr>\n",
              "    <tr>\n",
              "      <th>StreamingTV_No internet service</th>\n",
              "      <td>0.000000</td>\n",
              "    </tr>\n",
              "    <tr>\n",
              "      <th>StreamingMovies_No internet service</th>\n",
              "      <td>0.000000</td>\n",
              "    </tr>\n",
              "    <tr>\n",
              "      <th>StreamingMovies_No</th>\n",
              "      <td>0.000000</td>\n",
              "    </tr>\n",
              "    <tr>\n",
              "      <th>DeviceProtection_No internet service</th>\n",
              "      <td>0.000000</td>\n",
              "    </tr>\n",
              "    <tr>\n",
              "      <th>StreamingMovies_Yes</th>\n",
              "      <td>0.000000</td>\n",
              "    </tr>\n",
              "    <tr>\n",
              "      <th>Contract_One year</th>\n",
              "      <td>0.000000</td>\n",
              "    </tr>\n",
              "    <tr>\n",
              "      <th>Contract_Two year</th>\n",
              "      <td>0.000000</td>\n",
              "    </tr>\n",
              "    <tr>\n",
              "      <th>PaymentMethod_Bank transfer (automatic)</th>\n",
              "      <td>0.000000</td>\n",
              "    </tr>\n",
              "    <tr>\n",
              "      <th>PaymentMethod_Credit card (automatic)</th>\n",
              "      <td>0.000000</td>\n",
              "    </tr>\n",
              "    <tr>\n",
              "      <th>PaymentMethod_Electronic check</th>\n",
              "      <td>0.000000</td>\n",
              "    </tr>\n",
              "    <tr>\n",
              "      <th>DeviceProtection_Yes</th>\n",
              "      <td>0.000000</td>\n",
              "    </tr>\n",
              "    <tr>\n",
              "      <th>OnlineBackup_Yes</th>\n",
              "      <td>0.000000</td>\n",
              "    </tr>\n",
              "    <tr>\n",
              "      <th>DeviceProtection_No</th>\n",
              "      <td>0.000000</td>\n",
              "    </tr>\n",
              "    <tr>\n",
              "      <th>SeniorCitizen</th>\n",
              "      <td>0.000000</td>\n",
              "    </tr>\n",
              "    <tr>\n",
              "      <th>Partner</th>\n",
              "      <td>0.000000</td>\n",
              "    </tr>\n",
              "    <tr>\n",
              "      <th>Dependents</th>\n",
              "      <td>0.000000</td>\n",
              "    </tr>\n",
              "    <tr>\n",
              "      <th>PhoneService</th>\n",
              "      <td>0.000000</td>\n",
              "    </tr>\n",
              "    <tr>\n",
              "      <th>PaperlessBilling</th>\n",
              "      <td>0.000000</td>\n",
              "    </tr>\n",
              "    <tr>\n",
              "      <th>MonthlyCharges</th>\n",
              "      <td>0.000000</td>\n",
              "    </tr>\n",
              "    <tr>\n",
              "      <th>TotalCharges</th>\n",
              "      <td>0.000000</td>\n",
              "    </tr>\n",
              "    <tr>\n",
              "      <th>MultipleLines_No</th>\n",
              "      <td>0.000000</td>\n",
              "    </tr>\n",
              "    <tr>\n",
              "      <th>MultipleLines_No phone service</th>\n",
              "      <td>0.000000</td>\n",
              "    </tr>\n",
              "    <tr>\n",
              "      <th>MultipleLines_Yes</th>\n",
              "      <td>0.000000</td>\n",
              "    </tr>\n",
              "    <tr>\n",
              "      <th>InternetService_DSL</th>\n",
              "      <td>0.000000</td>\n",
              "    </tr>\n",
              "    <tr>\n",
              "      <th>InternetService_No</th>\n",
              "      <td>0.000000</td>\n",
              "    </tr>\n",
              "    <tr>\n",
              "      <th>OnlineSecurity_No internet service</th>\n",
              "      <td>0.000000</td>\n",
              "    </tr>\n",
              "    <tr>\n",
              "      <th>OnlineSecurity_Yes</th>\n",
              "      <td>0.000000</td>\n",
              "    </tr>\n",
              "    <tr>\n",
              "      <th>OnlineBackup_No</th>\n",
              "      <td>0.000000</td>\n",
              "    </tr>\n",
              "    <tr>\n",
              "      <th>OnlineBackup_No internet service</th>\n",
              "      <td>0.000000</td>\n",
              "    </tr>\n",
              "    <tr>\n",
              "      <th>PaymentMethod_Mailed check</th>\n",
              "      <td>0.000000</td>\n",
              "    </tr>\n",
              "  </tbody>\n",
              "</table>\n",
              "</div>\n",
              "      <button class=\"colab-df-convert\" onclick=\"convertToInteractive('df-47a80466-f581-4d53-948b-5cd17835b4ff')\"\n",
              "              title=\"Convert this dataframe to an interactive table.\"\n",
              "              style=\"display:none;\">\n",
              "        \n",
              "  <svg xmlns=\"http://www.w3.org/2000/svg\" height=\"24px\"viewBox=\"0 0 24 24\"\n",
              "       width=\"24px\">\n",
              "    <path d=\"M0 0h24v24H0V0z\" fill=\"none\"/>\n",
              "    <path d=\"M18.56 5.44l.94 2.06.94-2.06 2.06-.94-2.06-.94-.94-2.06-.94 2.06-2.06.94zm-11 1L8.5 8.5l.94-2.06 2.06-.94-2.06-.94L8.5 2.5l-.94 2.06-2.06.94zm10 10l.94 2.06.94-2.06 2.06-.94-2.06-.94-.94-2.06-.94 2.06-2.06.94z\"/><path d=\"M17.41 7.96l-1.37-1.37c-.4-.4-.92-.59-1.43-.59-.52 0-1.04.2-1.43.59L10.3 9.45l-7.72 7.72c-.78.78-.78 2.05 0 2.83L4 21.41c.39.39.9.59 1.41.59.51 0 1.02-.2 1.41-.59l7.78-7.78 2.81-2.81c.8-.78.8-2.07 0-2.86zM5.41 20L4 18.59l7.72-7.72 1.47 1.35L5.41 20z\"/>\n",
              "  </svg>\n",
              "      </button>\n",
              "      \n",
              "  <style>\n",
              "    .colab-df-container {\n",
              "      display:flex;\n",
              "      flex-wrap:wrap;\n",
              "      gap: 12px;\n",
              "    }\n",
              "\n",
              "    .colab-df-convert {\n",
              "      background-color: #E8F0FE;\n",
              "      border: none;\n",
              "      border-radius: 50%;\n",
              "      cursor: pointer;\n",
              "      display: none;\n",
              "      fill: #1967D2;\n",
              "      height: 32px;\n",
              "      padding: 0 0 0 0;\n",
              "      width: 32px;\n",
              "    }\n",
              "\n",
              "    .colab-df-convert:hover {\n",
              "      background-color: #E2EBFA;\n",
              "      box-shadow: 0px 1px 2px rgba(60, 64, 67, 0.3), 0px 1px 3px 1px rgba(60, 64, 67, 0.15);\n",
              "      fill: #174EA6;\n",
              "    }\n",
              "\n",
              "    [theme=dark] .colab-df-convert {\n",
              "      background-color: #3B4455;\n",
              "      fill: #D2E3FC;\n",
              "    }\n",
              "\n",
              "    [theme=dark] .colab-df-convert:hover {\n",
              "      background-color: #434B5C;\n",
              "      box-shadow: 0px 1px 3px 1px rgba(0, 0, 0, 0.15);\n",
              "      filter: drop-shadow(0px 1px 2px rgba(0, 0, 0, 0.3));\n",
              "      fill: #FFFFFF;\n",
              "    }\n",
              "  </style>\n",
              "\n",
              "      <script>\n",
              "        const buttonEl =\n",
              "          document.querySelector('#df-47a80466-f581-4d53-948b-5cd17835b4ff button.colab-df-convert');\n",
              "        buttonEl.style.display =\n",
              "          google.colab.kernel.accessAllowed ? 'block' : 'none';\n",
              "\n",
              "        async function convertToInteractive(key) {\n",
              "          const element = document.querySelector('#df-47a80466-f581-4d53-948b-5cd17835b4ff');\n",
              "          const dataTable =\n",
              "            await google.colab.kernel.invokeFunction('convertToInteractive',\n",
              "                                                     [key], {});\n",
              "          if (!dataTable) return;\n",
              "\n",
              "          const docLinkHtml = 'Like what you see? Visit the ' +\n",
              "            '<a target=\"_blank\" href=https://colab.research.google.com/notebooks/data_table.ipynb>data table notebook</a>'\n",
              "            + ' to learn more about interactive tables.';\n",
              "          element.innerHTML = '';\n",
              "          dataTable['output_type'] = 'display_data';\n",
              "          await google.colab.output.renderOutput(dataTable, element);\n",
              "          const docLink = document.createElement('div');\n",
              "          docLink.innerHTML = docLinkHtml;\n",
              "          element.appendChild(docLink);\n",
              "        }\n",
              "      </script>\n",
              "    </div>\n",
              "  </div>\n",
              "  "
            ],
            "text/plain": [
              "                                         importance\n",
              "Contract_Month-to-month                    0.307072\n",
              "OnlineSecurity_No                          0.198407\n",
              "InternetService_Fiber optic                0.179326\n",
              "tenure                                     0.157693\n",
              "TechSupport_No                             0.157501\n",
              "gender                                     0.000000\n",
              "StreamingTV_Yes                            0.000000\n",
              "TechSupport_No internet service            0.000000\n",
              "TechSupport_Yes                            0.000000\n",
              "StreamingTV_No                             0.000000\n",
              "StreamingTV_No internet service            0.000000\n",
              "StreamingMovies_No internet service        0.000000\n",
              "StreamingMovies_No                         0.000000\n",
              "DeviceProtection_No internet service       0.000000\n",
              "StreamingMovies_Yes                        0.000000\n",
              "Contract_One year                          0.000000\n",
              "Contract_Two year                          0.000000\n",
              "PaymentMethod_Bank transfer (automatic)    0.000000\n",
              "PaymentMethod_Credit card (automatic)      0.000000\n",
              "PaymentMethod_Electronic check             0.000000\n",
              "DeviceProtection_Yes                       0.000000\n",
              "OnlineBackup_Yes                           0.000000\n",
              "DeviceProtection_No                        0.000000\n",
              "SeniorCitizen                              0.000000\n",
              "Partner                                    0.000000\n",
              "Dependents                                 0.000000\n",
              "PhoneService                               0.000000\n",
              "PaperlessBilling                           0.000000\n",
              "MonthlyCharges                             0.000000\n",
              "TotalCharges                               0.000000\n",
              "MultipleLines_No                           0.000000\n",
              "MultipleLines_No phone service             0.000000\n",
              "MultipleLines_Yes                          0.000000\n",
              "InternetService_DSL                        0.000000\n",
              "InternetService_No                         0.000000\n",
              "OnlineSecurity_No internet service         0.000000\n",
              "OnlineSecurity_Yes                         0.000000\n",
              "OnlineBackup_No                            0.000000\n",
              "OnlineBackup_No internet service           0.000000\n",
              "PaymentMethod_Mailed check                 0.000000"
            ]
          },
          "metadata": {},
          "execution_count": 312
        }
      ]
    },
    {
      "cell_type": "markdown",
      "source": [
        "Para o Modelo de XGBoost balanceado com Under Sampling e utilizado RandomizedSearchCV para definição dos melhores hiperparâmetros, as variáveis mais importantes para o modelo de previsão são:\n",
        "\n",
        "* **Contract_Month-to-month**\n",
        "* **OnlineSecurity_No**\t\n",
        "* **InternetService_Fiber optic**\t\n",
        "* **tenure**\n",
        "* **TechSupport_No**"
      ],
      "metadata": {
        "id": "tXpOB_rXVK9Q"
      }
    },
    {
      "cell_type": "markdown",
      "source": [
        "## Modelo vencedor com dados de Simulação real"
      ],
      "metadata": {
        "id": "j6c5Ap19TbXW"
      }
    },
    {
      "cell_type": "code",
      "source": [
        "# ESCOLHENDO O MÉTODO DE PADRONIZAÇÃO\n",
        "simu = simu_real.copy()\n",
        "\n",
        "X_simu = simu.drop('Churn', axis=1)\n",
        "y_simu = simu['Churn']\n",
        "\n",
        "X_simu = scaler.transform(X_simu)\n",
        "\n",
        "y_predsimu = xgbrus.predict(X_simu) \n",
        "\n",
        "# MATRIZ CONFUSÃO\n",
        "skplt.metrics.plot_confusion_matrix(y_simu, y_predsimu, normalize=True)\n",
        "# MEDIDAS DE AVALIAÇÃO\n",
        "print(classification_report(y_simu, y_predsimu, digits=4))\n",
        "# AUC\n",
        "print(\"AUC: {:.4f}\".format(roc_auc_score(y_simu, y_predsimu)))\n",
        "print('')"
      ],
      "metadata": {
        "colab": {
          "base_uri": "https://localhost:8080/",
          "height": 486
        },
        "id": "16E39XGNT0i8",
        "outputId": "df7333fc-45fa-4db7-fff7-1ab0f150868c"
      },
      "execution_count": 332,
      "outputs": [
        {
          "output_type": "stream",
          "name": "stdout",
          "text": [
            "              precision    recall  f1-score   support\n",
            "\n",
            "           0     0.9207    0.5727    0.7062       791\n",
            "           1     0.4007    0.8528    0.5452       265\n",
            "\n",
            "    accuracy                         0.6430      1056\n",
            "   macro avg     0.6607    0.7128    0.6257      1056\n",
            "weighted avg     0.7902    0.6430    0.6658      1056\n",
            "\n",
            "AUC: 0.7128\n",
            "\n"
          ]
        },
        {
          "output_type": "display_data",
          "data": {
            "image/png": "[encoded data removed]",
            "text/plain": [
              "<Figure size 432x288 with 2 Axes>"
            ]
          },
          "metadata": {
            "needs_background": "light"
          }
        }
      ]
    },
    {
      "cell_type": "markdown",
      "source": [
        "Chegamos no modelo final do nosso projeto de previsão da taxa de rotatividade (Churn) para uma empresa de telecomunicações, mas antes de mostrar seus resultados e capacidade preditiva, vamos mostrar o que significa cada métrica avaliada do modelo.\n",
        " \n",
        "As formas de desempenho avaliadas nos modelos serão principalmente:\n",
        "* **Matriz Confusão:**\n",
        "\n",
        "\n",
        " ![image.png](data:image/png;base64,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)\n",
        "\n",
        "\n",
        "**Tipos de erros**\n",
        "- **Verdadeiro positivo (*true positive* — TP):** Por exemplo, quando o cliente vai cancelar e o modelo classifica como potencial cancelador.\n",
        "- **Falso positivo (*false positive* — FP):** Por exemplo, quando o cliente não vai cancelar e o modelo classifica como potencial cancelador.\n",
        "- **Falso negativo (*true negative* — TN)** Por exemplo, quando o cliente vai cancelar e o modelo classifica como potencial renovação.\n",
        "- **Verdadeiro negativo (*false negative* — FN):** Por exemplo, quando o cliente não vai cancelar e o modelo classifica como potencial renovação.\n",
        " \n",
        "---\n",
        "* **Acurácia:** A acurácia mostra diretamente a porcentagem de acertos do nosso modelo.\n",
        "* **Recall:** Mostra a proporção de positivos encontrados corretamente, ou seja, o quanto o modelo é capaz de prever potenciais canceladores.\n",
        "* **AUC:** A curva AUC é derivada da curva ROC, então vamos inicialmente entender a curva ROC, A curva ROC mostra o quão bom o modelo criado pode distinguir entre duas coisas, a AUC (“area under the ROC curve”) nada mais é que uma maneira de resumir a curva ROC em um único valor, agregando todos os limiares da ROC, calculando a “área sob a curva”.\n",
        "\n",
        "**Agora que tudo ja foi explicado, vamos a conclusão do projeto.**"
      ],
      "metadata": {
        "id": "qdBbppqlHtiK"
      }
    },
    {
      "cell_type": "markdown",
      "source": [
        "# Conclusão\n",
        "O Modelo obteve as métricas de desempenho:\n",
        "* **Acurácia:** 64.30% - Porcentagem de acertos do nosso modelo.\n",
        "* **Recall:** 85.28% - Capacidade de prever potenciais canceladores.\n",
        "* **Auc:** 71.28% - Precisão das classificações entre renovação e cancelamento.\n",
        " \n",
        "De modo geral, o modelo apresentou um ótimo desempenho considerando que o nosso objetivo era um alto recall,ou seja, ter qualidade de prever somente as pessoas que irão cancelar como potenciais canceladores.\n",
        " \n",
        "Com isso, uma capacidade preditiva de quase 86%, para os dados de simulação real é uma métrica bastante satisfatória, porém, ainda existe margem para melhorar o modelo como técnicas de feature engineering, feature selection e otimização de hiperparâmetros.\n",
        " \n",
        "Por fim, através desta análise/modelo é possível traçar o perfil dos consumidores satisfeitos com os serviços prestados e aumentar a retenção dos clientes, visto que este custo é mais baixo do que o de aquisição de novos usuários.\n",
        " \n",
        "Vale ressaltar que este projeto pertence ao curso Data Science na Prática do professor Carlos Melo.\n",
        "\n"
      ],
      "metadata": {
        "id": "JldN23tbMrXF"
      }
    }
  ]
}