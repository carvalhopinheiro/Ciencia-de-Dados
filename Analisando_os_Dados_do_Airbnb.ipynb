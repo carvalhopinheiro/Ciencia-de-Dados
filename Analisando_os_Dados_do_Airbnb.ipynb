{
  "nbformat": 4,
  "nbformat_minor": 0,
  "metadata": {
    "colab": {
      "name": "Analisando os Dados do Airbnb.ipynb",
      "provenance": [],
      "collapsed_sections": [],
      "include_colab_link": true
    },
    "kernelspec": {
      "name": "python3",
      "display_name": "Python 3"
    }
  },
  "cells": [
    {
      "cell_type": "markdown",
      "metadata": {
        "id": "view-in-github",
        "colab_type": "text"
      },
      "source": [
        "<a href=\"https://colab.research.google.com/github/carvalhopinheiro/Ciencia-de-Dados/blob/main/Analisando_os_Dados_do_Airbnb.ipynb\" target=\"_parent\"><img src=\"https://colab.research.google.com/assets/colab-badge.svg\" alt=\"Open In Colab\"/></a>"
      ]
    },
    {
      "cell_type": "markdown",
      "metadata": {
        "id": "kLI0gJtzDGuQ"
      },
      "source": [
        "\n",
        "  ### **1ª Projeto Airbnb**\n",
        "\n",
        "*by [Paulo Victor](https://www.linkedin.com/in/carvalhopinheiro/)*\n",
        "\n",
        "---\n",
        "# Análise dos Dados do Airbnb - *Província de Tokyo, Japan Região de Kantō*\n",
        "\n",
        "<center><img alt=\"Analisando Airbnb\" width=\"30%\" src=\"https://marcas-logos.net/wp-content/uploads/2020/03/Airbnb-logo.jpg\"></center>\n",
        "\n",
        "  O [Airbnb](https://www.airbnb.com.br/) já é considerado como sendo a **maior empresa hoteleira da atualidade**. E ela **não possui nenhum hotel**, uma pratica em que usa-se a Sharing economy (Economia Compartilhada) atrelada a tecnologia para a solução de problemas a baixo custo.\n",
        "\n",
        "  Conectando pessoas que querem viajar (e se hospedar) com anfitriões que querem alugar seus imóveis de maneira prática, o Airbnb fornece uma plataforma inovadora para tornar essa hospedagem alternativa.\n",
        "\n",
        "  Em outubro de 2021, a Startup fundada 14 anos atrás, já havia **hospedado mais de 1 Bilhão** de pessoas ao redor de todo o mundo, desafiando as redes hoteleiras tradicionais.\n",
        "\n",
        "  Uma das iniciativas do Airbnb é disponibilizar dados do site, para algumas das principais cidades do mundo. Por meio do portal [Inside Airbnb](http://insideairbnb.com/get-the-data.html), é possível baixar uma grande quantidade de dados para desenvolver projetos e soluções de *Data Science*.\n",
        "\n",
        "<center><img alt=\"Tokyo\" width=\"70%\" src=\"https://wallpaperaccess.com/full/19066.jpg\"></center>\n",
        "\n",
        "**Neste *notebook*, iremos analisar os dados referentes à cidade de Tokyo, e ver quais insights podem ser extraídos a partir de dados brutos.**"
      ]
    },
    {
      "cell_type": "markdown",
      "metadata": {
        "id": "HjociSd3scm4"
      },
      "source": [
        "# Overview - Tokyo\n",
        "\n",
        "Tokyo, a movimentada capital do Japão, combina o estilo ultramoderno com o tradicional, desde arranha-céus iluminados por neon a templos históricos. O opulento santuário xintoísta Meiji é conhecido por seu altíssimo portão e pelas florestas circundantes.\n",
        "\n",
        "Uma cidade grande, espalhada e provavelmente muito diferente de tudo que você já viu na vida. Praticamente todos aqueles clichês das fotos são verdade: sempre muita gente nas ruas, pessoas com roupas diferentes, filas, placas piscando pra todos os lados, edifícios altos, cruzamentos movimentados, transporte mega eficiente e uma cumplicidade entre o desenvolvimento da cidade moderna e o respeito às tradições.\n",
        "\n",
        "**Dicas:**\n",
        "\n",
        "Visitar os principais bairros de Tokyo são passeios que consideramos imperdíveis! Shinjuku, Shibuya, Harajuku, Akihabara, Ginza e Asakusa são lugares para colocar na listinha. Não deixe de atravessar o cruzamento de Shibuya (o mais movimentado do mundo) e visitar a Starbucks dali para acompanhar de um ponto panorâmico a multidão atravessando as ruas. Próximo do cruzamento, fica a estátua do Hachiko, um cachorro cuja história ganhou até um filme! Andar pela estação de Shinjuku, que tem mais de 200 saídas, também é algo imperdível, assim como fazer compras nos arredores da estação. Quando estiver no bairro, você pode subir até os observatórios do Metropolitan Government Building, que são gratuitos e oferecem uma boa vista."
      ]
    },
    {
      "cell_type": "markdown",
      "metadata": {
        "id": "0zxQHhIUDF_2"
      },
      "source": [
        "## Obtenção dos Dados\n"
      ]
    },
    {
      "cell_type": "markdown",
      "metadata": {
        "id": "YLCHNHmK6ndr"
      },
      "source": [
        "Para realizar a obtenção dos dados vamos importar as bibliotecas necessarias para a analise de dados e geração de dados.\n",
        "\n",
        "Importaremos as biliotecas mais famosas para essa aárea de analise e visualização de dados \n",
        "\n",
        "* [Pandas](https://pandas.pydata.org/docs/)\n",
        "* [Matplotlib](https://matplotlib.org/stable/)\n",
        "* [Seaborn](https://seaborn.pydata.org/index.html)\n",
        "* [PyWaffle](https://waffle.readthedocs.io/en/stable/#)\n",
        "\n",
        "Todos os dados obtidos foram fornecidos pelo proprio site do [Airbnb](http://insideairbnb.com/get-the-data.html)\n",
        "\n",
        "\n"
      ]
    },
    {
      "cell_type": "code",
      "metadata": {
        "id": "RnujOTw6DOJC"
      },
      "source": [
        "!pip install pywaffle -q"
      ],
      "execution_count": 91,
      "outputs": []
    },
    {
      "cell_type": "code",
      "metadata": {
        "id": "Vhp2wMPgJ6zX"
      },
      "source": [
        "# importar os pacotes necessarios\n",
        "import pandas as pd\n",
        "import matplotlib.pyplot as plt\n",
        "import seaborn as sns\n",
        "from pywaffle import Waffle"
      ],
      "execution_count": 92,
      "outputs": []
    },
    {
      "cell_type": "code",
      "metadata": {
        "id": "tUmoAT8DLQ5T"
      },
      "source": [
        "# importar o arquivo listings.csv para um DataFrame\n",
        "df = pd.read_csv('http://data.insideairbnb.com/japan/kant%C5%8D/tokyo/2021-10-28/visualisations/listings.csv')"
      ],
      "execution_count": 93,
      "outputs": []
    },
    {
      "cell_type": "markdown",
      "metadata": {
        "id": "qb5By2nIMS6m"
      },
      "source": [
        "## Análise dos Dados\n"
      ]
    },
    {
      "cell_type": "markdown",
      "metadata": {
        "id": "wh1E_LRFz6-W"
      },
      "source": [
        "Antes de iniciar qualquer análise, vamos verificar a cara do nosso *dataset*, analisando as 5 primeiras entradas.\n",
        "\n"
      ]
    },
    {
      "cell_type": "code",
      "metadata": {
        "id": "2iS_dae7YQtO",
        "colab": {
          "base_uri": "https://localhost:8080/",
          "height": 487
        },
        "outputId": "18af4398-fe3e-495a-8502-91893368f318"
      },
      "source": [
        "# 5 primeiras entradas\n",
        "df.head()"
      ],
      "execution_count": 94,
      "outputs": [
        {
          "output_type": "execute_result",
          "data": {
            "text/html": [
              "<div>\n",
              "<style scoped>\n",
              "    .dataframe tbody tr th:only-of-type {\n",
              "        vertical-align: middle;\n",
              "    }\n",
              "\n",
              "    .dataframe tbody tr th {\n",
              "        vertical-align: top;\n",
              "    }\n",
              "\n",
              "    .dataframe thead th {\n",
              "        text-align: right;\n",
              "    }\n",
              "</style>\n",
              "<table border=\"1\" class=\"dataframe\">\n",
              "  <thead>\n",
              "    <tr style=\"text-align: right;\">\n",
              "      <th></th>\n",
              "      <th>id</th>\n",
              "      <th>name</th>\n",
              "      <th>host_id</th>\n",
              "      <th>host_name</th>\n",
              "      <th>neighbourhood_group</th>\n",
              "      <th>neighbourhood</th>\n",
              "      <th>latitude</th>\n",
              "      <th>longitude</th>\n",
              "      <th>room_type</th>\n",
              "      <th>price</th>\n",
              "      <th>minimum_nights</th>\n",
              "      <th>number_of_reviews</th>\n",
              "      <th>last_review</th>\n",
              "      <th>reviews_per_month</th>\n",
              "      <th>calculated_host_listings_count</th>\n",
              "      <th>availability_365</th>\n",
              "      <th>number_of_reviews_ltm</th>\n",
              "      <th>license</th>\n",
              "    </tr>\n",
              "  </thead>\n",
              "  <tbody>\n",
              "    <tr>\n",
              "      <th>0</th>\n",
              "      <td>197677</td>\n",
              "      <td>Oshiage Holiday Apartment</td>\n",
              "      <td>964081</td>\n",
              "      <td>Yoshimi &amp; Marek</td>\n",
              "      <td>NaN</td>\n",
              "      <td>Sumida Ku</td>\n",
              "      <td>35.71707</td>\n",
              "      <td>139.82608</td>\n",
              "      <td>Entire home/apt</td>\n",
              "      <td>11000</td>\n",
              "      <td>3</td>\n",
              "      <td>165</td>\n",
              "      <td>2019-11-14</td>\n",
              "      <td>1.49</td>\n",
              "      <td>1</td>\n",
              "      <td>363</td>\n",
              "      <td>0</td>\n",
              "      <td>M130003350</td>\n",
              "    </tr>\n",
              "    <tr>\n",
              "      <th>1</th>\n",
              "      <td>776070</td>\n",
              "      <td>Kero-kero house room 1</td>\n",
              "      <td>801494</td>\n",
              "      <td>Kei</td>\n",
              "      <td>NaN</td>\n",
              "      <td>Kita Ku</td>\n",
              "      <td>35.73844</td>\n",
              "      <td>139.76917</td>\n",
              "      <td>Private room</td>\n",
              "      <td>7950</td>\n",
              "      <td>3</td>\n",
              "      <td>228</td>\n",
              "      <td>2020-01-18</td>\n",
              "      <td>2.31</td>\n",
              "      <td>1</td>\n",
              "      <td>245</td>\n",
              "      <td>0</td>\n",
              "      <td>M130000243</td>\n",
              "    </tr>\n",
              "    <tr>\n",
              "      <th>2</th>\n",
              "      <td>1196177</td>\n",
              "      <td>Stay with host Cozy private room Senju area</td>\n",
              "      <td>5686404</td>\n",
              "      <td>Yukiko</td>\n",
              "      <td>NaN</td>\n",
              "      <td>Adachi Ku</td>\n",
              "      <td>35.74475</td>\n",
              "      <td>139.79731</td>\n",
              "      <td>Private room</td>\n",
              "      <td>3000</td>\n",
              "      <td>2</td>\n",
              "      <td>95</td>\n",
              "      <td>2020-03-17</td>\n",
              "      <td>0.97</td>\n",
              "      <td>1</td>\n",
              "      <td>88</td>\n",
              "      <td>0</td>\n",
              "      <td>M130007760</td>\n",
              "    </tr>\n",
              "    <tr>\n",
              "      <th>3</th>\n",
              "      <td>1249571</td>\n",
              "      <td>Unique stay! New&amp;1min to the subway</td>\n",
              "      <td>6809418</td>\n",
              "      <td>Yume</td>\n",
              "      <td>NaN</td>\n",
              "      <td>Shibuya Ku</td>\n",
              "      <td>35.65111</td>\n",
              "      <td>139.72165</td>\n",
              "      <td>Entire home/apt</td>\n",
              "      <td>32571</td>\n",
              "      <td>4</td>\n",
              "      <td>102</td>\n",
              "      <td>2019-11-30</td>\n",
              "      <td>1.46</td>\n",
              "      <td>1</td>\n",
              "      <td>320</td>\n",
              "      <td>1</td>\n",
              "      <td>M130000957</td>\n",
              "    </tr>\n",
              "    <tr>\n",
              "      <th>4</th>\n",
              "      <td>1298200</td>\n",
              "      <td>Pine House 2 Bed Room + 2 Toilets</td>\n",
              "      <td>6606987</td>\n",
              "      <td>K &amp; N</td>\n",
              "      <td>NaN</td>\n",
              "      <td>Katsushika Ku</td>\n",
              "      <td>35.73850</td>\n",
              "      <td>139.85167</td>\n",
              "      <td>Entire home/apt</td>\n",
              "      <td>11286</td>\n",
              "      <td>4</td>\n",
              "      <td>339</td>\n",
              "      <td>2020-03-13</td>\n",
              "      <td>3.72</td>\n",
              "      <td>2</td>\n",
              "      <td>183</td>\n",
              "      <td>0</td>\n",
              "      <td>M130009943</td>\n",
              "    </tr>\n",
              "  </tbody>\n",
              "</table>\n",
              "</div>"
            ],
            "text/plain": [
              "        id  ...     license\n",
              "0   197677  ...  M130003350\n",
              "1   776070  ...  M130000243\n",
              "2  1196177  ...  M130007760\n",
              "3  1249571  ...  M130000957\n",
              "4  1298200  ...  M130009943\n",
              "\n",
              "[5 rows x 18 columns]"
            ]
          },
          "metadata": {},
          "execution_count": 94
        }
      ]
    },
    {
      "cell_type": "markdown",
      "metadata": {
        "id": "RYgvuebKNg8-"
      },
      "source": [
        "Após a visualização do nosso dataset, notamos que o presente arquivo possui 10414 linhas e 18 colunas, nas quais suas colunas de variaveis constam-se na língua inglesa, logo vamos fazer um breve explição de cada varaivel para melhor entendimento.\n",
        "\n",
        "**Dicionário das variáveis**\n",
        "\n",
        "* `id` - Número de ID do imovel\n",
        "* `name` - Nome da propriedade anunciada\n",
        "* `host_id` - Número de ID do proprietario\n",
        "* `host_name` - Nome do proprietario\n",
        "* `neighbourhood_group` - Coluna ausente de valor válido\n",
        "* `neighbourhood` - Nome do Distrito\n",
        "* `latitude\t` - Coordenada da latitude da propriedade\n",
        "* `longitude` - Coordenada da latitude da propriedade\n",
        "* `room_type` - Tipo de quarto \n",
        "* `price` - Preço do aluguel \n",
        "* `minimum_nights` - Minimo de Noites para reserva\n",
        "* `number_of_reviews` - Numero de feedbacks da propriedade\n",
        "* `last_review` - Data do ultimo feedback \n",
        "* `reviews_per_month` - Número de feedback por mês\n",
        "* `calculated_host_listings_count` - Quantidade de imóveis do mesmo proprietario\n",
        "* `availability_365` - Número de dias de disponibilidade dentro de 365 dias\n",
        "\n",
        "\n"
      ]
    },
    {
      "cell_type": "markdown",
      "metadata": {
        "id": "6-B_qtEaYEd-"
      },
      "source": [
        "### **Quantos atributos (variáveis) e quantas entradas o nosso conjunto de dados possui? Quais os tipos das variáveis?**"
      ]
    },
    {
      "cell_type": "code",
      "metadata": {
        "id": "TFRK0tniLV-G",
        "colab": {
          "base_uri": "https://localhost:8080/"
        },
        "outputId": "89afafa0-cc0e-402b-ac7f-a6febaee6600"
      },
      "source": [
        "# identificar o volume de dados do DataFrame\n",
        "print(df.shape)\n",
        "\n",
        "# verificar as 5 primeiras entradas do dataset\n",
        "df.dtypes"
      ],
      "execution_count": 95,
      "outputs": [
        {
          "output_type": "stream",
          "name": "stdout",
          "text": [
            "(10414, 18)\n"
          ]
        },
        {
          "output_type": "execute_result",
          "data": {
            "text/plain": [
              "id                                  int64\n",
              "name                               object\n",
              "host_id                             int64\n",
              "host_name                          object\n",
              "neighbourhood_group               float64\n",
              "neighbourhood                      object\n",
              "latitude                          float64\n",
              "longitude                         float64\n",
              "room_type                          object\n",
              "price                               int64\n",
              "minimum_nights                      int64\n",
              "number_of_reviews                   int64\n",
              "last_review                        object\n",
              "reviews_per_month                 float64\n",
              "calculated_host_listings_count      int64\n",
              "availability_365                    int64\n",
              "number_of_reviews_ltm               int64\n",
              "license                            object\n",
              "dtype: object"
            ]
          },
          "metadata": {},
          "execution_count": 95
        }
      ]
    },
    {
      "cell_type": "markdown",
      "metadata": {
        "id": "8OcVQriU7qyf"
      },
      "source": [
        "Podemos ver que o nosso dataframe possui 10414 linhas e 18 colunas, sendo elas divididos entre `object` que são palavras, `int` e `float` os quais são  numeros inteiros e decimais respectivamente "
      ]
    },
    {
      "cell_type": "markdown",
      "metadata": {
        "id": "cobT65pK036Q"
      },
      "source": [
        "Nota-se que nenhum valor possui são dados errados.\n",
        "\n",
        "Exemplo - Valor que deveria ser numerico está como palavra.\n",
        "\n",
        "Logo se faz bastante importante essa visualização, pois apartir dela poderemos tratar esses valores caso esteja incorreto."
      ]
    },
    {
      "cell_type": "markdown",
      "metadata": {
        "id": "yz1urSUGW9iE"
      },
      "source": [
        "### **Qual a porcentagem de valores ausentes no *dataset*?**"
      ]
    },
    {
      "cell_type": "markdown",
      "metadata": {
        "id": "k93BHtvZ1UqP"
      },
      "source": [
        "Vamos analisar a quantidade de valores ausentes, para podemos trata-los, podendo ser realizado de duas formas:\n",
        "* Excluindo seus valores, caso não atrapalhe a analise do todo.\n",
        "* Inserindo valores medios, como Média ou Mediana nos valores ausentes. \n"
      ]
    },
    {
      "cell_type": "code",
      "metadata": {
        "id": "plk2FjbCXOqP",
        "colab": {
          "base_uri": "https://localhost:8080/"
        },
        "outputId": "d0e103ad-5699-47e3-97ce-7ca7b515f221"
      },
      "source": [
        "# ordenar em ordem decrescente as variáveis por seus valores ausentes\n",
        "(df.isnull().sum() / df.shape[0]).sort_values(ascending=False) * 100"
      ],
      "execution_count": 96,
      "outputs": [
        {
          "output_type": "execute_result",
          "data": {
            "text/plain": [
              "neighbourhood_group               100.000000\n",
              "reviews_per_month                  20.338007\n",
              "last_review                        20.338007\n",
              "license                             0.316881\n",
              "host_name                           0.268869\n",
              "longitude                           0.000000\n",
              "name                                0.000000\n",
              "host_id                             0.000000\n",
              "neighbourhood                       0.000000\n",
              "latitude                            0.000000\n",
              "room_type                           0.000000\n",
              "number_of_reviews_ltm               0.000000\n",
              "price                               0.000000\n",
              "minimum_nights                      0.000000\n",
              "number_of_reviews                   0.000000\n",
              "calculated_host_listings_count      0.000000\n",
              "availability_365                    0.000000\n",
              "id                                  0.000000\n",
              "dtype: float64"
            ]
          },
          "metadata": {},
          "execution_count": 96
        }
      ]
    },
    {
      "cell_type": "markdown",
      "metadata": {
        "id": "BcL0uP3ytljp"
      },
      "source": [
        "\n",
        "Optamos pelo método de exclusão dos valores, já que todos os valores de `neighbourhood_group` estão ausentes e 20% de `reviews_per_month ` e `last_review ` também estão ausentes e nenhum deles possui informações relevantes para a análise iremos excluir suas colunas.\n",
        "\n",
        "Em relação as outras entradas ausentes (license e host_name), como representam menos de 0,35% (Valor considerado mínimo em relação ao todo) iremos excluir suas linhas."
      ]
    },
    {
      "cell_type": "code",
      "metadata": {
        "id": "sIM7QjeytkuZ"
      },
      "source": [
        "df = df.drop(columns=['neighbourhood_group','reviews_per_month','last_review'])\n",
        "df = df.dropna(axis=0)"
      ],
      "execution_count": 97,
      "outputs": []
    },
    {
      "cell_type": "markdown",
      "metadata": {
        "id": "6EyXhW5j0XMK"
      },
      "source": [
        "Após a exclusão iremos checar quantos valores foram excluidos e se estão de acordo com o objetivo.\n"
      ]
    },
    {
      "cell_type": "code",
      "metadata": {
        "colab": {
          "base_uri": "https://localhost:8080/"
        },
        "id": "ZCZnC9Uqz2af",
        "outputId": "faa86409-1aad-4091-e6f5-9f80b1f23794"
      },
      "source": [
        "print(df.shape)\n",
        "(df.isnull().sum() / df.shape[0]).sort_values(ascending=False) * 100"
      ],
      "execution_count": 98,
      "outputs": [
        {
          "output_type": "stream",
          "name": "stdout",
          "text": [
            "(10353, 15)\n"
          ]
        },
        {
          "output_type": "execute_result",
          "data": {
            "text/plain": [
              "license                           0.0\n",
              "number_of_reviews_ltm             0.0\n",
              "availability_365                  0.0\n",
              "calculated_host_listings_count    0.0\n",
              "number_of_reviews                 0.0\n",
              "minimum_nights                    0.0\n",
              "price                             0.0\n",
              "room_type                         0.0\n",
              "longitude                         0.0\n",
              "latitude                          0.0\n",
              "neighbourhood                     0.0\n",
              "host_name                         0.0\n",
              "host_id                           0.0\n",
              "name                              0.0\n",
              "id                                0.0\n",
              "dtype: float64"
            ]
          },
          "metadata": {},
          "execution_count": 98
        }
      ]
    },
    {
      "cell_type": "markdown",
      "metadata": {
        "id": "8p8D9AzR-KPD"
      },
      "source": [
        "Vemos que a exclusão das linhas e colunas com valores nulos levaram a uma redução no dataset de 10.414 linhas para 10.353 e uma redução de 18 para 15 colunas.\n",
        "\n",
        "Vemos tambem que após a exclusão não sobrou nenhum valor ausente no nosso dateset, logo o objetivo desse primeiro tratamento foi um sucesso , pois isso nos permite aprofundamos a análise, observando a quantidade de outliers."
      ]
    },
    {
      "cell_type": "markdown",
      "metadata": {
        "id": "iHXvvHIxaoNc"
      },
      "source": [
        "### **Qual o tipo de distribuição das variáveis?** "
      ]
    },
    {
      "cell_type": "markdown",
      "metadata": {
        "id": "86M8OJEH3BYS"
      },
      "source": [
        "Para observamos de forma visual todas as variáveis numéricas iremos plotar gráficos de histogramas, na qual são bastante úteis, pois mostram a quantidade de algo por periodo de distribuição."
      ]
    },
    {
      "cell_type": "code",
      "metadata": {
        "id": "q2wWSfeRbmBo",
        "colab": {
          "base_uri": "https://localhost:8080/",
          "height": 607
        },
        "outputId": "6b42bc03-c7ea-4fe6-ce21-ee2c8fe56cf2"
      },
      "source": [
        "# plotar o histograma das variáveis numéricas\n",
        "df.hist(bins=15, figsize=(20,10), grid=False);"
      ],
      "execution_count": 99,
      "outputs": [
        {
          "output_type": "display_data",
          "data": {
            "image/png": "[encoded data removed]",
            "text/plain": [
              "<Figure size 1440x720 with 12 Axes>"
            ]
          },
          "metadata": {
            "needs_background": "light"
          }
        }
      ]
    },
    {
      "cell_type": "markdown",
      "metadata": {
        "id": "daD6U_hi-9mm"
      },
      "source": [
        "Analisando os histogramas focando em outliers vemos alguns valores que distocem bastante de uma realidade como é o caso de `minimum_nights` e `price` que possuem como valores maximos 1000 noites mínimas para aluguel e 2 Milhões de ienes por díaria \n",
        "\n",
        "Logo, vamos analisar esses duas colunas mais afundo."
      ]
    },
    {
      "cell_type": "markdown",
      "metadata": {
        "id": "7oD0EDemy7YR"
      },
      "source": [
        "# Há Outliers presentes ?"
      ]
    },
    {
      "cell_type": "markdown",
      "metadata": {
        "id": "fBGZh19vCyhM"
      },
      "source": [
        "Os valores não seguem uma distruição, e distorcem toda a representação gráfica. Para confirmar, há duas maneiras rápidas que auxiliam a detecção de *outliers*. São elas:\n",
        "\n",
        "* Resumo estatístico por meio do método `describe()`\n",
        "* Plotar `boxplots` para a variável.\n",
        "\n",
        "É muito importante conseguir identificar e tratar esses outliers, pois eles podem nos mostrar uma imagem incorreta dos nossos dados."
      ]
    },
    {
      "cell_type": "code",
      "metadata": {
        "colab": {
          "base_uri": "https://localhost:8080/"
        },
        "id": "B8L2Obady7LZ",
        "outputId": "74f16a46-afad-4d23-92d1-117f8bf1af6e"
      },
      "source": [
        "print(df[['minimum_nights', 'price']].describe().round(2))"
      ],
      "execution_count": 100,
      "outputs": [
        {
          "output_type": "stream",
          "name": "stdout",
          "text": [
            "       minimum_nights       price\n",
            "count        10353.00    10353.00\n",
            "mean             3.83    13515.10\n",
            "std             25.54    46801.06\n",
            "min              1.00      825.00\n",
            "25%              1.00     4498.00\n",
            "50%              1.00     7300.00\n",
            "75%              2.00    12857.00\n",
            "max            999.00  2185000.00\n"
          ]
        }
      ]
    },
    {
      "cell_type": "markdown",
      "metadata": {
        "id": "5F6A_T3pACUC"
      },
      "source": [
        "Como visto nos gráficos anterioes essas duas variaveis (colunas) possuem valores bem distoantes no caso de `minimum_nights ` o seu `std` (Desvio Padrão) esta em 25, vemos tambem que 75% dos dados possuem como no minimo 2 quantidade noite minimas, enquanto o maior encontrado foi 999 noites, número totalmente fora do padrão.\n",
        "\n",
        "Já na coluna `price` a situção é ainda pior com um `std` (Desvio Padrão) de 46801, enquanto 75% dos seus valores tem no minimo valor de 12857 Ienes por noite o maior valor encontrado é de quase 2,2 Milhões."
      ]
    },
    {
      "cell_type": "markdown",
      "metadata": {
        "id": "cNYO5MmW2NFQ"
      },
      "source": [
        "# Tratamento de Dados"
      ]
    },
    {
      "cell_type": "markdown",
      "metadata": {
        "id": "ZJ2ITlMhBqxw"
      },
      "source": [
        "Como vimos o dataset possui dados que interferem numa análise de dados mais precisa, portanto, iremos usar de métodos estatísticos para cálculos de limites (inferiores e superiores) e assim excluir os dados fora dos limites calculados, melhorando a qualidade dos dados auxiliando na tomada de decisão da maneira mais focada e precisa."
      ]
    },
    {
      "cell_type": "markdown",
      "metadata": {
        "id": "R_NYuglLvpRD"
      },
      "source": [
        "Para a realização dos cálculos dos limites usaremos a regra do IQR Score, método estatísticos bastante usado para tal funcionalidade.\n",
        "\n",
        "Primeiramente, vamos lembrar o que é o IQR.\n",
        "\n",
        "O IQR é calculado subtraindo o Terceiro Quartil (75%) pelo Primeiro Quartil (25%).\n",
        "\n",
        " #### IQR = Q3 - Q1\n",
        "\n",
        "Após essa breve essa explicação vamos aos cálculos."
      ]
    },
    {
      "cell_type": "markdown",
      "metadata": {
        "id": "9YqqTBPCFrRS"
      },
      "source": [
        "Q1, Q3 e IQR `price` "
      ]
    },
    {
      "cell_type": "code",
      "metadata": {
        "id": "mVk8eq1U2MuA"
      },
      "source": [
        "q1_price = df.price.quantile(0.25)\n",
        "q3_price = df.price.quantile(0.75)\n",
        "iqr_price = q3_price - q1_price"
      ],
      "execution_count": 101,
      "outputs": []
    },
    {
      "cell_type": "markdown",
      "metadata": {
        "id": "wsLpWY9HFz9h"
      },
      "source": [
        "Q1,Q3 e IQR `minimum_nights`"
      ]
    },
    {
      "cell_type": "code",
      "metadata": {
        "id": "_eUW0kyK3tAj"
      },
      "source": [
        "q1_minimum_nights = df.minimum_nights.quantile(0.25)\n",
        "q3_minimum_nights = df.minimum_nights.quantile(0.75)\n",
        "iqr_minimum_nights = q3_minimum_nights - q1_minimum_nights"
      ],
      "execution_count": 102,
      "outputs": []
    },
    {
      "cell_type": "markdown",
      "metadata": {
        "id": "BOUKQGEvF8cI"
      },
      "source": [
        "Limites superiores e inferiores de `price` e `minimum_nights`"
      ]
    },
    {
      "cell_type": "code",
      "metadata": {
        "id": "f7eoIKFS4WbE"
      },
      "source": [
        "sup_price = q3_price + 1.5 * iqr_price\n",
        "inf_price = q1_price - 1.5 * iqr_price\n",
        "sup_minimum_nights = q3_minimum_nights + 1.5 * iqr_minimum_nights\n",
        "inf_minimum_nights = q1_minimum_nights - 1.5 * iqr_minimum_nights\n"
      ],
      "execution_count": 103,
      "outputs": []
    },
    {
      "cell_type": "code",
      "metadata": {
        "colab": {
          "base_uri": "https://localhost:8080/"
        },
        "id": "DovjmcH4ulpA",
        "outputId": "842870ae-afb6-41d4-f67f-5c2ce4eceec4"
      },
      "source": [
        "print(f'Limite superior de price {sup_price}')\n",
        "print(f'limite inferior de price {inf_price}')\n",
        "print(f'IQR de price {iqr_price}')"
      ],
      "execution_count": 104,
      "outputs": [
        {
          "output_type": "stream",
          "name": "stdout",
          "text": [
            "Limite superior de price 25395.5\n",
            "limite inferior de price -8040.5\n",
            "IQR de price 8359.0\n"
          ]
        }
      ]
    },
    {
      "cell_type": "code",
      "metadata": {
        "colab": {
          "base_uri": "https://localhost:8080/"
        },
        "id": "mhhMKEqxFLzT",
        "outputId": "747462ed-3b97-4cae-dfc9-bb470cfb0a5e"
      },
      "source": [
        "print(f'Limite superior de minimum_nights {sup_minimum_nights}')\n",
        "print(f'limite inferior de minimum_nights {inf_minimum_nights}')\n",
        "print(f'IQR de minimum_nights {iqr_minimum_nights}')"
      ],
      "execution_count": 105,
      "outputs": [
        {
          "output_type": "stream",
          "name": "stdout",
          "text": [
            "Limite superior de minimum_nights 3.5\n",
            "limite inferior de minimum_nights -0.5\n",
            "IQR de minimum_nights 1.0\n"
          ]
        }
      ]
    },
    {
      "cell_type": "markdown",
      "metadata": {
        "id": "jBxJ5vBtGUba"
      },
      "source": [
        "### Graficos box plot de `price` e `minimum_nights`"
      ]
    },
    {
      "cell_type": "markdown",
      "metadata": {
        "id": "ZDeb3Ftd4-0_"
      },
      "source": [
        "Com os cálculos realizados vamos gerar gráficos boxplot, para analisar em termos visuais o tanto que os outliers estão atrapalhandp nossa análise.\n",
        "\n",
        "Também iremos mostrar em valor númerico a quantidade de entradas que estão acima do limite calculado e suas recpectivas porcetagens no dataset."
      ]
    },
    {
      "cell_type": "code",
      "metadata": {
        "colab": {
          "base_uri": "https://localhost:8080/",
          "height": 292
        },
        "id": "Tt7J6-365PxD",
        "outputId": "e2565ae1-0ef5-4b4b-d30b-ac0014575392"
      },
      "source": [
        "df.price.plot(kind='box', vert=False, figsize=(15,3));\n",
        "plt.title('Dataset Original - price')\n",
        "print(\"{} Entradas acima do limite de price\".format(len(df[df.price > sup_price])))\n",
        "print(\"{:.2f}% Entradas acima do limite de price\".format(len(df[df.price > sup_price]) / df.shape[0] * 100))\n",
        "print(\"{} Entradas igual a zero\".format(len(df[df.price == 0])))"
      ],
      "execution_count": 106,
      "outputs": [
        {
          "output_type": "stream",
          "name": "stdout",
          "text": [
            "832 Entradas acima do limite de price\n",
            "8.04% Entradas acima do limite de price\n",
            "0 Entradas igual a zero\n"
          ]
        },
        {
          "output_type": "display_data",
          "data": {
            "image/png": "[encoded data removed]",
            "text/plain": [
              "<Figure size 1080x216 with 1 Axes>"
            ]
          },
          "metadata": {
            "needs_background": "light"
          }
        }
      ]
    },
    {
      "cell_type": "code",
      "metadata": {
        "colab": {
          "base_uri": "https://localhost:8080/",
          "height": 262
        },
        "id": "cPIuAV4nAVJ0",
        "outputId": "bae69e85-5d88-4cf0-e220-0558cbd59c59"
      },
      "source": [
        "df.minimum_nights.plot(kind='box', vert=False, figsize=(15,3));\n",
        "plt.title('Dataset Original - minimum nights')\n",
        "print(\"{} Entradas acima do limite de minimum_nights\".format(len(df[df.minimum_nights > sup_minimum_nights])))\n",
        "print(\"{:.2f}% Entradas acima do limite de minimum_nights\".format(len(df[df.minimum_nights > sup_minimum_nights]) / df.shape[0] * 100))"
      ],
      "execution_count": 107,
      "outputs": [
        {
          "output_type": "stream",
          "name": "stdout",
          "text": [
            "779 Entradas acima do limite de minimum_nights\n",
            "7.52% Entradas acima do limite de minimum_nights\n"
          ]
        },
        {
          "output_type": "display_data",
          "data": {
            "image/png": "[encoded data removed]",
            "text/plain": [
              "<Figure size 1080x216 with 1 Axes>"
            ]
          },
          "metadata": {
            "needs_background": "light"
          }
        }
      ]
    },
    {
      "cell_type": "markdown",
      "metadata": {
        "id": "B1C0R577Gka4"
      },
      "source": [
        "Agora que sabemos a quantidade valores fora dos limites calculados, decidiremos como tratar, a qual possui dois métodos:\n",
        "* Excluir \n",
        "* Trata-los usando Media e Mediana\n",
        "\n",
        "Como ambos os valores possuem dados em torno de 8%, excluiremos visto que essa quantidade de não afeta negativamente a nossa analise."
      ]
    },
    {
      "cell_type": "markdown",
      "metadata": {
        "id": "bljOawg5-eIV"
      },
      "source": [
        "### Exclusão dos outliers\n"
      ]
    },
    {
      "cell_type": "code",
      "metadata": {
        "colab": {
          "base_uri": "https://localhost:8080/"
        },
        "id": "J7oX4GGh-gcm",
        "outputId": "eae2a60f-f920-442e-cb0b-eaf1e61bfd67"
      },
      "source": [
        "df_clean = df.copy()\n",
        "df_clean.drop(df_clean[df_clean.price > sup_price].index, axis=0, inplace=True)\n",
        "df_clean.drop(df_clean[df_clean.minimum_nights > sup_minimum_nights].index, axis=0, inplace=True)\n",
        "print(f'Quantide de linhas e colunas antes da exclusão {df.shape}')\n",
        "print(f'Quantidade de linhas e colunas depois da exclusão {df_clean.shape}')\n",
        "\n",
        "print('A quantide de linhas excluidas foram de 1552')"
      ],
      "execution_count": 108,
      "outputs": [
        {
          "output_type": "stream",
          "name": "stdout",
          "text": [
            "Quantide de linhas e colunas antes da exclusão (10353, 15)\n",
            "Quantidade de linhas e colunas depois da exclusão (8801, 15)\n",
            "A quantide de linhas excluidas foram de 1552\n"
          ]
        }
      ]
    },
    {
      "cell_type": "markdown",
      "metadata": {
        "id": "I5p8lFB46biP"
      },
      "source": [
        "Feita as necessárias exclusões, vamos analisar novamente os valores estatístico das variaveis ."
      ]
    },
    {
      "cell_type": "code",
      "metadata": {
        "colab": {
          "base_uri": "https://localhost:8080/"
        },
        "id": "4C1QWJ1fH1t5",
        "outputId": "22df9657-78c1-402b-f3cb-cda8fa573e8c"
      },
      "source": [
        "print('{} ANTES {}'.format(15*'-',15*'-'))\n",
        "print(df[['minimum_nights', 'price']].describe().round(2))\n",
        "print('{} DEPOIS {}'.format(15*'-',15*'-'))\n",
        "print(df_clean[['minimum_nights', 'price']].describe().round(2))"
      ],
      "execution_count": 109,
      "outputs": [
        {
          "output_type": "stream",
          "name": "stdout",
          "text": [
            "--------------- ANTES ---------------\n",
            "       minimum_nights       price\n",
            "count        10353.00    10353.00\n",
            "mean             3.83    13515.10\n",
            "std             25.54    46801.06\n",
            "min              1.00      825.00\n",
            "25%              1.00     4498.00\n",
            "50%              1.00     7300.00\n",
            "75%              2.00    12857.00\n",
            "max            999.00  2185000.00\n",
            "--------------- DEPOIS ---------------\n",
            "       minimum_nights     price\n",
            "count         8801.00   8801.00\n",
            "mean             1.40   8395.38\n",
            "std              0.59   5325.81\n",
            "min              1.00    825.00\n",
            "25%              1.00   4278.00\n",
            "50%              1.00   6793.00\n",
            "75%              2.00  11229.00\n",
            "max              3.00  25286.00\n"
          ]
        }
      ]
    },
    {
      "cell_type": "markdown",
      "metadata": {
        "id": "4bCPiXS3RyIq"
      },
      "source": [
        "Vemos que a exclusão de alguns outliers representaram uma diferença enorme na nossa análise.\n",
        "*  Valores como 2,2 milhões referente ao preço maximo por estadia se tornoram 25 mil\n",
        "* Valor mais alto do número minimos de noites saiu de 999 para 3 noites\n",
        "\n",
        "Redução bastante significativa no desvio padrão somente com a exclusão de alguns outliers."
      ]
    },
    {
      "cell_type": "markdown",
      "metadata": {
        "id": "8CPnuR2xNK1t"
      },
      "source": [
        "#Analise dos dados"
      ]
    },
    {
      "cell_type": "markdown",
      "metadata": {
        "id": "J5ReD7OjOkFr"
      },
      "source": [
        "### Novo Histrograma após a exclusão dos outliers"
      ]
    },
    {
      "cell_type": "markdown",
      "metadata": {
        "id": "qRyVyTOT7I6Y"
      },
      "source": [
        "Chegando ao final do tratamento, vamos plotar novamente os histogramas e entender visualmente como esse tratamento dos outliers atingiu as variaveis."
      ]
    },
    {
      "cell_type": "code",
      "metadata": {
        "colab": {
          "base_uri": "https://localhost:8080/",
          "height": 607
        },
        "id": "NrrNmpEcNm_F",
        "outputId": "046d6f00-dca1-463d-d9c8-9a5019f789b8"
      },
      "source": [
        "df_clean.hist(bins=15, figsize=(20,10), grid=False);"
      ],
      "execution_count": 110,
      "outputs": [
        {
          "output_type": "display_data",
          "data": {
            "image/png": "[encoded data removed]",
            "text/plain": [
              "<Figure size 1440x720 with 12 Axes>"
            ]
          },
          "metadata": {
            "needs_background": "light"
          }
        }
      ]
    },
    {
      "cell_type": "markdown",
      "metadata": {
        "id": "2CfR6sC5Lj7g"
      },
      "source": [
        "Após a exclusão vemos que os histogramas do `price` e `minimum_nights` ficaram coerente com a realidade e apresentaram maior facilidade de visualização de seus números."
      ]
    },
    {
      "cell_type": "markdown",
      "metadata": {
        "id": "IXn2oIo5qx-w"
      },
      "source": [
        "## **Qual a correlação existente entre as variáveis**"
      ]
    },
    {
      "cell_type": "markdown",
      "metadata": {
        "id": "IzFpgeiW7v_Q"
      },
      "source": [
        "Após o tratamento e visualização dos dados, vamos tentar descobrir se a há alguma correlação entre as variaveis.\n",
        "\n",
        "A analise da correlação vai apresentar as seguintes variaveis:\n",
        "* price\n",
        "* minimum_nights \n",
        "* number_of_reviews\n",
        "* calculated_host_listings_count\n",
        "* availability_365"
      ]
    },
    {
      "cell_type": "code",
      "metadata": {
        "id": "x2ayzBajqxyd",
        "colab": {
          "base_uri": "https://localhost:8080/",
          "height": 206
        },
        "outputId": "16f5c87d-3b3c-40a9-c861-13d74dacfbe3"
      },
      "source": [
        "# criar uma matriz de correlação\n",
        "corr = df_clean[['price', 'minimum_nights', 'number_of_reviews', 'calculated_host_listings_count', 'availability_365']].corr()\n",
        "# mostrar a matriz de correlação\n",
        "display(corr)"
      ],
      "execution_count": 111,
      "outputs": [
        {
          "output_type": "display_data",
          "data": {
            "text/html": [
              "<div>\n",
              "<style scoped>\n",
              "    .dataframe tbody tr th:only-of-type {\n",
              "        vertical-align: middle;\n",
              "    }\n",
              "\n",
              "    .dataframe tbody tr th {\n",
              "        vertical-align: top;\n",
              "    }\n",
              "\n",
              "    .dataframe thead th {\n",
              "        text-align: right;\n",
              "    }\n",
              "</style>\n",
              "<table border=\"1\" class=\"dataframe\">\n",
              "  <thead>\n",
              "    <tr style=\"text-align: right;\">\n",
              "      <th></th>\n",
              "      <th>price</th>\n",
              "      <th>minimum_nights</th>\n",
              "      <th>number_of_reviews</th>\n",
              "      <th>calculated_host_listings_count</th>\n",
              "      <th>availability_365</th>\n",
              "    </tr>\n",
              "  </thead>\n",
              "  <tbody>\n",
              "    <tr>\n",
              "      <th>price</th>\n",
              "      <td>1.000000</td>\n",
              "      <td>-0.060829</td>\n",
              "      <td>-0.004912</td>\n",
              "      <td>0.053002</td>\n",
              "      <td>-0.049234</td>\n",
              "    </tr>\n",
              "    <tr>\n",
              "      <th>minimum_nights</th>\n",
              "      <td>-0.060829</td>\n",
              "      <td>1.000000</td>\n",
              "      <td>0.070783</td>\n",
              "      <td>-0.057780</td>\n",
              "      <td>0.068063</td>\n",
              "    </tr>\n",
              "    <tr>\n",
              "      <th>number_of_reviews</th>\n",
              "      <td>-0.004912</td>\n",
              "      <td>0.070783</td>\n",
              "      <td>1.000000</td>\n",
              "      <td>-0.154467</td>\n",
              "      <td>0.042362</td>\n",
              "    </tr>\n",
              "    <tr>\n",
              "      <th>calculated_host_listings_count</th>\n",
              "      <td>0.053002</td>\n",
              "      <td>-0.057780</td>\n",
              "      <td>-0.154467</td>\n",
              "      <td>1.000000</td>\n",
              "      <td>0.026294</td>\n",
              "    </tr>\n",
              "    <tr>\n",
              "      <th>availability_365</th>\n",
              "      <td>-0.049234</td>\n",
              "      <td>0.068063</td>\n",
              "      <td>0.042362</td>\n",
              "      <td>0.026294</td>\n",
              "      <td>1.000000</td>\n",
              "    </tr>\n",
              "  </tbody>\n",
              "</table>\n",
              "</div>"
            ],
            "text/plain": [
              "                                   price  ...  availability_365\n",
              "price                           1.000000  ...         -0.049234\n",
              "minimum_nights                 -0.060829  ...          0.068063\n",
              "number_of_reviews              -0.004912  ...          0.042362\n",
              "calculated_host_listings_count  0.053002  ...          0.026294\n",
              "availability_365               -0.049234  ...          1.000000\n",
              "\n",
              "[5 rows x 5 columns]"
            ]
          },
          "metadata": {}
        }
      ]
    },
    {
      "cell_type": "code",
      "metadata": {
        "id": "91UujDr6ueqE",
        "colab": {
          "base_uri": "https://localhost:8080/",
          "height": 411
        },
        "outputId": "6325a17e-d522-4f4e-80f9-9c5a5d03b38f"
      },
      "source": [
        "# plotar um heatmap a partir das correlações\n",
        "sns.heatmap(corr, cmap='RdBu', fmt='.2f', square=True, linecolor='white', annot=True);"
      ],
      "execution_count": 112,
      "outputs": [
        {
          "output_type": "display_data",
          "data": {
            "image/png": "[encoded data removed]",
            "text/plain": [
              "<Figure size 432x288 with 2 Axes>"
            ]
          },
          "metadata": {
            "needs_background": "light"
          }
        }
      ]
    },
    {
      "cell_type": "markdown",
      "metadata": {
        "id": "QY7O0KxlMq1s"
      },
      "source": [
        "Conclusão:\n",
        "\n",
        "As variaveis númericas analisadas não possuem nenhum grau de causalidade ou correlação, tanto graficamente e númericamente nenhuma variavel apresenta valores significativos, sendo o tom azulado uma correlação muito forte e o tom mais avermlehado o seu inverso."
      ]
    },
    {
      "cell_type": "markdown",
      "metadata": {
        "id": "nFsU13hOQ8pk"
      },
      "source": [
        "#Valores da analise de dados"
      ]
    },
    {
      "cell_type": "markdown",
      "metadata": {
        "id": "6DF1sxI09DUn"
      },
      "source": [
        "Visto todas as etapas de tramento de dados, vamos a analise exploratoria onde descobriremos os valores medios e suas quantidades\n",
        "\n",
        "As perguntas respondidas na análise serão:\n",
        "* Qual a média dos preços de aluguel?\n",
        "* Qual o tipo de imóvel mais alugado no Airbnb?\n",
        "* Quantas localidades existem no dataset ?\n",
        "* Qual a localidade mais cara do dataset ?\n",
        "* Qual a localidade mais barata do dataset ?\n",
        "* Quantide de imovel por região das 5 mais caras \n",
        "* Qual é a média do mínimo de noites para aluguel ?\n",
        "\n",
        "Entre outras curiosidades e gráficos na qual valem a pena a obeservação."
      ]
    },
    {
      "cell_type": "markdown",
      "metadata": {
        "id": "7x4aw1j5wNmn"
      },
      "source": [
        "## **Qual a média dos preços de aluguel?**"
      ]
    },
    {
      "cell_type": "code",
      "metadata": {
        "id": "ff-8gUahLk-C",
        "colab": {
          "base_uri": "https://localhost:8080/"
        },
        "outputId": "632b37a5-40ba-4c27-d3a7-189924fe50bf"
      },
      "source": [
        "# ver a média da coluna `price``\n",
        "print('O custo médio por noite em Tokyo é ¥{:.2f}'.format(df_clean.price.mean()))"
      ],
      "execution_count": 113,
      "outputs": [
        {
          "output_type": "stream",
          "name": "stdout",
          "text": [
            "O custo médio por noite em Tokyo é ¥8395.38\n"
          ]
        }
      ]
    },
    {
      "cell_type": "markdown",
      "metadata": {
        "id": "7b6RMWpuHKN-"
      },
      "source": [
        "## **Qual o tipo de imóvel mais alugado no Airbnb?**"
      ]
    },
    {
      "cell_type": "code",
      "metadata": {
        "colab": {
          "base_uri": "https://localhost:8080/",
          "height": 490
        },
        "id": "7zK_P-vcC6Fh",
        "outputId": "c6b3e0e0-f5f9-486b-b8f5-8bfe9bdb0299"
      },
      "source": [
        "data = dict(df_clean['room_type'].value_counts())\n",
        "\n",
        "fig = plt.figure(\n",
        "    FigureClass=Waffle,\n",
        "    figsize=(12,8),\n",
        "    rows=8,\n",
        "    columns=18,\n",
        "    colors=(\"#232066\", \"#983D3D\", \"#DCB732\", \"#FFA500\"),\n",
        "    values=data, icons='archway', icon_size=25,\n",
        "    legend={'loc': 'upper left', 'bbox_to_anchor': (1,1)},\n",
        "    icon_legend=True\n",
        ")\n",
        "\n",
        "plt.text(0, 1.2, 'Imóveis Mais Alugados',\n",
        "         fontsize=20, \n",
        "         color=\"#787878\",\n",
        "         weight='bold')\n",
        "\n",
        "plt.text(0, 1.15,\n",
        "         \"Os tipos de imóveis mais alugados pelos hóspedes\\n\"\n",
        "         \"do AIRBNB.\",\n",
        "         verticalalignment=\"top\",\n",
        "         fontsize=16,\n",
        "         color=\"#A2A1A3\")\n",
        "\n",
        "fig.set_tight_layout(False)\n",
        "plt.show();\n",
        "print((df_clean['room_type'].value_counts() / df_clean.shape[0]))"
      ],
      "execution_count": 114,
      "outputs": [
        {
          "output_type": "display_data",
          "data": {
            "image/png": "[encoded data removed]",
            "text/plain": [
              "<Waffle size 864x576 with 1 Axes>"
            ]
          },
          "metadata": {
            "needs_background": "light"
          }
        },
        {
          "output_type": "stream",
          "name": "stdout",
          "text": [
            "Entire home/apt    0.662425\n",
            "Private room       0.260198\n",
            "Hotel room         0.040450\n",
            "Shared room        0.036928\n",
            "Name: room_type, dtype: float64\n"
          ]
        }
      ]
    },
    {
      "cell_type": "markdown",
      "metadata": {
        "id": "1ClRp8W8RMlq"
      },
      "source": [
        "**Entire home/apt - Casa inteiro/Apartamento**\n",
        "\n",
        "**Private room - Quarto Privado**\n",
        "\n",
        "**Shared room -  Quarto Compartilhado**\n",
        " \n",
        "**Hotel room - Quarto de Hotel**"
      ]
    },
    {
      "cell_type": "markdown",
      "metadata": {
        "id": "_ZnDIKf6_R_B"
      },
      "source": [
        "* Entire home/apt    66.24 %\n",
        "* Private room       26.01 %\n",
        "* Hotel room          4.04 %\n",
        "* Shared room         3.69 %"
      ]
    },
    {
      "cell_type": "markdown",
      "metadata": {
        "id": "YJUmTfuY44JA"
      },
      "source": [
        "## **Quantas localidades existem no dataset ?**"
      ]
    },
    {
      "cell_type": "code",
      "metadata": {
        "colab": {
          "base_uri": "https://localhost:8080/"
        },
        "id": "izGwWXo64-cZ",
        "outputId": "5d4fdb5c-aede-466d-d959-bdbb9c704ff6"
      },
      "source": [
        "df_clean.neighbourhood.value_counts().shape"
      ],
      "execution_count": 115,
      "outputs": [
        {
          "output_type": "execute_result",
          "data": {
            "text/plain": [
              "(48,)"
            ]
          },
          "metadata": {},
          "execution_count": 115
        }
      ]
    },
    {
      "cell_type": "markdown",
      "metadata": {
        "id": "IR2QLvpH8bri"
      },
      "source": [
        "A província do Japão possui 48 Localidades/Cidades"
      ]
    },
    {
      "cell_type": "markdown",
      "metadata": {
        "id": "MFa5NbnLJMcd"
      },
      "source": [
        "## **Qual a localidade mais cara do dataset em média ?**\n",
        "\n"
      ]
    },
    {
      "cell_type": "code",
      "metadata": {
        "id": "MD_xa143JZpi",
        "colab": {
          "base_uri": "https://localhost:8080/",
          "height": 524
        },
        "outputId": "08e3be22-06e4-4553-da3a-dfdd873f81db"
      },
      "source": [
        "# ver preços por distrito, na média\n",
        "print(df_clean.groupby(['neighbourhood']).price.mean().sort_values(ascending=False).round(2)[:10])\n",
        "print()\n",
        "print(df_clean.groupby(['neighbourhood']).price.mean().sort_values(ascending=False).round(2)[:10].plot(kind='barh'))\n",
        "plt.title('Regiões por preço mais caras');"
      ],
      "execution_count": 116,
      "outputs": [
        {
          "output_type": "stream",
          "name": "stdout",
          "text": [
            "neighbourhood\n",
            "Mitaka Shi       18840.33\n",
            "Musashino Shi    10775.00\n",
            "Chiyoda Ku       10679.09\n",
            "Shibuya Ku       10071.14\n",
            "Chuo Ku           9966.63\n",
            "Minato Ku         9729.33\n",
            "Ome Shi           9728.50\n",
            "Taito Ku          9558.83\n",
            "Suginami Ku       9525.62\n",
            "Koganei Shi       9443.00\n",
            "Name: price, dtype: float64\n",
            "\n",
            "AxesSubplot(0.125,0.125;0.775x0.755)\n"
          ]
        },
        {
          "output_type": "display_data",
          "data": {
            "image/png": "[encoded data removed]",
            "text/plain": [
              "<Figure size 432x288 with 1 Axes>"
            ]
          },
          "metadata": {
            "needs_background": "light"
          }
        }
      ]
    },
    {
      "cell_type": "markdown",
      "metadata": {
        "id": "UzTUv6RE27Lf"
      },
      "source": [
        "## **Qual a localidade mais barata do dataset em média ?**"
      ]
    },
    {
      "cell_type": "code",
      "metadata": {
        "colab": {
          "base_uri": "https://localhost:8080/",
          "height": 524
        },
        "id": "oqqupwY628Ml",
        "outputId": "a35f29bf-75ac-4a5f-c1f3-189ef78d1fbe"
      },
      "source": [
        "print(df_clean.groupby(['neighbourhood']).price.mean().sort_values(ascending=True).round(2)[:10])\n",
        "print()\n",
        "print(df_clean.groupby(['neighbourhood']).price.mean().sort_values(ascending=True).round(2)[:10].plot(kind='barh'))\n",
        "plt.title('Regiões por preço mais baratas');"
      ],
      "execution_count": 117,
      "outputs": [
        {
          "output_type": "stream",
          "name": "stdout",
          "text": [
            "neighbourhood\n",
            "Musashimurayama Shi    3000.00\n",
            "Hamura Shi             3086.00\n",
            "Kiyose Shi             3571.00\n",
            "Hino Shi               3704.47\n",
            "Akishima Shi           3873.00\n",
            "Higashikurume Shi      4000.00\n",
            "Kunitachi Shi          4118.43\n",
            "Hinohara Mura          5000.00\n",
            "Fuchu Shi              5094.04\n",
            "Akiruno Shi            5257.25\n",
            "Name: price, dtype: float64\n",
            "\n",
            "AxesSubplot(0.125,0.125;0.775x0.755)\n"
          ]
        },
        {
          "output_type": "display_data",
          "data": {
            "image/png": "[encoded data removed]",
            "text/plain": [
              "<Figure size 432x288 with 1 Axes>"
            ]
          },
          "metadata": {
            "needs_background": "light"
          }
        }
      ]
    },
    {
      "cell_type": "markdown",
      "metadata": {
        "id": "ScwyCkigtZTw"
      },
      "source": [
        "## **Quantide de imovel por região (5 mais caras)**\n"
      ]
    },
    {
      "cell_type": "markdown",
      "metadata": {
        "id": "yywbYVxzvZI6"
      },
      "source": [
        "Região de Mitaka Shi\n"
      ]
    },
    {
      "cell_type": "code",
      "metadata": {
        "colab": {
          "base_uri": "https://localhost:8080/"
        },
        "id": "ttdMKbOOteH9",
        "outputId": "edcd23c3-b97f-485a-8a6b-2f1d40fe2389"
      },
      "source": [
        "print(df_clean[df_clean.neighbourhood == \"Mitaka Shi\"].shape)\n",
        "df_clean[df_clean.neighbourhood == \"Mitaka Shi\"].price"
      ],
      "execution_count": 118,
      "outputs": [
        {
          "output_type": "stream",
          "name": "stdout",
          "text": [
            "(3, 15)\n"
          ]
        },
        {
          "output_type": "execute_result",
          "data": {
            "text/plain": [
              "69      22857\n",
              "71      24857\n",
              "6647     8807\n",
              "Name: price, dtype: int64"
            ]
          },
          "metadata": {},
          "execution_count": 118
        }
      ]
    },
    {
      "cell_type": "markdown",
      "metadata": {
        "id": "klZkZo1eONoV"
      },
      "source": [
        "Possui somente 3 imoveis com média de preços em ¥18840.33"
      ]
    },
    {
      "cell_type": "markdown",
      "metadata": {
        "id": "XxWLdpYivd6R"
      },
      "source": [
        "Região de Musashino Shi\n"
      ]
    },
    {
      "cell_type": "code",
      "metadata": {
        "colab": {
          "base_uri": "https://localhost:8080/"
        },
        "id": "mTdbvNzxvgTn",
        "outputId": "204f760e-de34-4865-92f8-8ce54931cd4f"
      },
      "source": [
        "print(df_clean[df_clean.neighbourhood == \"Musashino Shi\"].shape)\n",
        "df_clean[df_clean.neighbourhood == \"Musashino Shi\"].price"
      ],
      "execution_count": 119,
      "outputs": [
        {
          "output_type": "stream",
          "name": "stdout",
          "text": [
            "(4, 15)\n"
          ]
        },
        {
          "output_type": "execute_result",
          "data": {
            "text/plain": [
              "1651     3000\n",
              "2499    10571\n",
              "8567    17386\n",
              "8568    12143\n",
              "Name: price, dtype: int64"
            ]
          },
          "metadata": {},
          "execution_count": 119
        }
      ]
    },
    {
      "cell_type": "markdown",
      "metadata": {
        "id": "_DaYluq8PZGQ"
      },
      "source": [
        "Possui somente 4 imoveis com média de preços em ¥10775.00"
      ]
    },
    {
      "cell_type": "markdown",
      "metadata": {
        "id": "LDUUpy5Zvg_2"
      },
      "source": [
        "Região de Chiyoda Ku"
      ]
    },
    {
      "cell_type": "code",
      "metadata": {
        "colab": {
          "base_uri": "https://localhost:8080/"
        },
        "id": "-sBx1xi2wziJ",
        "outputId": "2451c758-69aa-4cf1-c5a2-baf82d5497c5"
      },
      "source": [
        "print(df_clean[df_clean.neighbourhood == \"Chiyoda Ku\"].shape)\n",
        "df_clean[df_clean.neighbourhood == \"Chiyoda Ku\"].price.sort_values(ascending=False)"
      ],
      "execution_count": 120,
      "outputs": [
        {
          "output_type": "stream",
          "name": "stdout",
          "text": [
            "(141, 15)\n"
          ]
        },
        {
          "output_type": "execute_result",
          "data": {
            "text/plain": [
              "2618    25136\n",
              "3084    25136\n",
              "2583    25136\n",
              "2619    25136\n",
              "2584    25136\n",
              "        ...  \n",
              "9002     2100\n",
              "8723     1980\n",
              "8724     1980\n",
              "8855     1980\n",
              "2650     1854\n",
              "Name: price, Length: 141, dtype: int64"
            ]
          },
          "metadata": {},
          "execution_count": 120
        }
      ]
    },
    {
      "cell_type": "markdown",
      "metadata": {
        "id": "R6rRfNjYPwkJ"
      },
      "source": [
        "Possui 141 imoveis"
      ]
    },
    {
      "cell_type": "code",
      "metadata": {
        "colab": {
          "base_uri": "https://localhost:8080/"
        },
        "id": "ZQQzbCvq3jVt",
        "outputId": "fbcc4a4c-a825-480e-8feb-f5bcd6e5a0b0"
      },
      "source": [
        "df_clean[df_clean.neighbourhood == \"Chiyoda Ku\"].price.describe()"
      ],
      "execution_count": 121,
      "outputs": [
        {
          "output_type": "execute_result",
          "data": {
            "text/plain": [
              "count      141.000000\n",
              "mean     10679.085106\n",
              "std       5897.378178\n",
              "min       1854.000000\n",
              "25%       6086.000000\n",
              "50%      10106.000000\n",
              "75%      13389.000000\n",
              "max      25136.000000\n",
              "Name: price, dtype: float64"
            ]
          },
          "metadata": {},
          "execution_count": 121
        }
      ]
    },
    {
      "cell_type": "markdown",
      "metadata": {
        "id": "X89B72sD4C9d"
      },
      "source": [
        "Vemos que mesmo Chiyoda Ku tendo uma média de aluguel 10680 Ienes, é possível alugar a valores bem menores, já que 25% dos alugueis possuem valores menos que 6086 Ienes"
      ]
    },
    {
      "cell_type": "markdown",
      "metadata": {
        "id": "bZWriTXgxC6x"
      },
      "source": [
        "Região de Shibuya Ku"
      ]
    },
    {
      "cell_type": "code",
      "metadata": {
        "colab": {
          "base_uri": "https://localhost:8080/"
        },
        "id": "Wg7VECw7xILb",
        "outputId": "f4058d4e-654e-492f-b337-3ec337ad8923"
      },
      "source": [
        "print(df_clean[df_clean.neighbourhood == \"Shibuya Ku\"].shape)\n",
        "df_clean[df_clean.neighbourhood == \"Shibuya Ku\"].price.sort_values(ascending=False)"
      ],
      "execution_count": 122,
      "outputs": [
        {
          "output_type": "stream",
          "name": "stdout",
          "text": [
            "(459, 15)\n"
          ]
        },
        {
          "output_type": "execute_result",
          "data": {
            "text/plain": [
              "1078    25000\n",
              "8956    24000\n",
              "6506    24000\n",
              "348     23286\n",
              "5266    23000\n",
              "        ...  \n",
              "8794     2918\n",
              "3091     2857\n",
              "8797     2755\n",
              "5058     2218\n",
              "5060     2172\n",
              "Name: price, Length: 459, dtype: int64"
            ]
          },
          "metadata": {},
          "execution_count": 122
        }
      ]
    },
    {
      "cell_type": "markdown",
      "metadata": {
        "id": "3S6UZLwgP0fg"
      },
      "source": [
        "Possui 459 imoveis"
      ]
    },
    {
      "cell_type": "markdown",
      "metadata": {
        "id": "EfDEY7gOxIkH"
      },
      "source": [
        "Região de Chuo Ku"
      ]
    },
    {
      "cell_type": "code",
      "metadata": {
        "colab": {
          "base_uri": "https://localhost:8080/"
        },
        "id": "4DdfDKgRxI_A",
        "outputId": "ad83cf33-7e93-429c-b453-80d01f5a29c0"
      },
      "source": [
        "print(df_clean[df_clean.neighbourhood == \"Chuo Ku\"].shape)\n",
        "df_clean[df_clean.neighbourhood == \"Chuo Ku\"].price.sort_values(ascending=False)"
      ],
      "execution_count": 123,
      "outputs": [
        {
          "output_type": "stream",
          "name": "stdout",
          "text": [
            "(330, 15)\n"
          ]
        },
        {
          "output_type": "execute_result",
          "data": {
            "text/plain": [
              "8405    25000\n",
              "8851    25000\n",
              "2600    25000\n",
              "9358    23000\n",
              "8752    23000\n",
              "        ...  \n",
              "9063     2000\n",
              "7525     2000\n",
              "7524     2000\n",
              "7523     2000\n",
              "7514     2000\n",
              "Name: price, Length: 330, dtype: int64"
            ]
          },
          "metadata": {},
          "execution_count": 123
        }
      ]
    },
    {
      "cell_type": "markdown",
      "metadata": {
        "id": "1g2Z05UfP3po"
      },
      "source": [
        "Possui 330 imoveis "
      ]
    },
    {
      "cell_type": "markdown",
      "metadata": {
        "id": "kUYzgohEQMtB"
      },
      "source": [
        "## **Grafico baseado na latitude e longitude em relação ao preço**"
      ]
    },
    {
      "cell_type": "code",
      "metadata": {
        "id": "UxVJqJ_3W59I",
        "colab": {
          "base_uri": "https://localhost:8080/",
          "height": 469
        },
        "outputId": "4db8118c-8efe-40d1-ef3b-ba47a7a1bb02"
      },
      "source": [
        "# plotar os imóveis pela latitude-longitude\n",
        "df_clean.plot(kind=\"scatter\", x='longitude', y='latitude', alpha=0.4, c=df_clean['price'], s=8,\n",
        "              cmap=plt.get_cmap('jet'), figsize=(12,8));"
      ],
      "execution_count": 124,
      "outputs": [
        {
          "output_type": "display_data",
          "data": {
            "image/png": "[encoded data removed]",
            "text/plain": [
              "<Figure size 864x576 with 2 Axes>"
            ]
          },
          "metadata": {
            "needs_background": "light"
          }
        }
      ]
    },
    {
      "cell_type": "markdown",
      "metadata": {
        "id": "GCHMKhhBBycA"
      },
      "source": [
        "Nota-se que a maioria dos alugueis estão com pontos azuis, o que repesenta valores mais inferiores, enquanto os valores mais avermelhados são valores mais altos."
      ]
    },
    {
      "cell_type": "markdown",
      "metadata": {
        "id": "vTneAMRUYvr1"
      },
      "source": [
        "## **Qual é a média do mínimo de noites para aluguel ?**"
      ]
    },
    {
      "cell_type": "code",
      "metadata": {
        "id": "_VzNhrEgY82N",
        "colab": {
          "base_uri": "https://localhost:8080/"
        },
        "outputId": "197cc9a2-5ec8-4cf3-ca1d-f8a312a658ac"
      },
      "source": [
        "# ver a média da coluna `minimum_nights``\n",
        "print('Média de numero de noites mínima: {:.0f}'.format(df_clean.minimum_nights.mean()))"
      ],
      "execution_count": 125,
      "outputs": [
        {
          "output_type": "stream",
          "name": "stdout",
          "text": [
            "Média de numero de noites mínima: 1\n"
          ]
        }
      ]
    },
    {
      "cell_type": "markdown",
      "metadata": {
        "id": "GkvAg623RjoR"
      },
      "source": [
        "# Conclusões\n",
        "\n",
        "Foi feita apenas uma análise superficial na base de dados do Airbnb, porém já se percebeu que existem *outliers* em algumas das variáveis que dificultam uma análise precisa do funcionamento do Airbnb em Tokyo. \n",
        "\n",
        "Também se notou que em algumas localidades há poucos imóveis disponíveis, o que pode distorcer as informações estatísticas de alguns atributos, nota-se tambem que ainda é possivel alugar regiões mais caras por valores menores que média, alem disso, nota-se que a media de noites minimas para se alugar um imovel no Japão é de uma noite a um valor médio de ¥8395.38.\n",
        "\n",
        "Ressalta-se tambem que os tipos de imoveis mais alugados são:\n",
        "* Entire home/apartamento com 66.24% \n",
        "* Private room com 26.01%\n",
        "* Hotel room 4.04\n",
        "* Shared room 3.69%\n",
        "\n",
        "\n"
      ]
    }
  ]
}